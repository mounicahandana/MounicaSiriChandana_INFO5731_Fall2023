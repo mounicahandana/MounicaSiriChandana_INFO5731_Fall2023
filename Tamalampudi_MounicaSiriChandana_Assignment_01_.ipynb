{
  "cells": [
    {
      "cell_type": "markdown",
      "metadata": {
        "id": "view-in-github",
        "colab_type": "text"
      },
      "source": [
        "<a href=\"https://colab.research.google.com/github/mounicahandana/MounicaSiriChandana_INFO5731_Fall2023/blob/main/Tamalampudi_MounicaSiriChandana_Assignment_01_.ipynb\" target=\"_parent\"><img src=\"https://colab.research.google.com/assets/colab-badge.svg\" alt=\"Open In Colab\"/></a>"
      ]
    },
    {
      "cell_type": "markdown",
      "metadata": {
        "id": "Ryk8D1Q4Wsrp"
      },
      "source": [
        "# **INFO5731 Assignment One**"
      ]
    },
    {
      "cell_type": "markdown",
      "metadata": {
        "id": "90_NR8c5XGWc"
      },
      "source": [
        "# Question 1\n",
        "\n",
        "(20 points). Write a Python program to generate 12 random numbers between 1 and 100. Sort the list of numbers in ascending order and print it out. Sort the list of numbers in descending order and print it out. Calculate the average for the group and print it out."
      ]
    },
    {
      "cell_type": "code",
      "execution_count": 2,
      "metadata": {
        "id": "5QX6bJjGWXY9",
        "colab": {
          "base_uri": "https://localhost:8080/"
        },
        "outputId": "c42192d0-81e4-4882-b11d-5b2e002cf229"
      },
      "outputs": [
        {
          "output_type": "stream",
          "name": "stdout",
          "text": [
            "Random Numbers: [4, 88, 23, 84, 69, 59, 52, 50, 89, 73, 74, 90]\n",
            "Ascending Sorted: [4, 23, 50, 52, 59, 69, 73, 74, 84, 88, 89, 90]\n",
            "Descending Sorted: [90, 89, 88, 84, 74, 73, 69, 59, 52, 50, 23, 4]\n",
            "Average: 62.916666666666664\n"
          ]
        }
      ],
      "source": [
        "# Your code here\n",
        "import random\n",
        "\n",
        "# The generation of twelve random numbers between one and one hundred\n",
        "rand_numbers = [random.randint(1, 100) for i in range(12)]\n",
        "print(\"Random Numbers:\", rand_numbers)\n",
        "\n",
        "\n",
        "# Putting the list in order from top to bottom\n",
        "ascending_sort = sorted(rand_numbers)\n",
        "print(\"Ascending Sorted:\", ascending_sort)\n",
        "\n",
        "\n",
        "# Sorting the list from highest to lowest\n",
        "descending_sort = sorted(rand_numbers, reverse=True)\n",
        "print(\"Descending Sorted:\", descending_sort)\n",
        "\n",
        "# Getting the average\n",
        "total = sum(rand_numbers)\n",
        "avg = total / len(rand_numbers)\n",
        "\n",
        "# Printing the average\n",
        "print(\"Average:\", avg)\n",
        "\n"
      ]
    },
    {
      "cell_type": "markdown",
      "metadata": {
        "id": "1F_PZdH9Sh49"
      },
      "source": [
        "# Question 2\n",
        "(25 points).\n",
        "\n",
        "Write a program that will do the following string formatting tasks:\n",
        "\n",
        "(1) Ask the user to enter two sentences.\n",
        "\n",
        "(2) Make each sentence into a list. Each element in the list should correspond to a word in the sentence. For example, if the sentence is \"Alas! Am I alive? This is my first python program\", the program should print out ['Alas, '!', 'Am', 'I', 'alive, '?', 'This', 'is', 'my', 'first', 'python', 'program'].\n",
        "\n",
        "(3) Compare the two sentences. Print out a list of words that occur in both sentences.\n",
        "\n",
        "(4) Remove any punctuation from the sentence and print it back out. It should remove at least the following characters, but it can remove more: period(“.”), comma (“,”), semicolon (“;”), and colon (“:”)\n",
        "\n",
        "(5) Count the number of vowels in the sentences. Print out each vowel and the number of times it appears in the sentences, such as: a:2, e:1, i:0, etc"
      ]
    },
    {
      "cell_type": "code",
      "source": [
        "from google.colab import drive\n",
        "drive.mount('/content/drive')"
      ],
      "metadata": {
        "colab": {
          "base_uri": "https://localhost:8080/"
        },
        "id": "8eFsU0Rvi7dl",
        "outputId": "3d2c1d3e-ccf1-4237-c114-e56d5ed8c2f4"
      },
      "execution_count": 3,
      "outputs": [
        {
          "output_type": "stream",
          "name": "stdout",
          "text": [
            "Mounted at /content/drive\n"
          ]
        }
      ]
    },
    {
      "cell_type": "code",
      "execution_count": 4,
      "metadata": {
        "colab": {
          "base_uri": "https://localhost:8080/"
        },
        "id": "LDS-Z-ykh-lQ",
        "outputId": "c64556e3-f55e-437c-cc10-590a9081b6aa"
      },
      "outputs": [
        {
          "output_type": "stream",
          "name": "stdout",
          "text": [
            "Enter the first sentence: hi am i Alive ?\n",
            "Enter the second sentence: hi am i Alive ? yes !\n",
            "Word List 1: ['hi', 'am', 'i', 'alive', '?']\n",
            "Word List 2: ['hi', 'am', 'i', 'alive', '?', 'yes', '!']\n",
            "Common Words: ['hi', 'alive', 'i', 'am', '?']\n",
            "Sentence 1 without punctuation: hi am i alive \n",
            "Sentence 2 without punctuation: hi am i alive  yes \n",
            "Vowel Counts in Sentence 1: {'a': 2, 'e': 1, 'i': 3, 'o': 0, 'u': 0}\n",
            "Vowel Counts in Sentence 2: {'a': 2, 'e': 2, 'i': 3, 'o': 0, 'u': 0}\n",
            "Vowel Counts in Common Words:\n",
            "hi: {'a': 0, 'e': 0, 'i': 1, 'o': 0, 'u': 0}\n",
            "alive: {'a': 1, 'e': 1, 'i': 1, 'o': 0, 'u': 0}\n",
            "i: {'a': 0, 'e': 0, 'i': 1, 'o': 0, 'u': 0}\n",
            "am: {'a': 1, 'e': 0, 'i': 0, 'o': 0, 'u': 0}\n",
            "?: {'a': 0, 'e': 0, 'i': 0, 'o': 0, 'u': 0}\n"
          ]
        }
      ],
      "source": [
        "import string\n",
        "\n",
        "# Prompt the user for input sentences\n",
        "input_sentence1 = input(\"Enter the first sentence: \")\n",
        "input_sentence2 = input(\"Enter the second sentence: \")\n",
        "\n",
        "# Split each sentence into a list of words, including punctuation\n",
        "def sentence_to_word_list(sentence):\n",
        "    words = []\n",
        "    word = ''\n",
        "    for char in sentence:\n",
        "        if char.isalnum() or char in string.punctuation:\n",
        "            word += char\n",
        "        else:\n",
        "            if word:\n",
        "                words.append(word.lower())  # Convert to lowercase\n",
        "            word = ''\n",
        "    if word:\n",
        "        words.append(word.lower())  # Convert to lowercase\n",
        "    return words\n",
        "\n",
        "word_list1 = sentence_to_word_list(input_sentence1)\n",
        "word_list2 = sentence_to_word_list(input_sentence2)\n",
        "\n",
        "# Find common words between the two sentences\n",
        "common_words = set(word_list1) & set(word_list2)\n",
        "\n",
        "# Remove punctuation from the sentences\n",
        "def remove_punctuation(sentence):\n",
        "    for char in string.punctuation:\n",
        "        sentence = sentence.replace(char, '')\n",
        "    return sentence\n",
        "\n",
        "sentence1_no_punct = remove_punctuation(input_sentence1)\n",
        "sentence2_no_punct = remove_punctuation(input_sentence2)\n",
        "\n",
        "# Count the number of vowels in the sentences after converting to lowercase\n",
        "vowels = \"aeiou\"\n",
        "sentence1_no_punct = sentence1_no_punct.lower()\n",
        "sentence2_no_punct = sentence2_no_punct.lower()\n",
        "\n",
        "vowel_counts_sentence1 = {vowel: sentence1_no_punct.count(vowel) for vowel in vowels}\n",
        "vowel_counts_sentence2 = {vowel: sentence2_no_punct.count(vowel) for vowel in vowels}\n",
        "\n",
        "# Print the results\n",
        "print(\"Word List 1:\", word_list1)\n",
        "print(\"Word List 2:\", word_list2)\n",
        "print(\"Common Words:\", list(common_words))\n",
        "print(\"Sentence 1 without punctuation:\", sentence1_no_punct)\n",
        "print(\"Sentence 2 without punctuation:\", sentence2_no_punct)\n",
        "print(\"Vowel Counts in Sentence 1:\", vowel_counts_sentence1)\n",
        "print(\"Vowel Counts in Sentence 2:\", vowel_counts_sentence2)\n",
        "\n",
        "# Count the number of vowels in common words between sentences\n",
        "common_words_vowel_counts = {}\n",
        "\n",
        "for word in common_words:\n",
        "    vowel_counts = {vowel: word.count(vowel) for vowel in vowels}\n",
        "    common_words_vowel_counts[word] = vowel_counts\n",
        "\n",
        "# Print the vowel counts for common words\n",
        "print(\"Vowel Counts in Common Words:\")\n",
        "for word, vowel_counts in common_words_vowel_counts.items():\n",
        "    print(f\"{word}: {vowel_counts}\")\n"
      ]
    },
    {
      "cell_type": "markdown",
      "metadata": {
        "id": "CmFoI4jDS9nx"
      },
      "source": [
        "# Question 3\n",
        "\n",
        "(15 points). The formula that describes the volume V of a sphere with radius r is the following:\n",
        "\n",
        "$ V=\\frac{4}{3}\\ast\\ \\pi\\ast\\ r^3 $\n",
        "\n",
        "Write a program to calculate the value of V when r is in the range of 1–10. Output the result in the following format:\n",
        "\n",
        "\tr\tV\n",
        "\t1\t…\n",
        "\t2\t…\n",
        "\t3\t…\n"
      ]
    },
    {
      "cell_type": "code",
      "execution_count": 6,
      "metadata": {
        "id": "pEyqeioAT95b",
        "colab": {
          "base_uri": "https://localhost:8080/"
        },
        "outputId": "2f9d06f6-b3b6-4e90-a15a-170032707db7"
      },
      "outputs": [
        {
          "output_type": "stream",
          "name": "stdout",
          "text": [
            "r    V\n",
            "1    4.19\n",
            "2    33.51\n",
            "3    113.10\n",
            "4    268.08\n",
            "5    523.60\n",
            "6    904.78\n",
            "7    1436.76\n",
            "8    2144.66\n",
            "9    3053.63\n",
            "10    4188.79\n"
          ]
        }
      ],
      "source": [
        "# Your code here\n",
        "import math\n",
        "\n",
        "# Make the heading\n",
        "print(\"r    V\")\n",
        "\n",
        "# Iterate over the range of radius from 1 to 10\n",
        "for i in range(1, 11):\n",
        "    # Calculate the volume using the formula\n",
        "    V = (4/3) * math.pi * (i ** 3)\n",
        "\n",
        "    # Print the radius r and the calculated volume V\n",
        "    print(f\"{i}    {V:.2f}\")\n",
        "\n"
      ]
    },
    {
      "cell_type": "markdown",
      "metadata": {
        "id": "z3tBE7E-Xn5X"
      },
      "source": [
        "# Question 4\n",
        "\n",
        "(40 points). In the field of Data Science, data is often formatted as a comma-delimited (CSV) file, where each line in a file corresponds to a field's value. Refer to Chapter 9 (p. 106) for more information on comma-delimited files. To answer this question, you will need to download the file [Assignment1_denton_housing.csv](https://raw.githubusercontent.com/unt-iialab/info5731-spring2022/main/assignments/Assignment1_denton_housing.csv) included with this assignment. The file [Assignment1_denton_housing.csv](https://raw.githubusercontent.com/unt-iialab/info5731-spring2022/main/assignments/Assignment1_denton_housing.csv) contains statistics about housing in the city of Denton from 2008 to 2014. Write a program to implement the following questions.\n",
        "\n",
        "(1) (10 pts) Calculate the difference in the number of Occupied Housing Units from year to year and print it. The difference must be calculated for the consecutive years such as 2008-2009, 2009-2010 etc. Finally, print the values in the ascending order.\n",
        "\n",
        "(2) (10 pts) For all the years, calculate the percentage of housing units which are vacant an occupied. Print the results in the following format:\n",
        "\n",
        "Year Vacant Housing Units Occupied Housing Units\n",
        "\n",
        "    2008  30%   70%                          \n",
        "\t2009 ----- -----\n",
        "\t2010 ----- -----\n",
        "    2011 ----- -----\n",
        "\t2012 ----- -----\n",
        "    2013 ----- -----\n",
        "\t2014 ----- -----\n",
        "  \n",
        "  \n",
        "\n",
        "(3) (10 pts) Calculate and print the valued and years in which the highest number of housing units were vacant and occupied. Print the results in the following format:  \n",
        "\n",
        "                              Year\tValue\n",
        "\tVacant Housing Units\t  -----   -----\n",
        "\tOccupied Housing Units\t-----   -----\n",
        "\n",
        "(4) (10 pts) Calculate the harmonic mean of the total housing units and print it out. You can find the information about harmonic mean here: https://ncalculators.com/statistics/harmonic-mean-calculator.htm"
      ]
    },
    {
      "cell_type": "code",
      "execution_count": 7,
      "metadata": {
        "id": "lqGYuHBhcsRH",
        "colab": {
          "base_uri": "https://localhost:8080/",
          "height": 206
        },
        "outputId": "a8cad9d8-035e-41ef-905d-f8bf89484646"
      },
      "outputs": [
        {
          "output_type": "execute_result",
          "data": {
            "text/plain": [
              "   year             title_field  value\n",
              "0  2014     Total Housing Units  49109\n",
              "1  2014    Vacant Housing Units   2814\n",
              "2  2014  Occupied Housing Units  46295\n",
              "3  2013     Total Housing Units  47888\n",
              "4  2013    Vacant Housing Units   4215"
            ],
            "text/html": [
              "\n",
              "  <div id=\"df-2066833f-8a23-4f17-bca9-fcf6bfbe4a96\" class=\"colab-df-container\">\n",
              "    <div>\n",
              "<style scoped>\n",
              "    .dataframe tbody tr th:only-of-type {\n",
              "        vertical-align: middle;\n",
              "    }\n",
              "\n",
              "    .dataframe tbody tr th {\n",
              "        vertical-align: top;\n",
              "    }\n",
              "\n",
              "    .dataframe thead th {\n",
              "        text-align: right;\n",
              "    }\n",
              "</style>\n",
              "<table border=\"1\" class=\"dataframe\">\n",
              "  <thead>\n",
              "    <tr style=\"text-align: right;\">\n",
              "      <th></th>\n",
              "      <th>year</th>\n",
              "      <th>title_field</th>\n",
              "      <th>value</th>\n",
              "    </tr>\n",
              "  </thead>\n",
              "  <tbody>\n",
              "    <tr>\n",
              "      <th>0</th>\n",
              "      <td>2014</td>\n",
              "      <td>Total Housing Units</td>\n",
              "      <td>49109</td>\n",
              "    </tr>\n",
              "    <tr>\n",
              "      <th>1</th>\n",
              "      <td>2014</td>\n",
              "      <td>Vacant Housing Units</td>\n",
              "      <td>2814</td>\n",
              "    </tr>\n",
              "    <tr>\n",
              "      <th>2</th>\n",
              "      <td>2014</td>\n",
              "      <td>Occupied Housing Units</td>\n",
              "      <td>46295</td>\n",
              "    </tr>\n",
              "    <tr>\n",
              "      <th>3</th>\n",
              "      <td>2013</td>\n",
              "      <td>Total Housing Units</td>\n",
              "      <td>47888</td>\n",
              "    </tr>\n",
              "    <tr>\n",
              "      <th>4</th>\n",
              "      <td>2013</td>\n",
              "      <td>Vacant Housing Units</td>\n",
              "      <td>4215</td>\n",
              "    </tr>\n",
              "  </tbody>\n",
              "</table>\n",
              "</div>\n",
              "    <div class=\"colab-df-buttons\">\n",
              "\n",
              "  <div class=\"colab-df-container\">\n",
              "    <button class=\"colab-df-convert\" onclick=\"convertToInteractive('df-2066833f-8a23-4f17-bca9-fcf6bfbe4a96')\"\n",
              "            title=\"Convert this dataframe to an interactive table.\"\n",
              "            style=\"display:none;\">\n",
              "\n",
              "  <svg xmlns=\"http://www.w3.org/2000/svg\" height=\"24px\" viewBox=\"0 -960 960 960\">\n",
              "    <path d=\"M120-120v-720h720v720H120Zm60-500h600v-160H180v160Zm220 220h160v-160H400v160Zm0 220h160v-160H400v160ZM180-400h160v-160H180v160Zm440 0h160v-160H620v160ZM180-180h160v-160H180v160Zm440 0h160v-160H620v160Z\"/>\n",
              "  </svg>\n",
              "    </button>\n",
              "\n",
              "  <style>\n",
              "    .colab-df-container {\n",
              "      display:flex;\n",
              "      gap: 12px;\n",
              "    }\n",
              "\n",
              "    .colab-df-convert {\n",
              "      background-color: #E8F0FE;\n",
              "      border: none;\n",
              "      border-radius: 50%;\n",
              "      cursor: pointer;\n",
              "      display: none;\n",
              "      fill: #1967D2;\n",
              "      height: 32px;\n",
              "      padding: 0 0 0 0;\n",
              "      width: 32px;\n",
              "    }\n",
              "\n",
              "    .colab-df-convert:hover {\n",
              "      background-color: #E2EBFA;\n",
              "      box-shadow: 0px 1px 2px rgba(60, 64, 67, 0.3), 0px 1px 3px 1px rgba(60, 64, 67, 0.15);\n",
              "      fill: #174EA6;\n",
              "    }\n",
              "\n",
              "    .colab-df-buttons div {\n",
              "      margin-bottom: 4px;\n",
              "    }\n",
              "\n",
              "    [theme=dark] .colab-df-convert {\n",
              "      background-color: #3B4455;\n",
              "      fill: #D2E3FC;\n",
              "    }\n",
              "\n",
              "    [theme=dark] .colab-df-convert:hover {\n",
              "      background-color: #434B5C;\n",
              "      box-shadow: 0px 1px 3px 1px rgba(0, 0, 0, 0.15);\n",
              "      filter: drop-shadow(0px 1px 2px rgba(0, 0, 0, 0.3));\n",
              "      fill: #FFFFFF;\n",
              "    }\n",
              "  </style>\n",
              "\n",
              "    <script>\n",
              "      const buttonEl =\n",
              "        document.querySelector('#df-2066833f-8a23-4f17-bca9-fcf6bfbe4a96 button.colab-df-convert');\n",
              "      buttonEl.style.display =\n",
              "        google.colab.kernel.accessAllowed ? 'block' : 'none';\n",
              "\n",
              "      async function convertToInteractive(key) {\n",
              "        const element = document.querySelector('#df-2066833f-8a23-4f17-bca9-fcf6bfbe4a96');\n",
              "        const dataTable =\n",
              "          await google.colab.kernel.invokeFunction('convertToInteractive',\n",
              "                                                    [key], {});\n",
              "        if (!dataTable) return;\n",
              "\n",
              "        const docLinkHtml = 'Like what you see? Visit the ' +\n",
              "          '<a target=\"_blank\" href=https://colab.research.google.com/notebooks/data_table.ipynb>data table notebook</a>'\n",
              "          + ' to learn more about interactive tables.';\n",
              "        element.innerHTML = '';\n",
              "        dataTable['output_type'] = 'display_data';\n",
              "        await google.colab.output.renderOutput(dataTable, element);\n",
              "        const docLink = document.createElement('div');\n",
              "        docLink.innerHTML = docLinkHtml;\n",
              "        element.appendChild(docLink);\n",
              "      }\n",
              "    </script>\n",
              "  </div>\n",
              "\n",
              "\n",
              "<div id=\"df-16544e4a-8ac1-44a4-a410-4abf10bd92e5\">\n",
              "  <button class=\"colab-df-quickchart\" onclick=\"quickchart('df-16544e4a-8ac1-44a4-a410-4abf10bd92e5')\"\n",
              "            title=\"Suggest charts.\"\n",
              "            style=\"display:none;\">\n",
              "\n",
              "<svg xmlns=\"http://www.w3.org/2000/svg\" height=\"24px\"viewBox=\"0 0 24 24\"\n",
              "     width=\"24px\">\n",
              "    <g>\n",
              "        <path d=\"M19 3H5c-1.1 0-2 .9-2 2v14c0 1.1.9 2 2 2h14c1.1 0 2-.9 2-2V5c0-1.1-.9-2-2-2zM9 17H7v-7h2v7zm4 0h-2V7h2v10zm4 0h-2v-4h2v4z\"/>\n",
              "    </g>\n",
              "</svg>\n",
              "  </button>\n",
              "\n",
              "<style>\n",
              "  .colab-df-quickchart {\n",
              "      --bg-color: #E8F0FE;\n",
              "      --fill-color: #1967D2;\n",
              "      --hover-bg-color: #E2EBFA;\n",
              "      --hover-fill-color: #174EA6;\n",
              "      --disabled-fill-color: #AAA;\n",
              "      --disabled-bg-color: #DDD;\n",
              "  }\n",
              "\n",
              "  [theme=dark] .colab-df-quickchart {\n",
              "      --bg-color: #3B4455;\n",
              "      --fill-color: #D2E3FC;\n",
              "      --hover-bg-color: #434B5C;\n",
              "      --hover-fill-color: #FFFFFF;\n",
              "      --disabled-bg-color: #3B4455;\n",
              "      --disabled-fill-color: #666;\n",
              "  }\n",
              "\n",
              "  .colab-df-quickchart {\n",
              "    background-color: var(--bg-color);\n",
              "    border: none;\n",
              "    border-radius: 50%;\n",
              "    cursor: pointer;\n",
              "    display: none;\n",
              "    fill: var(--fill-color);\n",
              "    height: 32px;\n",
              "    padding: 0;\n",
              "    width: 32px;\n",
              "  }\n",
              "\n",
              "  .colab-df-quickchart:hover {\n",
              "    background-color: var(--hover-bg-color);\n",
              "    box-shadow: 0 1px 2px rgba(60, 64, 67, 0.3), 0 1px 3px 1px rgba(60, 64, 67, 0.15);\n",
              "    fill: var(--button-hover-fill-color);\n",
              "  }\n",
              "\n",
              "  .colab-df-quickchart-complete:disabled,\n",
              "  .colab-df-quickchart-complete:disabled:hover {\n",
              "    background-color: var(--disabled-bg-color);\n",
              "    fill: var(--disabled-fill-color);\n",
              "    box-shadow: none;\n",
              "  }\n",
              "\n",
              "  .colab-df-spinner {\n",
              "    border: 2px solid var(--fill-color);\n",
              "    border-color: transparent;\n",
              "    border-bottom-color: var(--fill-color);\n",
              "    animation:\n",
              "      spin 1s steps(1) infinite;\n",
              "  }\n",
              "\n",
              "  @keyframes spin {\n",
              "    0% {\n",
              "      border-color: transparent;\n",
              "      border-bottom-color: var(--fill-color);\n",
              "      border-left-color: var(--fill-color);\n",
              "    }\n",
              "    20% {\n",
              "      border-color: transparent;\n",
              "      border-left-color: var(--fill-color);\n",
              "      border-top-color: var(--fill-color);\n",
              "    }\n",
              "    30% {\n",
              "      border-color: transparent;\n",
              "      border-left-color: var(--fill-color);\n",
              "      border-top-color: var(--fill-color);\n",
              "      border-right-color: var(--fill-color);\n",
              "    }\n",
              "    40% {\n",
              "      border-color: transparent;\n",
              "      border-right-color: var(--fill-color);\n",
              "      border-top-color: var(--fill-color);\n",
              "    }\n",
              "    60% {\n",
              "      border-color: transparent;\n",
              "      border-right-color: var(--fill-color);\n",
              "    }\n",
              "    80% {\n",
              "      border-color: transparent;\n",
              "      border-right-color: var(--fill-color);\n",
              "      border-bottom-color: var(--fill-color);\n",
              "    }\n",
              "    90% {\n",
              "      border-color: transparent;\n",
              "      border-bottom-color: var(--fill-color);\n",
              "    }\n",
              "  }\n",
              "</style>\n",
              "\n",
              "  <script>\n",
              "    async function quickchart(key) {\n",
              "      const quickchartButtonEl =\n",
              "        document.querySelector('#' + key + ' button');\n",
              "      quickchartButtonEl.disabled = true;  // To prevent multiple clicks.\n",
              "      quickchartButtonEl.classList.add('colab-df-spinner');\n",
              "      try {\n",
              "        const charts = await google.colab.kernel.invokeFunction(\n",
              "            'suggestCharts', [key], {});\n",
              "      } catch (error) {\n",
              "        console.error('Error during call to suggestCharts:', error);\n",
              "      }\n",
              "      quickchartButtonEl.classList.remove('colab-df-spinner');\n",
              "      quickchartButtonEl.classList.add('colab-df-quickchart-complete');\n",
              "    }\n",
              "    (() => {\n",
              "      let quickchartButtonEl =\n",
              "        document.querySelector('#df-16544e4a-8ac1-44a4-a410-4abf10bd92e5 button');\n",
              "      quickchartButtonEl.style.display =\n",
              "        google.colab.kernel.accessAllowed ? 'block' : 'none';\n",
              "    })();\n",
              "  </script>\n",
              "</div>\n",
              "    </div>\n",
              "  </div>\n"
            ]
          },
          "metadata": {},
          "execution_count": 7
        }
      ],
      "source": [
        "# Your code here\n",
        "import pandas as pd\n",
        "\n",
        "df = pd.read_csv(\"Assignment1_denton_housing.csv\")\n",
        "df.head()\n"
      ]
    },
    {
      "cell_type": "code",
      "execution_count": 8,
      "metadata": {
        "colab": {
          "base_uri": "https://localhost:8080/"
        },
        "id": "Ke7-pULBh-lS",
        "outputId": "39c7ab0f-1b75-4d15-e01f-afc8976027ae"
      },
      "outputs": [
        {
          "output_type": "execute_result",
          "data": {
            "text/plain": [
              "(42, 3)"
            ]
          },
          "metadata": {},
          "execution_count": 8
        }
      ],
      "source": [
        "df.shape"
      ]
    },
    {
      "cell_type": "code",
      "execution_count": 9,
      "metadata": {
        "colab": {
          "base_uri": "https://localhost:8080/"
        },
        "id": "iZ6xG4pth-lS",
        "outputId": "d59a80a9-2f04-4698-b65b-c67f15e71eab"
      },
      "outputs": [
        {
          "output_type": "execute_result",
          "data": {
            "text/plain": [
              "year           0\n",
              "title_field    0\n",
              "value          0\n",
              "dtype: int64"
            ]
          },
          "metadata": {},
          "execution_count": 9
        }
      ],
      "source": [
        "df.isnull().sum()"
      ]
    },
    {
      "cell_type": "markdown",
      "metadata": {
        "id": "IyAcfyD_h-lS"
      },
      "source": [
        "### 1"
      ]
    },
    {
      "cell_type": "code",
      "execution_count": 10,
      "metadata": {
        "colab": {
          "base_uri": "https://localhost:8080/"
        },
        "id": "N_GSjogJh-lS",
        "outputId": "cbe78aa9-1ea1-4c9d-f5a5-8185afd029f4"
      },
      "outputs": [
        {
          "output_type": "stream",
          "name": "stdout",
          "text": [
            "2009-2010: -795\n",
            "2011-2012: -303\n",
            "2012-2013: 1404\n",
            "2013-2014: 1565\n",
            "2014-2015: 2622\n",
            "2010-2011: 5091\n"
          ]
        }
      ],
      "source": [
        "# Sort the DataFrame by the 'year' column in ascending order\n",
        "sorted_df = df.sort_values(by='year')\n",
        "\n",
        "# Create a new DataFrame containing data for 'Occupied Housing Units'\n",
        "occupied_housing_units = sorted_df[sorted_df['title_field'] == 'Occupied Housing Units'].copy()\n",
        "\n",
        "# Calculate the difference in occupied housing units from the previous year\n",
        "occupied_housing_units['Occupied Housing Units Difference'] = occupied_housing_units['value'].diff()\n",
        "\n",
        "# Create a DataFrame to store the year and the corresponding difference\n",
        "differences_df = occupied_housing_units[['year', 'Occupied Housing Units Difference']].dropna().astype({'year': int})\n",
        "\n",
        "# Sort the DataFrame by the difference in ascending order\n",
        "differences_df.sort_values(by='Occupied Housing Units Difference', ascending=True, inplace=True)\n",
        "\n",
        "# Iterate through the DataFrame and print the year ranges and differences\n",
        "for index, row in differences_df.iterrows():\n",
        "    start_year = row['year']\n",
        "    end_year = int(start_year) + 1\n",
        "    difference = int(row['Occupied Housing Units Difference'])\n",
        "    print(f\"{int(start_year)}-{end_year}: {difference}\")\n"
      ]
    },
    {
      "cell_type": "markdown",
      "metadata": {
        "id": "b2ncQM3Ch-lT"
      },
      "source": [
        "### 2"
      ]
    },
    {
      "cell_type": "code",
      "execution_count": 11,
      "metadata": {
        "colab": {
          "base_uri": "https://localhost:8080/"
        },
        "id": "sGXUpJ77h-lT",
        "outputId": "44f45dd4-0020-4860-f6cf-6c83e605ed9d"
      },
      "outputs": [
        {
          "output_type": "stream",
          "name": "stdout",
          "text": [
            " Year  Vacant Housing Units  Occupied Housing Units\n",
            " 2008                   11%                     89%\n",
            " 2009                    9%                     91%\n",
            " 2010                    8%                     92%\n",
            " 2011                    9%                     91%\n",
            " 2012                    7%                     93%\n",
            " 2013                    9%                     91%\n",
            " 2014                    6%                     94%\n"
          ]
        }
      ],
      "source": [
        "# Filter the DataFrame to select only the relevant housing unit types: 'Total Housing Units', 'Vacant Housing Units', and 'Occupied Housing Units'\n",
        "filtered_housing_df = df[df['title_field'].isin(['Total Housing Units', 'Vacant Housing Units', 'Occupied Housing Units'])]\n",
        "\n",
        "# Pivot the DataFrame to transform 'year' into columns and 'title_field' as the values\n",
        "pivoted_housing_df = filtered_housing_df.pivot(index='year', columns='title_field', values='value')\n",
        "\n",
        "# Calculate the total housing units for each year by adding vacant and occupied units\n",
        "pivoted_housing_df['Total Housing Units'] = pivoted_housing_df['Vacant Housing Units'] + pivoted_housing_df['Occupied Housing Units']\n",
        "\n",
        "# Calculate the percentage of vacant and occupied housing units for each year\n",
        "pivoted_housing_df['Vacant Housing Units Percentage'] = (pivoted_housing_df['Vacant Housing Units'] / pivoted_housing_df['Total Housing Units']) * 100\n",
        "pivoted_housing_df['Occupied Housing Units Percentage'] = (pivoted_housing_df['Occupied Housing Units'] / pivoted_housing_df['Total Housing Units']) * 100\n",
        "\n",
        "# Create a resulting DataFrame for presentation\n",
        "resulting_df = pivoted_housing_df[['Vacant Housing Units Percentage', 'Occupied Housing Units Percentage']].reset_index()\n",
        "resulting_df.columns = ['Year', 'Vacant Housing Units', 'Occupied Housing Units']\n",
        "\n",
        "# Print the results with proper formatting\n",
        "print(resulting_df.to_string(index=False, na_rep='-----', float_format='%.0f%%'))\n"
      ]
    },
    {
      "cell_type": "markdown",
      "metadata": {
        "id": "L8MfiiPwh-lT"
      },
      "source": [
        "### 3"
      ]
    },
    {
      "cell_type": "code",
      "execution_count": 12,
      "metadata": {
        "colab": {
          "base_uri": "https://localhost:8080/"
        },
        "id": "U7x_wEnih-lT",
        "outputId": "7aec2bf9-8129-4c38-90ad-4ccd1ce9ddab"
      },
      "outputs": [
        {
          "output_type": "stream",
          "name": "stdout",
          "text": [
            "                        Year  Value\n",
            "Vacant Housing Units    2008   4483\n",
            "Occupied Housing Units  2014  46295\n"
          ]
        }
      ],
      "source": [
        "# Pivot the DataFrame to restructure it with years as columns and 'Vacant Housing Units' and 'Occupied Housing Units' as values\n",
        "housing_units_pivot = df.pivot(index='year', columns='title_field', values='value')\n",
        "\n",
        "# Find the year with the highest number of vacant housing units\n",
        "year_with_highest_vacancy = housing_units_pivot['Vacant Housing Units'].idxmax()\n",
        "highest_vacant_units_value = housing_units_pivot['Vacant Housing Units'].max()\n",
        "\n",
        "# Find the year with the highest number of occupied housing units\n",
        "year_with_highest_occupation = housing_units_pivot['Occupied Housing Units'].idxmax()\n",
        "highest_occupied_units_value = housing_units_pivot['Occupied Housing Units'].max()\n",
        "\n",
        "# Create a DataFrame to store and present the results\n",
        "results_df = pd.DataFrame({\n",
        "    'Year': [year_with_highest_vacancy, year_with_highest_occupation],\n",
        "    'Value': [highest_vacant_units_value, highest_occupied_units_value]\n",
        "})\n",
        "\n",
        "# Rename the index values for better readability\n",
        "results_df.index = ['Vacant Housing Units ', 'Occupied Housing Units']\n",
        "\n",
        "# Print the results\n",
        "print(results_df.to_string(index=True, header=True))\n"
      ]
    },
    {
      "cell_type": "markdown",
      "metadata": {
        "id": "Am7NeD91h-lT"
      },
      "source": [
        "### 4"
      ]
    },
    {
      "cell_type": "code",
      "execution_count": 13,
      "metadata": {
        "colab": {
          "base_uri": "https://localhost:8080/"
        },
        "id": "w0wy8QT0h-lT",
        "outputId": "8208e023-5926-4a4f-c039-9b1515f47930"
      },
      "outputs": [
        {
          "output_type": "stream",
          "name": "stdout",
          "text": [
            "Harmonic Mean of Total Housing Units: 44398.28543969185\n"
          ]
        }
      ],
      "source": [
        "import statistics\n",
        "\n",
        "# Filter the DataFrame to isolate data for 'Total Housing Units' and convert it to a list\n",
        "housing_units_values = df[df['title_field'] == 'Total Housing Units']['value'].tolist()\n",
        "\n",
        "# Calculate the harmonic mean using the statistics module\n",
        "harmonic_mean_result = statistics.harmonic_mean(housing_units_values)\n",
        "\n",
        "# Print the calculated harmonic mean\n",
        "print(\"Harmonic Mean of Total Housing Units:\", harmonic_mean_result)\n"
      ]
    },
    {
      "cell_type": "markdown",
      "metadata": {
        "id": "1xN3pgb1h-lT"
      },
      "source": [
        "### Thank you!"
      ]
    }
  ],
  "metadata": {
    "colab": {
      "provenance": [],
      "include_colab_link": true
    },
    "kernelspec": {
      "display_name": "Python 3 (ipykernel)",
      "language": "python",
      "name": "python3"
    },
    "language_info": {
      "codemirror_mode": {
        "name": "ipython",
        "version": 3
      },
      "file_extension": ".py",
      "mimetype": "text/x-python",
      "name": "python",
      "nbconvert_exporter": "python",
      "pygments_lexer": "ipython3",
      "version": "3.10.9"
    }
  },
  "nbformat": 4,
  "nbformat_minor": 0
}