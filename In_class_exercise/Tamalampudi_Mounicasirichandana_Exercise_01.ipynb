{
  "cells": [
    {
      "cell_type": "markdown",
      "metadata": {
        "id": "view-in-github",
        "colab_type": "text"
      },
      "source": [
        "<a href=\"https://colab.research.google.com/github/mounicahandana/MounicaSiriChandana_INFO5731_Fall2023/blob/main/In_class_exercise/Tamalampudi_Mounicasirichandana_Exercise_01.ipynb\" target=\"_parent\"><img src=\"https://colab.research.google.com/assets/colab-badge.svg\" alt=\"Open In Colab\"/></a>"
      ]
    },
    {
      "cell_type": "markdown",
      "metadata": {
        "id": "DymRJbxDBCnf"
      },
      "source": [
        "# **The first In-class-exercise (08/30/2023, 40 points in total)**\n",
        "This exercise is due tomorrow 08/31/203 11:59 PM.\n"
      ]
    },
    {
      "cell_type": "markdown",
      "source": [
        "(1) Write a Python program to calculate the area of a rectangle using user-input length and width."
      ],
      "metadata": {
        "id": "FBKvD6O_TY6e"
      }
    },
    {
      "cell_type": "code",
      "source": [
        "# The Input() function will be used to request the values for the rectangle's dimensions(length and width) from the user.\n",
        "# The float() function will be used to  convert string to float.\n",
        "\n",
        "length = float(input(\"Enter the length of rectangle: \"))\n",
        "width = float(input(\"Enter the width of  rectangle: \"))\n",
        "\n",
        "# Area of Rectangle Calculation\n",
        "area = length * width # The area of a rectangle is found by multiplying its length by its width.\n",
        "\n",
        "# displaying the output using print()\n",
        "print(f\"The area of the rectangle is: {area}\") #displaying the calculated area using f-string."
      ],
      "metadata": {
        "id": "cikVKDXdTbzE",
        "colab": {
          "base_uri": "https://localhost:8080/"
        },
        "outputId": "1f60afa9-3422-4f79-b04e-c894e836ca37"
      },
      "execution_count": 41,
      "outputs": [
        {
          "output_type": "stream",
          "name": "stdout",
          "text": [
            "Enter the length of rectangle: 2\n",
            "Enter the width of  rectangle: 3\n",
            "The area of the rectangle is: 6.0\n"
          ]
        }
      ]
    },
    {
      "cell_type": "markdown",
      "source": [
        "(2) Create a program that takes two numbers from the user and swaps their values without using a temporary variable."
      ],
      "metadata": {
        "id": "E9RqrlwdTfvl"
      }
    },
    {
      "cell_type": "code",
      "source": [
        "#Get the two numbers from the users.\n",
        "n1 = float(input(\"Enter  first number: \"))\n",
        "n2 = float(input(\"Enter  second number: \"))\n",
        "\n",
        "# Display the values entered by the user\n",
        "print(\"values entered by the user:\")\n",
        "print(\"Number 1:\", n1)\n",
        "print(\"Number 2:\", n2)\n",
        "\n",
        "# switching the values without using temporary variable\n",
        "n1 = n1 + n2\n",
        "n2 = n1 - n2\n",
        "n1 = n1 - n2\n",
        "\n",
        "# printing the values after swapping\n",
        "print(\"After swapping:\")\n",
        "print(\"Number 1:\", n1)\n",
        "print(\"Number 2:\", n2)\n"
      ],
      "metadata": {
        "id": "4XvRknixTh1g",
        "colab": {
          "base_uri": "https://localhost:8080/"
        },
        "outputId": "c747a0e4-b4af-4e1e-b2cf-73ac8c36a627"
      },
      "execution_count": 42,
      "outputs": [
        {
          "output_type": "stream",
          "name": "stdout",
          "text": [
            "Enter  first number: 2\n",
            "Enter  second number: 3\n",
            "values entered by the user:\n",
            "Number 1: 2.0\n",
            "Number 2: 3.0\n",
            "After swapping:\n",
            "Number 1: 3.0\n",
            "Number 2: 2.0\n"
          ]
        }
      ]
    },
    {
      "cell_type": "markdown",
      "metadata": {
        "id": "03jb4GZsBkBS"
      },
      "source": [
        "(3) Write a Python program to calculate the length of a string."
      ]
    },
    {
      "cell_type": "code",
      "execution_count": 8,
      "metadata": {
        "id": "YaGLbSHHB8Ej",
        "colab": {
          "base_uri": "https://localhost:8080/"
        },
        "outputId": "d63c5038-667c-4a6c-b689-b6695cedfe43"
      },
      "outputs": [
        {
          "output_type": "stream",
          "name": "stdout",
          "text": [
            "Enter a string: mounica\n",
            "The length of the string is: 7\n"
          ]
        }
      ],
      "source": [
        "# getting input from the user by using input()\n",
        "userString = input(\"Enter a string: \")\n",
        "\n",
        "# using len() to calculate length of tehe string\n",
        "string_len = len(userString)\n",
        "\n",
        "# length of the string is displaying by using print()\n",
        "print(\"The length of the string is:\", string_len)\n"
      ]
    },
    {
      "cell_type": "markdown",
      "metadata": {
        "id": "jJDe71iLB616"
      },
      "source": [
        "(4) Write a Python program to count the number of characters in a string.\n",
        "\n",
        "Sample String : 'google.com‘,\n",
        "\n",
        "Expected Result : {'o': 3, 'g': 2, '.': 1, 'e': 1, 'l': 1, 'm': 1, 'c': 1}"
      ]
    },
    {
      "cell_type": "code",
      "execution_count": 10,
      "metadata": {
        "id": "MtKskTzbCLaU",
        "colab": {
          "base_uri": "https://localhost:8080/"
        },
        "outputId": "dde27e43-d987-4a78-8c4b-04ff4e25ec03"
      },
      "outputs": [
        {
          "output_type": "stream",
          "name": "stdout",
          "text": [
            "{'g': 2, 'o': 3, 'l': 1, 'e': 1, '.': 1, 'c': 1, 'm': 1}\n"
          ]
        }
      ],
      "source": [
        "def character_count(str):\n",
        "  \"\"\"This method counts how many times each character shows up in a string.\n",
        "\n",
        "\n",
        "  Arguments:\n",
        "    str: The string that needs counting.\n",
        "\n",
        "  Returns:\n",
        "    A dictionary that lists how often each word appears.\n",
        "\n",
        "\n",
        "  \"\"\"\n",
        "  char_count = {}\n",
        "  for char in str:\n",
        "    # Check the dictionary to see if the character already exists.\n",
        "    if char in char_count:\n",
        "      # If yes, increment 1 to count.\n",
        "      char_count[char] += 1\n",
        "    else:\n",
        "      # If not, then the character should be added to the dictionary with a value of 1.\n",
        "      char_count[char] = 1\n",
        "  return char_count\n",
        "\n",
        "\n",
        "str = \"google.com\"\n",
        "print(character_count(str))\n"
      ]
    },
    {
      "cell_type": "markdown",
      "metadata": {
        "id": "55W9AMdXCSpV"
      },
      "source": [
        "(5) Write a Python program to sum all the items in a list."
      ]
    },
    {
      "cell_type": "code",
      "execution_count": 12,
      "metadata": {
        "id": "I57NXsauCec2",
        "colab": {
          "base_uri": "https://localhost:8080/"
        },
        "outputId": "acc183a9-2394-48e5-9ea5-ac417bf23375"
      },
      "outputs": [
        {
          "output_type": "stream",
          "name": "stdout",
          "text": [
            "Enter a list of numbers separated by spaces: 2 3 4 \n",
            "The sum of the numbers is: 9\n"
          ]
        }
      ],
      "source": [
        "# getting numbers list from the user\n",
        "number_list = input(\"Enter a list of numbers separated by spaces: \").split()\n",
        "\n",
        "# convert the strings in the list with integers.\n",
        "number_list = [int(num) for num in number_list]\n",
        "\n",
        "# Initializing a variable to store the sum of all items in a list\n",
        "totalSum = 0\n",
        "\n",
        "# Finding the sum of all numbers in list\n",
        "for num in number_list:\n",
        "    totalSum += num\n",
        "\n",
        "# Display the total of all numerical values in list\n",
        "print(\"The sum of the numbers is:\", totalSum)\n"
      ]
    },
    {
      "cell_type": "markdown",
      "metadata": {
        "id": "4ulBZ6yhCi9F"
      },
      "source": [
        "(6) Write a Python program to get a string from a given string where all occurrences of its first char have been changed to '\\$', except the first char itself.\n",
        "\n",
        "Sample String : 'restart‘,\n",
        "\n",
        "Expected Result : 'resta\\$t'"
      ]
    },
    {
      "cell_type": "code",
      "execution_count": 14,
      "metadata": {
        "id": "Fj0XhwbBCw2o",
        "colab": {
          "base_uri": "https://localhost:8080/"
        },
        "outputId": "73c18a81-5a15-48ac-ffa2-8fbb6e5c0430"
      },
      "outputs": [
        {
          "output_type": "stream",
          "name": "stdout",
          "text": [
            "Original String: restart\n",
            "Altered String: resta$t\n",
            "Enter a string: raviratnam\n",
            "Modified string: ravi$atnam\n"
          ]
        }
      ],
      "source": [
        "def replacingString(str):\n",
        "    # Retrieving the first character from the input string\n",
        "    firstCharacter = str[0]\n",
        "\n",
        "    # replacing all instances of the initial character (except the first occurrence) with the symbol '$'.\n",
        "    alteredString = firstCharacter + str[1:].replace(firstCharacter, '$')\n",
        "\n",
        "    return alteredString\n",
        "\n",
        "# Here is Sample String\n",
        "sampleString = 'restart'\n",
        "\n",
        "# Calling the replacingString function and displaying the output\n",
        "result = replacingString(sampleString)\n",
        "print(\"Original String:\", sampleString)\n",
        "print(\"Altered String:\", result)\n",
        "\n",
        "\n",
        "\n",
        "\n",
        "#Alternative method\n",
        "\n",
        "\n",
        "# collecting the input string from the user\n",
        "inputString = input(\"Enter a string: \")\n",
        "\n",
        "# retrieving the first character of the string\n",
        "firstChar = inputString[0]\n",
        "\n",
        "# replacing all instances of the initial character (except the first occurrence) with the symbol '$'.\n",
        "modifiedString = firstChar + inputString[1:].replace(firstChar, '$')\n",
        "\n",
        "# Displaying the modified string\n",
        "print(\"Modified string:\", modifiedString)\n"
      ]
    },
    {
      "cell_type": "markdown",
      "source": [
        "(7) Create a program that calculates the factorial of a number using a while loop."
      ],
      "metadata": {
        "id": "qVXA3q7ET5JI"
      }
    },
    {
      "cell_type": "code",
      "source": [
        "# obtaining input from the user\n",
        "num = int(input(\"Enter a number: \"))\n",
        "\n",
        "# initializing variables\n",
        "factorial = 1  # storing 1 in factorial variable\n",
        "currentNum = num  # Keep track of the number in the loop.\n",
        "\n",
        "# Use a while loop for find out the factorial.\n",
        "while currentNum > 1:\n",
        "    factorial *= currentNum  # Multiplying the current factorial by the current number\n",
        "    currentNum -= 1  # Decrementing the current number\n",
        "\n",
        "# Display the factorial result using f string\n",
        "print(f\"The factorial of {num} is: {factorial}\")\n"
      ],
      "metadata": {
        "id": "Lbt7R6UkT7BA",
        "colab": {
          "base_uri": "https://localhost:8080/"
        },
        "outputId": "631587fc-9caf-44ee-f810-b3197252aaa4"
      },
      "execution_count": 17,
      "outputs": [
        {
          "output_type": "stream",
          "name": "stdout",
          "text": [
            "Enter a number: 3\n",
            "The factorial of 3 is: 6\n"
          ]
        }
      ]
    },
    {
      "cell_type": "markdown",
      "source": [
        "(8) Create a program that takes a list of numbers as input and outputs a new list with only the even numbers."
      ],
      "metadata": {
        "id": "6YfbzXMNT--R"
      }
    },
    {
      "cell_type": "code",
      "source": [
        "# taking input from the user and creating a list of numbers\n",
        "list1 = input(\"Enter a list of numbers separated by spaces: \")\n",
        "\n",
        "list1 = [int(x) for x in list1.split()]\n",
        "\n",
        "# creating an empty list to store even numbers\n",
        "evennumbersList = []\n",
        "\n",
        "# Looping through each number in the input list\n",
        "for number in list1:\n",
        "    if number % 2 == 0:  # Seeing if the number is odd or even\n",
        "        evennumbersList.append(number)  # Add even number to the list - evennumbersList\n",
        "\n",
        "# Printing the list of even numbers\n",
        "print(\"Even numbers list:\", evennumbersList)"
      ],
      "metadata": {
        "id": "54q7wMQPUAKu",
        "colab": {
          "base_uri": "https://localhost:8080/"
        },
        "outputId": "b1c61290-d0f2-4013-8f04-72855e23ee64"
      },
      "execution_count": 18,
      "outputs": [
        {
          "output_type": "stream",
          "name": "stdout",
          "text": [
            "Enter a list of numbers separated by spaces: 3 4 5 6\n",
            "Even numbers list: [4, 6]\n"
          ]
        }
      ]
    },
    {
      "cell_type": "markdown",
      "metadata": {
        "id": "_bIP7s1MCzue"
      },
      "source": [
        "(9) Write a program with python which could accept two parameter a and b to calculate and output the result of S, where\n",
        "\n",
        "$\\ S=3.14*(1+a/b)^3$\n",
        "\n"
      ]
    },
    {
      "cell_type": "code",
      "execution_count": 19,
      "metadata": {
        "id": "w79QilHXD3Mg",
        "colab": {
          "base_uri": "https://localhost:8080/"
        },
        "outputId": "c5619e3f-36d3-4ffc-a4f4-beb0f3444e12"
      },
      "outputs": [
        {
          "output_type": "stream",
          "name": "stdout",
          "text": [
            "Enter the value of 'a': 2\n",
            "Enter the value of 'b': 3\n",
            "The result of S: 14.537037037037033\n"
          ]
        }
      ],
      "source": [
        "# taking 'a' and 'b' from the user's input.\n",
        "a = float(input(\"Enter the value of 'a': \"))\n",
        "b = float(input(\"Enter the value of 'b': \"))\n",
        "\n",
        "#  using the formula given calculate the value of 'S'\n",
        "S = 3.14 * (1 + a / b) ** 3\n",
        "\n",
        "# displaying the result of 'S'\n",
        "print(\"The result of S:\", S)\n",
        "\n",
        "\n",
        "#Alternative method\n",
        "# calculateS Function to calculate S using the provided formula and return S\n",
        "def calculateS(a, b):\n",
        "    S = 3.14 * (1 + a / b) ** 3\n",
        "    return S\n",
        "\n",
        "# taking input values for 'a' and 'b' from the user using input() and convert them into float and storing in variables 'a' and 'b'\n",
        "a = float(input(\"Enter the value of 'a': \"))\n",
        "b = float(input(\"Enter the value of 'b': \"))\n",
        "\n",
        "# Calling the calculateS function to get the output and storing in result variable\n",
        "result = calculateS(a, b)\n",
        "\n",
        "# displaying the result of 'S'\n",
        "print(\"The result of S:\", result)"
      ]
    },
    {
      "cell_type": "markdown",
      "metadata": {
        "id": "xCa2bK9aD4Q3"
      },
      "source": [
        "(10) Write a Python program to concatenate following dictionaries to create a new one.\n",
        "\n",
        "Sample Dictionary : dic1={1:10, 2:20}, dic2={3:30, 4:40}, dic3={5:50,6:60},\n",
        "\n",
        "Expected Result : {1: 10, 2: 20, 3: 30, 4: 40, 5: 50, 6: 60}\n"
      ]
    },
    {
      "cell_type": "code",
      "execution_count": 20,
      "metadata": {
        "id": "_z4aLqAbEET1",
        "colab": {
          "base_uri": "https://localhost:8080/"
        },
        "outputId": "22e7065f-fd4e-4065-c443-67eedc28d86a"
      },
      "outputs": [
        {
          "output_type": "stream",
          "name": "stdout",
          "text": [
            "Concatenated Dictionary: {1: 10, 2: 20, 3: 30, 4: 40, 5: 50, 6: 60}\n"
          ]
        }
      ],
      "source": [
        "# Sample dictionaries\n",
        "dic1 = {1: 10, 2: 20}\n",
        "dic2 = {3: 30, 4: 40}\n",
        "dic3 = {5: 50, 6: 60}\n",
        "\n",
        "# Generating an empty dictionary to store the concatenated dictionary results\n",
        "concatenatedDictionary = {}\n",
        "\n",
        "# Iterate through each dictionary and add each dictionary's key-value pairs to the concatenatedDictionary.\n",
        "for dic in [dic1, dic2, dic3]:\n",
        "    concatenatedDictionary.update(dic)\n",
        "\n",
        "# displaying the output of the concatenated dictionary\n",
        "print(\"Concatenated Dictionary:\", concatenatedDictionary)\n"
      ]
    },
    {
      "cell_type": "markdown",
      "source": [
        "(11) Write a Python function that accepts a tuple of integers and returns the largest and smallest elements."
      ],
      "metadata": {
        "id": "bkyZ2xSZUOst"
      }
    },
    {
      "cell_type": "code",
      "source": [
        "def find_largest_smallest(numbers):\n",
        "  \"\"\"\n",
        "  Initializing variables to store the largest and smallest elements.\n",
        "  \"\"\"\n",
        "  largest = numbers[0]\n",
        "  smallest = numbers[0]\n",
        "\n",
        "  \"\"\"\n",
        "  Iterating over the numbers tuple.\n",
        "  \"\"\"\n",
        "  for number in numbers:\n",
        "    \"\"\"\n",
        "    If the number is larger than the largest element, update the largest element.\n",
        "    \"\"\"\n",
        "    if number > largest:\n",
        "      largest = number\n",
        "\n",
        "    \"\"\"\n",
        "    If the number is smaller than the smallest element, update the smallest element.\n",
        "    \"\"\"\n",
        "    if number < smallest:\n",
        "      smallest = number\n",
        "\n",
        "  \"\"\"\n",
        "  Return a tuple of the largest and smallest elements.\n",
        "  \"\"\"\n",
        "  return largest, smallest\n",
        "numbers = (9, 20, 30, 99, 60)\n",
        "\n",
        "largest, smallest = find_largest_smallest(numbers)\n",
        "\n",
        "print(\"The largest number is\", largest)\n",
        "print(\"The smallest number is\", smallest)"
      ],
      "metadata": {
        "id": "3FdLRBKOUQEd",
        "colab": {
          "base_uri": "https://localhost:8080/"
        },
        "outputId": "a68faa65-f0cf-46e0-e90f-2dd9d18130fc"
      },
      "execution_count": 43,
      "outputs": [
        {
          "output_type": "stream",
          "name": "stdout",
          "text": [
            "The largest number is 99\n",
            "The smallest number is 9\n"
          ]
        }
      ]
    },
    {
      "cell_type": "markdown",
      "source": [
        "(12) Write a Python program that counts the frequency of each character in a given string and stores it in a dictionary."
      ],
      "metadata": {
        "id": "O0TVi3gKUTpp"
      }
    },
    {
      "cell_type": "code",
      "source": [
        "# take input string from the user by using input()\n",
        "inputString = input(\"Enter a string: \")\n",
        "\n",
        "# creating empty dictionary to store character frequencies and storing it in charFrequency variable\n",
        "charFrequency = {}\n",
        "\n",
        "# Looping through each character of the given string\n",
        "for char in inputString:\n",
        "    # If the character is in the dictionary already, add one to its count.\n",
        "    if char in charFrequency:\n",
        "        charFrequency[char] += 1\n",
        "    else:\n",
        "        # If the character isn't in the dictionary, add it with a count of 1.\n",
        "        charFrequency[char] = 1\n",
        "\n",
        "# Displaying the character frequencies of string using f string\n",
        "for character, count in charFrequency.items():\n",
        "    print(f\"'{character}' occured {count} times\")\n",
        "\n",
        "print(charFrequency)"
      ],
      "metadata": {
        "id": "lAtfSfZXUU-h",
        "colab": {
          "base_uri": "https://localhost:8080/"
        },
        "outputId": "0ff7ecdc-8b38-446f-980a-7d4935809f20"
      },
      "execution_count": 46,
      "outputs": [
        {
          "output_type": "stream",
          "name": "stdout",
          "text": [
            "Enter a string: raviratnam\n",
            "'r' occured 2 times\n",
            "'a' occured 3 times\n",
            "'v' occured 1 times\n",
            "'i' occured 1 times\n",
            "'t' occured 1 times\n",
            "'n' occured 1 times\n",
            "'m' occured 1 times\n",
            "{'r': 2, 'a': 3, 'v': 1, 'i': 1, 't': 1, 'n': 1, 'm': 1}\n"
          ]
        }
      ]
    },
    {
      "cell_type": "markdown",
      "metadata": {
        "id": "0v48Vqa7FrQh"
      },
      "source": [
        "(13) Write a Python program to check whether an element exists within a tuple."
      ]
    },
    {
      "cell_type": "code",
      "execution_count": 47,
      "metadata": {
        "id": "7WEmgq-DF2P1",
        "colab": {
          "base_uri": "https://localhost:8080/"
        },
        "outputId": "d6ee8eb1-20b3-45dd-a417-3f2a78318fb7"
      },
      "outputs": [
        {
          "output_type": "stream",
          "name": "stdout",
          "text": [
            "The element exist in the tuple.\n"
          ]
        }
      ],
      "source": [
        "\n",
        "def check_element_exists(tuple, element):\n",
        "  \"\"\"\n",
        "  Check if the element exists in the tuple.\n",
        "\n",
        "  Arguments:\n",
        "    tuple: The tuple to check.\n",
        "    element: The element to check for.\n",
        "\n",
        "  Returns:\n",
        "    True if the element exists in the tuple, False otherwise.\n",
        "  \"\"\"\n",
        "\n",
        "  # Iterating over the tuple.\n",
        "  for item in tuple:\n",
        "    # If the element is found, return True.\n",
        "    if item == element:\n",
        "      return True\n",
        "\n",
        "  # The element was not found.\n",
        "  return False\n",
        "\n",
        "\n",
        "tuple = (1, 2, 3, 4, 5)\n",
        "element = 4\n",
        "\n",
        "# Checking if the element exists in the tuple.\n",
        "if check_element_exists(tuple, element):\n",
        "  print(\"The element exist in the tuple.\")\n",
        "else:\n",
        "  print(\"The element does not exist in the tuple.\")"
      ]
    },
    {
      "cell_type": "markdown",
      "metadata": {
        "id": "vD5PYLMuGga_"
      },
      "source": [
        "(14) Write a Python program to find maximum and the minimum value in a set."
      ]
    },
    {
      "cell_type": "code",
      "execution_count": 48,
      "metadata": {
        "id": "t0D5kdJUGjjw",
        "colab": {
          "base_uri": "https://localhost:8080/"
        },
        "outputId": "49ff4428-84a0-482a-9cc4-e2883f6827fc"
      },
      "outputs": [
        {
          "output_type": "stream",
          "name": "stdout",
          "text": [
            "Enter elements of the set separated by spaces: 1 2 3\n",
            "Maximum value: 3\n",
            "Minimum value: 1\n"
          ]
        }
      ],
      "source": [
        "# taking input from the user to make a set\n",
        "inputString = input(\"Enter elements of the set separated by spaces: \")\n",
        "\n",
        "# Changing the input string into a set of elements\n",
        "inputSet = set(inputString.split())\n",
        "\n",
        "# Changing the elements in the set to integers\n",
        "inputSet = {int(element) for element in inputSet}\n",
        "\n",
        "# Finding the maximum and minimum numbers in a set\n",
        "# Find the Maximum value in a set by using the max() function.\n",
        "\n",
        "max_value = max(inputSet)\n",
        "#  Find the Minimum value in a set by using the min() function.\n",
        "min_value = min(inputSet)\n",
        "\n",
        "# Displaying the maximum and minimum values of set\n",
        "print(\"Maximum value:\", max_value)\n",
        "print(\"Minimum value:\", min_value)"
      ]
    },
    {
      "cell_type": "markdown",
      "metadata": {
        "id": "uHkd-y5VhVWC"
      },
      "source": [
        "(15) Write a Python program to randomly divide the students in this class into six groups for term projects, each group should have at least 4 students but no more than 6 students (including 6). Here is the students list:\n",
        "student_list_fall_2023=['sb1826' ,\n",
        " 'lb0582' ,\n",
        " 'ab1820' ,\n",
        " 'sb1883' ,\n",
        " 'mb1296' ,\n",
        " 'sc1622' ,\n",
        " 'tc0469' ,\n",
        " 'ac1770' ,\n",
        " 'mc1453' ,\n",
        " 'ad1187' ,\n",
        " 'sd0926' ,\n",
        " 'sd1268' ,\n",
        " 'ag1609' ,\n",
        " 'sg1638' ,\n",
        " 'mg1299' ,\n",
        " 'vkk0022' ,\n",
        " 'bk0413' ,\n",
        " 'gk0257' ,\n",
        " 'am2807' ,\n",
        " 'gm0558' ,\n",
        " 'pm0658' ,\n",
        " 'am2346' ,\n",
        " 'rm1090' ,\n",
        " 'sm2364' ,\n",
        " 'sm2747' ,\n",
        " 'sm2343' ,\n",
        " 'vm0597' ,\n",
        " 'htn0086' ,\n",
        " 'sp2075' ,\n",
        " 'gp0306' ,\n",
        " 'lp0502' ,\n",
        " 'sr1508' ,\n",
        " 'vr0331' ,\n",
        " 'yr0180' ,\n",
        " 'as2819' ,\n",
        " 'ss2981' ,\n",
        " 'ns0756' ,\n",
        " 'mt0825' ,\n",
        " 'dt0463' ,\n",
        " 'su0137' ,\n",
        " 'dv0310'\n",
        "]"
      ]
    },
    {
      "cell_type": "code",
      "execution_count": 49,
      "metadata": {
        "id": "3iGbmcOBhTwy",
        "colab": {
          "base_uri": "https://localhost:8080/"
        },
        "outputId": "60e1089e-4950-4c82-9625-867652f024f1"
      },
      "outputs": [
        {
          "output_type": "stream",
          "name": "stdout",
          "text": [
            "Group 1: ['sd1268', 'as2819', 'tc0469', 'sm2343', 'vr0331', 'ac1770']\n",
            "Group 2: ['sr1508', 'htn0086', 'sm2364', 'ss2981', 'mt0825', 'gk0257']\n",
            "Group 3: ['dv0310', 'sb1883', 'su0137', 'ns0756', 'sb1826', 'lb0582']\n",
            "Group 4: ['lp0502', 'bk0413', 'sd0926', 'vm0597', 'sm2747', 'dt0463']\n",
            "Group 5: ['ag1609', 'am2346', 'sp2075', 'yr0180', 'ad1187', 'pm0658']\n",
            "Group 6: ['vkk0022', 'gp0306', 'mc1453', 'rm1090', 'sg1638', 'gm0558']\n",
            "Group 7: ['am2807', 'sc1622', 'mb1296', 'ab1820', 'mg1299']\n"
          ]
        }
      ],
      "source": [
        "#importing random module\n",
        "import random\n",
        "\n",
        "# List of students and store it in student_list_fall_2023  variable\n",
        "student_list_fall_2023 = ['sb1826', 'lb0582', 'ab1820', 'sb1883', 'mb1296', 'sc1622', 'tc0469', 'ac1770', 'mc1453', 'ad1187',\n",
        "                           'sd0926', 'sd1268', 'ag1609', 'sg1638', 'mg1299', 'vkk0022', 'bk0413', 'gk0257', 'am2807', 'gm0558',\n",
        "                           'pm0658', 'am2346', 'rm1090', 'sm2364', 'sm2747', 'sm2343', 'vm0597', 'htn0086', 'sp2075', 'gp0306',\n",
        "                           'lp0502', 'sr1508', 'vr0331', 'yr0180', 'as2819', 'ss2981', 'ns0756', 'mt0825', 'dt0463', 'su0137', 'dv0310']\n",
        "\n",
        "# using random module  shuffle the student list randomly using Shuffle function\n",
        "random.shuffle(student_list_fall_2023)\n",
        "\n",
        "# To store group data created variables\n",
        "groupSize = 4\n",
        "numGroups = len(student_list_fall_2023) // groupSize\n",
        "groups = [[] for _ in range(numGroups)]\n",
        "\n",
        "# Students are divided into groups\n",
        "for student in student_list_fall_2023:\n",
        "    added = False\n",
        "    while not added:\n",
        "        for group in groups:\n",
        "            if len(group) < 6:\n",
        "                group.append(student)\n",
        "                added = True\n",
        "                break\n",
        "\n",
        "# displaying the groups that are not empty\n",
        "for i, group in enumerate(groups, start=1):\n",
        "    if group:\n",
        "        # Checking if the group is not empty using f string\n",
        "        print(f\"Group {i}:\", group)"
      ]
    },
    {
      "cell_type": "markdown",
      "metadata": {
        "id": "fmZ9vX20Qs3d"
      },
      "source": [
        "(16) Write a Python program to find the duplicate elements in a given array of integers. Return -1 If there are no such elements."
      ]
    },
    {
      "cell_type": "code",
      "execution_count": 50,
      "metadata": {
        "id": "W8Jw6sWMQs3d",
        "colab": {
          "base_uri": "https://localhost:8080/"
        },
        "outputId": "0746de7e-4138-4b18-821c-f6a169af902d"
      },
      "outputs": [
        {
          "output_type": "stream",
          "name": "stdout",
          "text": [
            "44\n",
            "-1\n",
            "11\n"
          ]
        }
      ],
      "source": [
        "def finding_first_duplicates(numbers):\n",
        "    seenNumbers = set()  # Creating an empty set to store in seenNumbers variable\n",
        "    noDuplicate = -1  # Initialize a variable to store the result\n",
        "\n",
        "    for num in numbers:\n",
        "        if num in seenNumbers:\n",
        "            return num  # Return the first duplicate which is found\n",
        "        else:\n",
        "            seenNumbers.add(num)\n",
        "\n",
        "    return noDuplicate  # if no duplicates are found return -1\n",
        "\n",
        "# Test the function with different input arrays\n",
        "print(finding_first_duplicates([11,22,33,44,44,55,66]))\n",
        "print(finding_first_duplicates([11, 22, 33, 44,55]))\n",
        "print(finding_first_duplicates([11, 11, 22, 33, 33, 22, 22,22]))\n"
      ]
    },
    {
      "cell_type": "markdown",
      "metadata": {
        "id": "hvq4APMhQs3d"
      },
      "source": [
        "(17) Write a Python program to select all the Sundays of a specified year."
      ]
    },
    {
      "cell_type": "code",
      "execution_count": 51,
      "metadata": {
        "id": "ZnoxhSglQs3d",
        "colab": {
          "base_uri": "https://localhost:8080/"
        },
        "outputId": "a8c04807-19b6-4df2-b6b6-8efc2380d8f1"
      },
      "outputs": [
        {
          "output_type": "stream",
          "name": "stdout",
          "text": [
            "Enter a year: 2022\n",
            "Sundays in the specified year:\n",
            "2022-01-02\n",
            "2022-01-09\n",
            "2022-01-16\n",
            "2022-01-23\n",
            "2022-01-30\n",
            "2022-02-06\n",
            "2022-02-13\n",
            "2022-02-20\n",
            "2022-02-27\n",
            "2022-03-06\n",
            "2022-03-13\n",
            "2022-03-20\n",
            "2022-03-27\n",
            "2022-04-03\n",
            "2022-04-10\n",
            "2022-04-17\n",
            "2022-04-24\n",
            "2022-05-01\n",
            "2022-05-08\n",
            "2022-05-15\n",
            "2022-05-22\n",
            "2022-05-29\n",
            "2022-06-05\n",
            "2022-06-12\n",
            "2022-06-19\n",
            "2022-06-26\n",
            "2022-07-03\n",
            "2022-07-10\n",
            "2022-07-17\n",
            "2022-07-24\n",
            "2022-07-31\n",
            "2022-08-07\n",
            "2022-08-14\n",
            "2022-08-21\n",
            "2022-08-28\n",
            "2022-09-04\n",
            "2022-09-11\n",
            "2022-09-18\n",
            "2022-09-25\n",
            "2022-10-02\n",
            "2022-10-09\n",
            "2022-10-16\n",
            "2022-10-23\n",
            "2022-10-30\n",
            "2022-11-06\n",
            "2022-11-13\n",
            "2022-11-20\n",
            "2022-11-27\n",
            "2022-12-04\n",
            "2022-12-11\n",
            "2022-12-18\n",
            "2022-12-25\n"
          ]
        }
      ],
      "source": [
        "#importing datetime module\n",
        "import datetime\n",
        "\n",
        "def sundays_year(year):\n",
        "    sundays = []\n",
        "\n",
        "    # Looping through all the months in the given year\n",
        "    for month in range(1, 13):\n",
        "        # Looping through all the days in the month\n",
        "        for day in range(1, 32):\n",
        "            try:\n",
        "                # Creating a date object for the current year, month, and day\n",
        "                date_object = datetime.date(year,month,day)\n",
        "\n",
        "                # Check if the day is a Sunday (weekday() returns 6 for Sunday)\n",
        "                if date_object.weekday() == 6:\n",
        "                    sundays.append(date_object)\n",
        "            except ValueError:\n",
        "                # Handling cases where the day is invalid for the month\n",
        "                pass\n",
        "\n",
        "    return sundays\n",
        "\n",
        "# taking the input from the user for the year\n",
        "year = int(input(\"Enter a year: \"))\n",
        "\n",
        "# Call the function to get all the Sundays of the specified year\n",
        "sundays = sundays_year(year)\n",
        "\n",
        "# Printed the list of Sundays\n",
        "if sundays:\n",
        "    print(\"Sundays in the specified year:\")\n",
        "    for sunday in sundays:\n",
        "        print(sunday)\n",
        "else:\n",
        "    print(\"No Sundays in the specified year.\")"
      ]
    },
    {
      "cell_type": "markdown",
      "source": [
        "(18) Build a program that calculates the factorial of a given positive integer. The factorial of a non-negative integer n is the product of all positive integers less than or equal to n."
      ],
      "metadata": {
        "id": "55FWoSJPVVM6"
      }
    },
    {
      "cell_type": "code",
      "source": [
        "#created  Function to calculate the factorial\n",
        "def calculate_factorial(num):\n",
        "    factorial = 1\n",
        "\n",
        "    # Looping from 1 to num\n",
        "    for i in range(1, num + 1):\n",
        "        factorial *= i  # Multiplying current value by factorial\n",
        "\n",
        "    return factorial\n",
        "\n",
        "# taking input from the user and converting into int()\n",
        "inputNum = int(input(\"Enter a positive integer: \"))\n",
        "\n",
        "# Checking if the input is valid or not\n",
        "if inputNum < 0:\n",
        "    print(\"Factorial is not defined for negative numbers.\")\n",
        "else:\n",
        "    # Calling the function to calculate factorial\n",
        "    result = calculate_factorial(inputNum)\n",
        "\n",
        "    # Printing the output\n",
        "    print(f\"The factorial of {inputNum} is {result}.\")"
      ],
      "metadata": {
        "id": "hwtr1wZmVX5A",
        "colab": {
          "base_uri": "https://localhost:8080/"
        },
        "outputId": "c7bac62f-8b67-43fd-ceb4-d9da07a754c2"
      },
      "execution_count": 54,
      "outputs": [
        {
          "output_type": "stream",
          "name": "stdout",
          "text": [
            "Enter a positive integer: -2\n",
            "Factorial is not defined for negative numbers.\n"
          ]
        }
      ]
    },
    {
      "cell_type": "markdown",
      "source": [
        "(19) Write a program that takes a positive integer n as input and prints the count of even numbers from 1 to n. Use a loop to iterate through the numbers and utilize the break statement to optimize the loop."
      ],
      "metadata": {
        "id": "Q9ecagcaVazW"
      }
    },
    {
      "cell_type": "code",
      "source": [
        "# taking input from the user and converting into int using int()\n",
        "input_number = int(input(\"Enter a positive integer: \"))\n",
        "\n",
        "# Initializing a variable to store the count of even numbers\n",
        "evenCount = 0\n",
        "\n",
        "# Iterating through numbers from 1 to n\n",
        "for number in range(1, input_number + 1):\n",
        "    # Checking if the current number is even or not\n",
        "    if number % 2 == 0:\n",
        "        # Increment the count of even numbers\n",
        "        evenCount += 1\n",
        "      # If the current number is greater than n\n",
        "    elif num > input_number:\n",
        "        break  # Exit the loop\n",
        "\n",
        "# Printing the count of even numbers using f string\n",
        "print(f\"The count of even numbers from 1 to {input_number} is {evenCount}.\")"
      ],
      "metadata": {
        "id": "gycgckoAVZjR",
        "colab": {
          "base_uri": "https://localhost:8080/"
        },
        "outputId": "3c59a142-8171-4a52-b1eb-8038546817c3"
      },
      "execution_count": 55,
      "outputs": [
        {
          "output_type": "stream",
          "name": "stdout",
          "text": [
            "Enter a positive integer: 23\n",
            "The count of even numbers from 1 to 23 is 11.\n"
          ]
        }
      ]
    },
    {
      "cell_type": "markdown",
      "source": [
        "(20) Write a Python function called count_vowels that takes a string as input and returns the count of vowels (both lowercase and uppercase) present in the string. Consider the vowels to be 'a', 'e', 'i', 'o', and 'u'. Ignore spaces and other non-alphabetic characters."
      ],
      "metadata": {
        "id": "cboAr5pEWUf5"
      }
    },
    {
      "cell_type": "code",
      "source": [
        "def countVowels(string):\n",
        "  \"\"\"\n",
        "  Definie a string that contains all the vowels.\n",
        "  \"\"\"\n",
        "  vowels = \"aeiouAEIOU\"\n",
        "\n",
        "  \"\"\"\n",
        "  Initializing a variable 'count' to count the number of vowels.\n",
        "  \"\"\"\n",
        "  count = 0\n",
        "\n",
        "  \"\"\"\n",
        "  Iterating over each character in the string.\n",
        "  \"\"\"\n",
        "  for char in string:\n",
        "    \"\"\"\n",
        "    If the character is a vowel, increment the count.\n",
        "    \"\"\"\n",
        "    if char in vowels:\n",
        "      count += 1\n",
        "\n",
        "  \"\"\"\n",
        "  Return the number of vowels.\n",
        "  \"\"\"\n",
        "  return count\n",
        "\n",
        "string = \"Mounica!\"\n",
        "\n",
        "number_of_vowels = countVowels(string)\n",
        "\n",
        "print(number_of_vowels)"
      ],
      "metadata": {
        "id": "phs9gciMWWAW",
        "colab": {
          "base_uri": "https://localhost:8080/"
        },
        "outputId": "025faf2c-5e3e-481b-fcbe-ca76adcf195a"
      },
      "execution_count": 56,
      "outputs": [
        {
          "output_type": "stream",
          "name": "stdout",
          "text": [
            "4\n"
          ]
        }
      ]
    },
    {
      "cell_type": "code",
      "source": [],
      "metadata": {
        "id": "VnNucJgX3Dww"
      },
      "execution_count": null,
      "outputs": []
    }
  ],
  "metadata": {
    "colab": {
      "provenance": [],
      "include_colab_link": true
    },
    "kernelspec": {
      "display_name": "Python 3 (ipykernel)",
      "language": "python",
      "name": "python3"
    },
    "language_info": {
      "codemirror_mode": {
        "name": "ipython",
        "version": 3
      },
      "file_extension": ".py",
      "mimetype": "text/x-python",
      "name": "python",
      "nbconvert_exporter": "python",
      "pygments_lexer": "ipython3",
      "version": "3.9.12"
    }
  },
  "nbformat": 4,
  "nbformat_minor": 0
}