{
 "cells": [
  {
   "cell_type": "markdown",
   "metadata": {},
   "source": [
    "# **The fifth in-class-exercise (40 points in total, 4/18/2023)**"
   ]
  },
  {
   "cell_type": "markdown",
   "metadata": {},
   "source": [
    "(20 points) The purpose of the question is to practice different machine learning algorithms for text classification as well as the performance evaluation. In addition, you are requried to conduct *10 fold cross validation (https://scikit-learn.org/stable/modules/cross_validation.html)* in the training. \n",
    "\n",
    "The dataset can be download from canvas. The dataset contains two files train data and test data for sentiment analysis in IMDB review, it has two categories: 1 represents positive and 0 represents negative. You need to split the training data into training and validate data (80% for training and 20% for validation, https://towardsdatascience.com/train-test-split-and-cross-validation-in-python-80b61beca4b6) and perform 10 fold cross validation while training the classifier. The final trained model was final evaluated on the test data. \n",
    "\n",
    "Algorithms:\n",
    "\n",
    "(1) MultinominalNB\n",
    "\n",
    "(2) SVM \n",
    "\n",
    "(3) KNN \n",
    "\n",
    "(4) Decision tree\n",
    "\n",
    "(5) Random Forest\n",
    "\n",
    "(6) XGBoost\n",
    "\n",
    "(7) Word2Vec\n",
    "\n",
    "(8) BERT\n",
    "\n",
    "Evaluation measurement:\n",
    "\n",
    "(1) Accuracy\n",
    "\n",
    "(2) Recall\n",
    "\n",
    "(3) Precison \n",
    "\n",
    "(4) F-1 score"
   ]
  },
  {
   "cell_type": "markdown",
   "metadata": {},
   "source": []
  },
  {
   "cell_type": "code",
   "execution_count": 2,
   "metadata": {},
   "outputs": [],
   "source": [
    "#Import necessary Libraries\n",
    "import pandas as pd\n",
    "import seaborn as sns\n",
    "import matplotlib.pyplot as plt\n",
    "from nltk.corpus import stopwords\n",
    "import nltk\n"
   ]
  },
  {
   "cell_type": "code",
   "execution_count": 3,
   "metadata": {},
   "outputs": [],
   "source": [
    "import torch\n",
    "from sklearn.metrics import accuracy_score, precision_score, recall_score, f1_score\n",
    "from transformers import BertTokenizer, BertForSequenceClassification\n",
    "from gensim.models import Word2Vec\n",
    "from sklearn.ensemble import RandomForestClassifier\n",
    "from sklearn.tree import DecisionTreeClassifier\n",
    "from torch.utils.data import DataLoader, TensorDataset\n",
    "from tqdm import tqdm\n",
    "from sklearn.neighbors import KNeighborsClassifier\n",
    "from sklearn.svm import SVC\n",
    "from sklearn.naive_bayes import MultinomialNB\n",
    "from sklearn.feature_extraction.text import TfidfVectorizer\n",
    "from sklearn.model_selection import KFold, cross_val_score, train_test_split\n",
    "from nltk.stem import PorterStemmer, WordNetLemmatizer\n",
    "from nltk.corpus import stopwords\n",
    "from xgboost import XGBClassifier\n",
    "import string"
   ]
  },
  {
   "cell_type": "code",
   "execution_count": 4,
   "metadata": {},
   "outputs": [
    {
     "data": {
      "text/html": [
       "<div>\n",
       "<style scoped>\n",
       "    .dataframe tbody tr th:only-of-type {\n",
       "        vertical-align: middle;\n",
       "    }\n",
       "\n",
       "    .dataframe tbody tr th {\n",
       "        vertical-align: top;\n",
       "    }\n",
       "\n",
       "    .dataframe thead th {\n",
       "        text-align: right;\n",
       "    }\n",
       "</style>\n",
       "<table border=\"1\" class=\"dataframe\">\n",
       "  <thead>\n",
       "    <tr style=\"text-align: right;\">\n",
       "      <th></th>\n",
       "      <th>Category</th>\n",
       "      <th>Review</th>\n",
       "    </tr>\n",
       "  </thead>\n",
       "  <tbody>\n",
       "    <tr>\n",
       "      <th>0</th>\n",
       "      <td>1</td>\n",
       "      <td>a stirring , funny and finally transporting re...</td>\n",
       "    </tr>\n",
       "    <tr>\n",
       "      <th>1</th>\n",
       "      <td>0</td>\n",
       "      <td>apparently reassembled from the cutting-room f...</td>\n",
       "    </tr>\n",
       "    <tr>\n",
       "      <th>2</th>\n",
       "      <td>0</td>\n",
       "      <td>they presume their audience wo n't sit still f...</td>\n",
       "    </tr>\n",
       "    <tr>\n",
       "      <th>3</th>\n",
       "      <td>1</td>\n",
       "      <td>this is a visually stunning rumination on love...</td>\n",
       "    </tr>\n",
       "    <tr>\n",
       "      <th>4</th>\n",
       "      <td>1</td>\n",
       "      <td>jonathan parker 's bartleby should have been t...</td>\n",
       "    </tr>\n",
       "  </tbody>\n",
       "</table>\n",
       "</div>"
      ],
      "text/plain": [
       "   Category                                             Review\n",
       "0         1  a stirring , funny and finally transporting re...\n",
       "1         0  apparently reassembled from the cutting-room f...\n",
       "2         0  they presume their audience wo n't sit still f...\n",
       "3         1  this is a visually stunning rumination on love...\n",
       "4         1  jonathan parker 's bartleby should have been t..."
      ]
     },
     "execution_count": 4,
     "metadata": {},
     "output_type": "execute_result"
    }
   ],
   "source": [
    "# Creating empty lists at first to hold categories and reviews\n",
    "empty_lists_labels = []\n",
    "empty_lists_messages = []\n",
    "\n",
    "# performing initialization \n",
    "with open(\"stsa-train.txt\", \"r\") as file:\n",
    "    for line in file:\n",
    "#         Parsing the line's categories and reviews out separately\n",
    "        labels, messages = line.split(' ', 1)\n",
    "        \n",
    "#         Completing the necessary lists with both the categories and reviews.\n",
    "\n",
    "        empty_lists_labels.append(int(labels))\n",
    "        empty_lists_messages.append(messages.strip())  # Elimination of leading and trailing whitespaces in the expression\n",
    "\n",
    "# Constructing a (review_df)DataFrame \n",
    "review_df = pd.DataFrame({'Category': categories, 'Review': review})\n",
    "\n",
    "# dataframe heading display\n",
    "\n",
    "review_df.head()\n"
   ]
  },
  {
   "cell_type": "code",
   "execution_count": 5,
   "metadata": {},
   "outputs": [
    {
     "data": {
      "text/plain": [
       "0"
      ]
     },
     "execution_count": 5,
     "metadata": {},
     "output_type": "execute_result"
    }
   ],
   "source": [
    "review_df.isnull().sum().sum()\n"
   ]
  },
  {
   "cell_type": "code",
   "execution_count": 6,
   "metadata": {},
   "outputs": [],
   "source": [
    "# (preprocess_text)Function to perform text cleaning\n",
    "\n",
    "def preprocess_text(text):\n",
    "    # Remove punctuation and special characters\n",
    "    cleaned_text = ''.join([char for char in text if char not in string.punctuation])\n",
    "    # Remove numbers from text\n",
    "    cleaned_text = ''.join([char for char in cleaned_text if not char.isdigit()])\n",
    "    # Tokenize the text\n",
    "    tokens = nltk.word_tokenize(cleaned_text)\n",
    "    # Remove stopwords from text\n",
    "    tokens = [word for word in tokens if word.lower() not in stopwords.words('english')]\n",
    "    # Lowercase all words\n",
    "    tokens = [word.lower() for word in tokens]\n",
    "    # Stemming\n",
    "    stemmer = PorterStemmer()\n",
    "    tokens = [stemmer.stem(word) for word in tokens]\n",
    "    # Lemmatization\n",
    "    lemmatizer = WordNetLemmatizer()\n",
    "    tokens = [lemmatizer.lemmatize(word) for word in tokens]\n",
    "    # Joining the words back into a cleaned sentence\n",
    "    cleaned_text = ' '.join(tokens)\n",
    "    return cleaned_text"
   ]
  },
  {
   "cell_type": "code",
   "execution_count": 7,
   "metadata": {},
   "outputs": [],
   "source": [
    "df['Review'] = df['Review'].apply(preprocess_text)"
   ]
  },
  {
   "cell_type": "code",
   "execution_count": 8,
   "metadata": {},
   "outputs": [
    {
     "data": {
      "text/html": [
       "<div>\n",
       "<style scoped>\n",
       "    .dataframe tbody tr th:only-of-type {\n",
       "        vertical-align: middle;\n",
       "    }\n",
       "\n",
       "    .dataframe tbody tr th {\n",
       "        vertical-align: top;\n",
       "    }\n",
       "\n",
       "    .dataframe thead th {\n",
       "        text-align: right;\n",
       "    }\n",
       "</style>\n",
       "<table border=\"1\" class=\"dataframe\">\n",
       "  <thead>\n",
       "    <tr style=\"text-align: right;\">\n",
       "      <th></th>\n",
       "      <th>Category</th>\n",
       "      <th>Review</th>\n",
       "    </tr>\n",
       "  </thead>\n",
       "  <tbody>\n",
       "    <tr>\n",
       "      <th>0</th>\n",
       "      <td>1</td>\n",
       "      <td>stir funni final transport reimagin beauti bea...</td>\n",
       "    </tr>\n",
       "    <tr>\n",
       "      <th>1</th>\n",
       "      <td>0</td>\n",
       "      <td>appar reassembl cuttingroom floor given daytim...</td>\n",
       "    </tr>\n",
       "    <tr>\n",
       "      <th>2</th>\n",
       "      <td>0</td>\n",
       "      <td>presum audienc wo nt sit still sociolog lesson...</td>\n",
       "    </tr>\n",
       "    <tr>\n",
       "      <th>3</th>\n",
       "      <td>1</td>\n",
       "      <td>visual stun rumin love memori histori war art ...</td>\n",
       "    </tr>\n",
       "    <tr>\n",
       "      <th>4</th>\n",
       "      <td>1</td>\n",
       "      <td>jonathan parker bartlebi beallendal modernoffi...</td>\n",
       "    </tr>\n",
       "  </tbody>\n",
       "</table>\n",
       "</div>"
      ],
      "text/plain": [
       "   Category                                             Review\n",
       "0         1  stir funni final transport reimagin beauti bea...\n",
       "1         0  appar reassembl cuttingroom floor given daytim...\n",
       "2         0  presum audienc wo nt sit still sociolog lesson...\n",
       "3         1  visual stun rumin love memori histori war art ...\n",
       "4         1  jonathan parker bartlebi beallendal modernoffi..."
      ]
     },
     "execution_count": 8,
     "metadata": {},
     "output_type": "execute_result"
    }
   ],
   "source": [
    "df.head()"
   ]
  },
  {
   "cell_type": "code",
   "execution_count": 9,
   "metadata": {},
   "outputs": [
    {
     "data": {
      "text/plain": [
       "['appar reassembl cuttingroom floor given daytim soap',\n",
       " 'presum audienc wo nt sit still sociolog lesson howev entertainingli present trot convent sciencefict element bugey monster futurist woman skimpi cloth',\n",
       " 'visual stun rumin love memori histori war art commerc',\n",
       " 'jonathan parker bartlebi beallendal modernoffic anomi film',\n",
       " 'campanella get tone right funni middl sad middl hope',\n",
       " 'fan film uniniti play better video sound turn',\n",
       " 'béart berl superb huppert magnific',\n",
       " 'littl le extrem past longer exposit sequenc fewer gag break tedium',\n",
       " 'film strictli routin']"
      ]
     },
     "execution_count": 9,
     "metadata": {},
     "output_type": "execute_result"
    }
   ],
   "source": [
    "#transfomring cleaned text into  list \n",
    "cleanedReview = df['Review'].tolist()\n",
    "cleanedReview[1:10]"
   ]
  },
  {
   "cell_type": "code",
   "execution_count": 10,
   "metadata": {},
   "outputs": [
    {
     "data": {
      "text/html": [
       "<style>#sk-container-id-1 {color: black;}#sk-container-id-1 pre{padding: 0;}#sk-container-id-1 div.sk-toggleable {background-color: white;}#sk-container-id-1 label.sk-toggleable__label {cursor: pointer;display: block;width: 100%;margin-bottom: 0;padding: 0.3em;box-sizing: border-box;text-align: center;}#sk-container-id-1 label.sk-toggleable__label-arrow:before {content: \"▸\";float: left;margin-right: 0.25em;color: #696969;}#sk-container-id-1 label.sk-toggleable__label-arrow:hover:before {color: black;}#sk-container-id-1 div.sk-estimator:hover label.sk-toggleable__label-arrow:before {color: black;}#sk-container-id-1 div.sk-toggleable__content {max-height: 0;max-width: 0;overflow: hidden;text-align: left;background-color: #f0f8ff;}#sk-container-id-1 div.sk-toggleable__content pre {margin: 0.2em;color: black;border-radius: 0.25em;background-color: #f0f8ff;}#sk-container-id-1 input.sk-toggleable__control:checked~div.sk-toggleable__content {max-height: 200px;max-width: 100%;overflow: auto;}#sk-container-id-1 input.sk-toggleable__control:checked~label.sk-toggleable__label-arrow:before {content: \"▾\";}#sk-container-id-1 div.sk-estimator input.sk-toggleable__control:checked~label.sk-toggleable__label {background-color: #d4ebff;}#sk-container-id-1 div.sk-label input.sk-toggleable__control:checked~label.sk-toggleable__label {background-color: #d4ebff;}#sk-container-id-1 input.sk-hidden--visually {border: 0;clip: rect(1px 1px 1px 1px);clip: rect(1px, 1px, 1px, 1px);height: 1px;margin: -1px;overflow: hidden;padding: 0;position: absolute;width: 1px;}#sk-container-id-1 div.sk-estimator {font-family: monospace;background-color: #f0f8ff;border: 1px dotted black;border-radius: 0.25em;box-sizing: border-box;margin-bottom: 0.5em;}#sk-container-id-1 div.sk-estimator:hover {background-color: #d4ebff;}#sk-container-id-1 div.sk-parallel-item::after {content: \"\";width: 100%;border-bottom: 1px solid gray;flex-grow: 1;}#sk-container-id-1 div.sk-label:hover label.sk-toggleable__label {background-color: #d4ebff;}#sk-container-id-1 div.sk-serial::before {content: \"\";position: absolute;border-left: 1px solid gray;box-sizing: border-box;top: 0;bottom: 0;left: 50%;z-index: 0;}#sk-container-id-1 div.sk-serial {display: flex;flex-direction: column;align-items: center;background-color: white;padding-right: 0.2em;padding-left: 0.2em;position: relative;}#sk-container-id-1 div.sk-item {position: relative;z-index: 1;}#sk-container-id-1 div.sk-parallel {display: flex;align-items: stretch;justify-content: center;background-color: white;position: relative;}#sk-container-id-1 div.sk-item::before, #sk-container-id-1 div.sk-parallel-item::before {content: \"\";position: absolute;border-left: 1px solid gray;box-sizing: border-box;top: 0;bottom: 0;left: 50%;z-index: -1;}#sk-container-id-1 div.sk-parallel-item {display: flex;flex-direction: column;z-index: 1;position: relative;background-color: white;}#sk-container-id-1 div.sk-parallel-item:first-child::after {align-self: flex-end;width: 50%;}#sk-container-id-1 div.sk-parallel-item:last-child::after {align-self: flex-start;width: 50%;}#sk-container-id-1 div.sk-parallel-item:only-child::after {width: 0;}#sk-container-id-1 div.sk-dashed-wrapped {border: 1px dashed gray;margin: 0 0.4em 0.5em 0.4em;box-sizing: border-box;padding-bottom: 0.4em;background-color: white;}#sk-container-id-1 div.sk-label label {font-family: monospace;font-weight: bold;display: inline-block;line-height: 1.2em;}#sk-container-id-1 div.sk-label-container {text-align: center;}#sk-container-id-1 div.sk-container {/* jupyter's `normalize.less` sets `[hidden] { display: none; }` but bootstrap.min.css set `[hidden] { display: none !important; }` so we also need the `!important` here to be able to override the default hidden behavior on the sphinx rendered scikit-learn.org. See: https://github.com/scikit-learn/scikit-learn/issues/21755 */display: inline-block !important;position: relative;}#sk-container-id-1 div.sk-text-repr-fallback {display: none;}</style><div id=\"sk-container-id-1\" class=\"sk-top-container\"><div class=\"sk-text-repr-fallback\"><pre>TfidfVectorizer()</pre><b>In a Jupyter environment, please rerun this cell to show the HTML representation or trust the notebook. <br />On GitHub, the HTML representation is unable to render, please try loading this page with nbviewer.org.</b></div><div class=\"sk-container\" hidden><div class=\"sk-item\"><div class=\"sk-estimator sk-toggleable\"><input class=\"sk-toggleable__control sk-hidden--visually\" id=\"sk-estimator-id-1\" type=\"checkbox\" checked><label for=\"sk-estimator-id-1\" class=\"sk-toggleable__label sk-toggleable__label-arrow\">TfidfVectorizer</label><div class=\"sk-toggleable__content\"><pre>TfidfVectorizer()</pre></div></div></div></div></div>"
      ],
      "text/plain": [
       "TfidfVectorizer()"
      ]
     },
     "execution_count": 10,
     "metadata": {},
     "output_type": "execute_result"
    }
   ],
   "source": [
    "# creating tfidf_vectorizer\n",
    "tfidfvector = TfidfVectorizer()\n",
    "tfidfvector"
   ]
  },
  {
   "cell_type": "code",
   "execution_count": 11,
   "metadata": {},
   "outputs": [],
   "source": [
    "# Making the textual data numerically observable\n",
    "X = tfidfvector.fit_transform(cleanedReview)\n",
    "# Target  feature\n",
    "y = df['Category']"
   ]
  },
  {
   "cell_type": "code",
   "execution_count": 12,
   "metadata": {},
   "outputs": [],
   "source": [
    "# Splitting data into training and validation sets\n",
    "X_train, X_val, y_train, y_val = train_test_split(X, y, test_size=0.2, random_state=42)"
   ]
  },
  {
   "cell_type": "code",
   "execution_count": 13,
   "metadata": {},
   "outputs": [],
   "source": [
    "# Creating instances of each classifier\n",
    "# Multinomial Naive Bayes\n",
    "nb_classifier = MultinomialNB()\n",
    "\n",
    "# Support Vector Machine\n",
    "svm_classifier = SVC()\n",
    "\n",
    "# K-Nearest Neighbors\n",
    "knn_classifier = KNeighborsClassifier()\n",
    "\n",
    "# Decision Tree\n",
    "dt_classifier = DecisionTreeClassifier()\n",
    "\n",
    "# Random Forest\n",
    "rf_classifier = RandomForestClassifier()\n",
    "\n",
    "# XGBoost\n",
    "xgb_classifier = XGBClassifier()\n"
   ]
  },
  {
   "cell_type": "code",
   "execution_count": 14,
   "metadata": {},
   "outputs": [],
   "source": [
    "# Dictionary creation for classifiers\n",
    "trained_classifiers = {\n",
    "    \"Naive Bayes\": nb_classifier,\n",
    "    \"Support Vector Machine\": svm_classifier,\n",
    "    \"K-Nearest Neighbors\": knn_classifier,\n",
    "    \"Decision Tree\": dt_classifier,\n",
    "    \"Random Forest\": rf_classifier,\n",
    "    \"XGBoost\": xgb_classifier,\n",
    "}\n"
   ]
  },
  {
   "cell_type": "code",
   "execution_count": 15,
   "metadata": {},
   "outputs": [],
   "source": [
    "# Creating a dictionary to store results\n",
    "cv_results = {}\n",
    "\n",
    "# Setting up Cross-Validation\n",
    "k_fold = KFold(n_splits=10, shuffle=True, random_state=42)\n"
   ]
  },
  {
   "cell_type": "code",
   "execution_count": 16,
   "metadata": {},
   "outputs": [],
   "source": [
    "for name, classify in trained_classifiers.items():\n",
    "    \n",
    "    scores = cross_val_score(classifier, X_train, y_train, cv=kf, scoring='accuracy')\n",
    "    average_accuracy = np.mean(scores)\n",
    "    classify.fit(X_train, y_train)# X_train and y_train classifier fitting\n",
    "    y_pred = classify.predict(X_val)# predictions based on the validation data (X_val)\n",
    "    \n",
    "    #Using the validation data to calculate evaluation metrics\n",
    "    accuracy = accuracy_score(y_val, y_pred)\n",
    "    precision = precision_score(y_val, y_pred)\n",
    "    recall = recall_score(y_val, y_pred)\n",
    "    f1 = f1_score(y_val, y_pred)\n",
    "    \n",
    "    # preserving the results for later use in the dictionary\n",
    "    dictionary[name] = {\n",
    "        'Average Accuracy (CV)': average_accuracy,\n",
    "        'Accuracy (Validation data)': accuracy,\n",
    "        'Precision': precision,\n",
    "        'Recall': recall,\n",
    "        'F1 Score': f1,\n",
    "    }"
   ]
  },
  {
   "cell_type": "code",
   "execution_count": 95,
   "metadata": {},
   "outputs": [
    {
     "data": {
      "text/plain": [
       "{'MultinomialNB': {'Average Accuracy (CV)': 0.7714984234337156,\n",
       "  'Accuracy (Validation data)': 0.7926300578034682,\n",
       "  'Precision': 0.7566265060240964,\n",
       "  'Recall': 0.8807854137447405,\n",
       "  'F1 Score': 0.8139987038237201},\n",
       " 'SVM': {'Average Accuracy (CV)': 0.7722165281594975,\n",
       "  'Accuracy (Validation data)': 0.8041907514450867,\n",
       "  'Precision': 0.7862694300518135,\n",
       "  'Recall': 0.8513323983169705,\n",
       "  'F1 Score': 0.8175084175084175},\n",
       " 'KNN': {'Average Accuracy (CV)': 0.5698980291289392,\n",
       "  'Accuracy (Validation data)': 0.5303468208092486,\n",
       "  'Precision': 0.5233853006681515,\n",
       "  'Recall': 0.9887798036465638,\n",
       "  'F1 Score': 0.6844660194174759},\n",
       " 'Decision Tree': {'Average Accuracy (CV)': 0.6519095057481019,\n",
       "  'Accuracy (Validation data)': 0.680635838150289,\n",
       "  'Precision': 0.6739409499358151,\n",
       "  'Recall': 0.7363253856942497,\n",
       "  'F1 Score': 0.7037533512064343},\n",
       " 'Random Forest': {'Average Accuracy (CV)': 0.7308465149072012,\n",
       "  'Accuracy (Validation data)': 0.7528901734104047,\n",
       "  'Precision': 0.7363057324840764,\n",
       "  'Recall': 0.8106591865357644,\n",
       "  'F1 Score': 0.7716955941255008},\n",
       " 'XGBoost': {'Average Accuracy (CV)': 0.7012175139214394,\n",
       "  'Accuracy (Validation data)': 0.713150289017341,\n",
       "  'Precision': 0.6824480369515011,\n",
       "  'Recall': 0.8288920056100981,\n",
       "  'F1 Score': 0.7485750474984166}}"
      ]
     },
     "execution_count": 95,
     "metadata": {},
     "output_type": "execute_result"
    }
   ],
   "source": [
    "dictionary"
   ]
  },
  {
   "cell_type": "code",
   "execution_count": 96,
   "metadata": {},
   "outputs": [
    {
     "name": "stdout",
     "output_type": "stream",
     "text": [
      "Evaluation for MultinomialNB:\n",
      "Average Accuracy (CV): 0.7714984234337156\n",
      "Accuracy (Validation data): 0.7926300578034682\n",
      "Precision: 0.7566265060240964\n",
      "Recall: 0.8807854137447405\n",
      "F1 Score: 0.8139987038237201\n",
      "Evaluation for SVM:\n",
      "Average Accuracy (CV): 0.7722165281594975\n",
      "Accuracy (Validation data): 0.8041907514450867\n",
      "Precision: 0.7862694300518135\n",
      "Recall: 0.8513323983169705\n",
      "F1 Score: 0.8175084175084175\n",
      "Evaluation for KNN:\n",
      "Average Accuracy (CV): 0.5698980291289392\n",
      "Accuracy (Validation data): 0.5303468208092486\n",
      "Precision: 0.5233853006681515\n",
      "Recall: 0.9887798036465638\n",
      "F1 Score: 0.6844660194174759\n",
      "Evaluation for Decision Tree:\n",
      "Average Accuracy (CV): 0.6519095057481019\n",
      "Accuracy (Validation data): 0.680635838150289\n",
      "Precision: 0.6739409499358151\n",
      "Recall: 0.7363253856942497\n",
      "F1 Score: 0.7037533512064343\n",
      "Evaluation for Random Forest:\n",
      "Average Accuracy (CV): 0.7308465149072012\n",
      "Accuracy (Validation data): 0.7528901734104047\n",
      "Precision: 0.7363057324840764\n",
      "Recall: 0.8106591865357644\n",
      "F1 Score: 0.7716955941255008\n",
      "Evaluation for XGBoost:\n",
      "Average Accuracy (CV): 0.7012175139214394\n",
      "Accuracy (Validation data): 0.713150289017341\n",
      "Precision: 0.6824480369515011\n",
      "Recall: 0.8288920056100981\n",
      "F1 Score: 0.7485750474984166\n"
     ]
    }
   ],
   "source": [
    "for name, metrics in dictionary.items():\n",
    "    print(\"Evaluation for {}:\".format(name))\n",
    "    for metric, value in metrics.items():\n",
    "        print(f\"{metric}: {value}\")\n",
    "    \n"
   ]
  },
  {
   "cell_type": "markdown",
   "metadata": {},
   "source": [
    "## Evaluating Model on Test Data"
   ]
  },
  {
   "cell_type": "code",
   "execution_count": 97,
   "metadata": {},
   "outputs": [
    {
     "data": {
      "text/html": [
       "<div>\n",
       "<style scoped>\n",
       "    .dataframe tbody tr th:only-of-type {\n",
       "        vertical-align: middle;\n",
       "    }\n",
       "\n",
       "    .dataframe tbody tr th {\n",
       "        vertical-align: top;\n",
       "    }\n",
       "\n",
       "    .dataframe thead th {\n",
       "        text-align: right;\n",
       "    }\n",
       "</style>\n",
       "<table border=\"1\" class=\"dataframe\">\n",
       "  <thead>\n",
       "    <tr style=\"text-align: right;\">\n",
       "      <th></th>\n",
       "      <th>Category</th>\n",
       "      <th>Reviews</th>\n",
       "    </tr>\n",
       "  </thead>\n",
       "  <tbody>\n",
       "    <tr>\n",
       "      <th>0</th>\n",
       "      <td>1</td>\n",
       "      <td>a stirring , funny and finally transporting re...</td>\n",
       "    </tr>\n",
       "    <tr>\n",
       "      <th>1</th>\n",
       "      <td>0</td>\n",
       "      <td>apparently reassembled from the cutting-room f...</td>\n",
       "    </tr>\n",
       "    <tr>\n",
       "      <th>2</th>\n",
       "      <td>0</td>\n",
       "      <td>they presume their audience wo n't sit still f...</td>\n",
       "    </tr>\n",
       "    <tr>\n",
       "      <th>3</th>\n",
       "      <td>1</td>\n",
       "      <td>this is a visually stunning rumination on love...</td>\n",
       "    </tr>\n",
       "    <tr>\n",
       "      <th>4</th>\n",
       "      <td>1</td>\n",
       "      <td>jonathan parker 's bartleby should have been t...</td>\n",
       "    </tr>\n",
       "  </tbody>\n",
       "</table>\n",
       "</div>"
      ],
      "text/plain": [
       "   Category                                            Reviews\n",
       "0         1  a stirring , funny and finally transporting re...\n",
       "1         0  apparently reassembled from the cutting-room f...\n",
       "2         0  they presume their audience wo n't sit still f...\n",
       "3         1  this is a visually stunning rumination on love...\n",
       "4         1  jonathan parker 's bartleby should have been t..."
      ]
     },
     "execution_count": 97,
     "metadata": {},
     "output_type": "execute_result"
    }
   ],
   "source": [
    "# Creating empty lists at first to hold categories and reviews\n",
    "empty_lists_labels = []\n",
    "empty_lists_messages = []\n",
    "\n",
    "\n",
    "# performing initialization \n",
    "with open(\"stsa-test.txt\", \"r\") as file:\n",
    "    for line in file:\n",
    "        # Parsing the line's label and text out separately\n",
    "        labels, messages = line.split(' ', 1)\n",
    "        \n",
    "        # Completing the necessary lists with both the label and the content.\n",
    "\n",
    "        empty_lists_labels.append(int(labels))\n",
    "        empty_lists_messages.append(messages.strip())  # Elimination of leading and trailing whitespaces in the expression\n",
    "\n",
    "# Constructing a DataFrame from the lists\n",
    "reviewtest_df = pd.DataFrame({'Category': empty_lists_labels, 'Reviews': empty_lists_messages})\n",
    "\n",
    "# Displaying the head of the DataFrame\n",
    "reviewtest_df.head()\n"
   ]
  },
  {
   "cell_type": "code",
   "execution_count": 99,
   "metadata": {},
   "outputs": [],
   "source": [
    "#creating new col for cleaned test\n",
    "reviewtest_df['Reviews'] = reviewtest_df['Reviews'].apply(preprocess_text)"
   ]
  },
  {
   "cell_type": "code",
   "execution_count": 100,
   "metadata": {},
   "outputs": [
    {
     "data": {
      "text/html": [
       "<div>\n",
       "<style scoped>\n",
       "    .dataframe tbody tr th:only-of-type {\n",
       "        vertical-align: middle;\n",
       "    }\n",
       "\n",
       "    .dataframe tbody tr th {\n",
       "        vertical-align: top;\n",
       "    }\n",
       "\n",
       "    .dataframe thead th {\n",
       "        text-align: right;\n",
       "    }\n",
       "</style>\n",
       "<table border=\"1\" class=\"dataframe\">\n",
       "  <thead>\n",
       "    <tr style=\"text-align: right;\">\n",
       "      <th></th>\n",
       "      <th>Category</th>\n",
       "      <th>Reviews</th>\n",
       "    </tr>\n",
       "  </thead>\n",
       "  <tbody>\n",
       "    <tr>\n",
       "      <th>0</th>\n",
       "      <td>1</td>\n",
       "      <td>stir funni final transport reimagin beauti bea...</td>\n",
       "    </tr>\n",
       "    <tr>\n",
       "      <th>1</th>\n",
       "      <td>0</td>\n",
       "      <td>appar reassembl cuttingroom floor given daytim...</td>\n",
       "    </tr>\n",
       "    <tr>\n",
       "      <th>2</th>\n",
       "      <td>0</td>\n",
       "      <td>presum audienc wo nt sit still sociolog lesson...</td>\n",
       "    </tr>\n",
       "    <tr>\n",
       "      <th>3</th>\n",
       "      <td>1</td>\n",
       "      <td>visual stun rumin love memori histori war art ...</td>\n",
       "    </tr>\n",
       "    <tr>\n",
       "      <th>4</th>\n",
       "      <td>1</td>\n",
       "      <td>jonathan parker bartlebi beallendal modernoffi...</td>\n",
       "    </tr>\n",
       "  </tbody>\n",
       "</table>\n",
       "</div>"
      ],
      "text/plain": [
       "   Category                                            Reviews\n",
       "0         1  stir funni final transport reimagin beauti bea...\n",
       "1         0  appar reassembl cuttingroom floor given daytim...\n",
       "2         0  presum audienc wo nt sit still sociolog lesson...\n",
       "3         1  visual stun rumin love memori histori war art ...\n",
       "4         1  jonathan parker bartlebi beallendal modernoffi..."
      ]
     },
     "execution_count": 100,
     "metadata": {},
     "output_type": "execute_result"
    }
   ],
   "source": [
    "reviewtest_df.head()"
   ]
  },
  {
   "cell_type": "code",
   "execution_count": 101,
   "metadata": {},
   "outputs": [
    {
     "data": {
      "text/plain": [
       "['appar reassembl cuttingroom floor given daytim soap',\n",
       " 'presum audienc wo nt sit still sociolog lesson howev entertainingli present trot convent sciencefict element bugey monster futurist woman skimpi cloth',\n",
       " 'visual stun rumin love memori histori war art commerc',\n",
       " 'jonathan parker bartlebi beallendal modernoffic anomi film',\n",
       " 'campanella get tone right funni middl sad middl hope',\n",
       " 'fan film uniniti play better video sound turn',\n",
       " 'béart berl superb huppert magnific',\n",
       " 'littl le extrem past longer exposit sequenc fewer gag break tedium',\n",
       " 'film strictli routin']"
      ]
     },
     "execution_count": 101,
     "metadata": {},
     "output_type": "execute_result"
    }
   ],
   "source": [
    "# transform into a list of clarified text \n",
    "cleanedText= reviewtest_df['Reviews'].tolist()\n",
    "cleanedText[1:10]"
   ]
  },
  {
   "cell_type": "code",
   "execution_count": 102,
   "metadata": {},
   "outputs": [],
   "source": [
    "# Transforming the text data into numerical features\n",
    "X_valid = tfidf_vectorizer.transform(cleanedText)\n",
    "\n",
    "y_valid = reviewtest_df['Category']"
   ]
  },
  {
   "cell_type": "code",
   "execution_count": 103,
   "metadata": {},
   "outputs": [
    {
     "data": {
      "text/plain": [
       "8741"
      ]
     },
     "execution_count": 103,
     "metadata": {},
     "output_type": "execute_result"
    }
   ],
   "source": [
    "len(y_valid)"
   ]
  },
  {
   "cell_type": "code",
   "execution_count": 104,
   "metadata": {},
   "outputs": [],
   "source": [
    "# creating a dictionary to hold the outcomes\n",
    "results_dictionary = {}\n",
    "kf = KFold(n_splits=10, shuffle=True, random_state=42)\n",
    "\n",
    "for name, classify in classifiers.items():\n",
    "    \n",
    "    scores = cross_val_score(classify, X_train, y_train, cv=kf, scoring='accuracy')\n",
    "    average_accuracy = np.mean(scores)\n",
    "    \n",
    "    # X_train and y_train classifier fitting\n",
    "    classify.fit(X_train, y_train)\n",
    "    \n",
    "    # Making assumptions based on the X_val validation data\n",
    "    y_pred = classify.predict(X_val)\n",
    "    \n",
    "    # Calculation of evaluation metrics\n",
    "    accuracy = accuracy_score(y_val, y_pred)\n",
    "    precision = precision_score(y_val, y_pred)\n",
    "    recall = recall_score(y_val, y_pred)\n",
    "    f1 = f1_score(y_val, y_pred)\n",
    "    \n",
    "    # Storing the findings in the dictionary for future reference\n",
    "    dictionary[name] = {\n",
    "        'Average Accuracy (CV)': average_accuracy,\n",
    "        'Accuracy (Validation data)': accuracy,\n",
    "        'Precision': precision,\n",
    "        'Recall': recall,\n",
    "        'F1 Score': f1,\n",
    "    }"
   ]
  },
  {
   "cell_type": "code",
   "execution_count": 105,
   "metadata": {},
   "outputs": [
    {
     "data": {
      "text/plain": [
       "{'MultinomialNB': {'Average Accuracy (CV)': 0.7714984234337156,\n",
       "  'Accuracy (Validation data)': 0.882507722228578,\n",
       "  'Precision': 0.8558907460252752,\n",
       "  'Recall': 0.9291878734233238,\n",
       "  'F1 Score': 0.8910344827586206},\n",
       " 'SVM': {'Average Accuracy (CV)': 0.7722165281594975,\n",
       "  'Accuracy (Validation data)': 0.9206040498798764,\n",
       "  'Precision': 0.9117330462863293,\n",
       "  'Recall': 0.9371542376631998,\n",
       "  'F1 Score': 0.9242688782191182},\n",
       " 'KNN': {'Average Accuracy (CV)': 0.5698980291289392,\n",
       "  'Accuracy (Validation data)': 0.8217595240819128,\n",
       "  'Precision': 0.7475338572145126,\n",
       "  'Recall': 0.9893781810134986,\n",
       "  'F1 Score': 0.8516190476190476},\n",
       " 'Decision Tree': {'Average Accuracy (CV)': 0.649919376423969,\n",
       "  'Accuracy (Validation data)': 0.8735842580940396,\n",
       "  'Precision': 0.8648995297135528,\n",
       "  'Recall': 0.8953308254038504,\n",
       "  'F1 Score': 0.8798521256931608},\n",
       " 'Random Forest': {'Average Accuracy (CV)': 0.7317490419830136,\n",
       "  'Accuracy (Validation data)': 0.9064180299736873,\n",
       "  'Precision': 0.8983853606027987,\n",
       "  'Recall': 0.9234343881389688,\n",
       "  'F1 Score': 0.9107376691401136},\n",
       " 'XGBoost': {'Average Accuracy (CV)': 0.7012175139214394,\n",
       "  'Accuracy (Validation data)': 0.793730694428555,\n",
       "  'Precision': 0.7637917637917638,\n",
       "  'Recall': 0.8701040053109095,\n",
       "  'F1 Score': 0.81348919002793}}"
      ]
     },
     "execution_count": 105,
     "metadata": {},
     "output_type": "execute_result"
    }
   ],
   "source": [
    "dictionary"
   ]
  },
  {
   "cell_type": "code",
   "execution_count": 106,
   "metadata": {},
   "outputs": [
    {
     "name": "stdout",
     "output_type": "stream",
     "text": [
      "Evaluation measurement for the MultinomialNB:\n",
      "Average Accuracy (CV): 0.7714984234337156\n",
      "Accuracy (Validation data): 0.882507722228578\n",
      "Precision: 0.8558907460252752\n",
      "Recall: 0.9291878734233238\n",
      "F1 Score: 0.8910344827586206\n",
      "Evaluation measurement for the SVM:\n",
      "Average Accuracy (CV): 0.7722165281594975\n",
      "Accuracy (Validation data): 0.9206040498798764\n",
      "Precision: 0.9117330462863293\n",
      "Recall: 0.9371542376631998\n",
      "F1 Score: 0.9242688782191182\n",
      "Evaluation measurement for the KNN:\n",
      "Average Accuracy (CV): 0.5698980291289392\n",
      "Accuracy (Validation data): 0.8217595240819128\n",
      "Precision: 0.7475338572145126\n",
      "Recall: 0.9893781810134986\n",
      "F1 Score: 0.8516190476190476\n",
      "Evaluation measurement for the Decision Tree:\n",
      "Average Accuracy (CV): 0.649919376423969\n",
      "Accuracy (Validation data): 0.8735842580940396\n",
      "Precision: 0.8648995297135528\n",
      "Recall: 0.8953308254038504\n",
      "F1 Score: 0.8798521256931608\n",
      "Evaluation measurement for the Random Forest:\n",
      "Average Accuracy (CV): 0.7317490419830136\n",
      "Accuracy (Validation data): 0.9064180299736873\n",
      "Precision: 0.8983853606027987\n",
      "Recall: 0.9234343881389688\n",
      "F1 Score: 0.9107376691401136\n",
      "Evaluation measurement for the XGBoost:\n",
      "Average Accuracy (CV): 0.7012175139214394\n",
      "Accuracy (Validation data): 0.793730694428555\n",
      "Precision: 0.7637917637917638\n",
      "Recall: 0.8701040053109095\n",
      "F1 Score: 0.81348919002793\n"
     ]
    }
   ],
   "source": [
    "for name, metrics in dictionary.items():\n",
    "    print(\"Evaluation measurement for the {}:\".format(classifier_name))\n",
    "    for metric, value in metrics.items():\n",
    "        print(f\"{metric}: {value}\")\n",
    "    \n"
   ]
  },
  {
   "cell_type": "markdown",
   "metadata": {},
   "source": [
    "## Word2Vec Model"
   ]
  },
  {
   "cell_type": "code",
   "execution_count": 107,
   "metadata": {},
   "outputs": [],
   "source": [
    "from sklearn.metrics import accuracy_score, precision_score, recall_score, f1_score\n",
    "from sklearn.model_selection import cross_val_score, KFold\n",
    "from sklearn.neural_network import MLPClassifier\n",
    "from gensim.models import Word2Vec"
   ]
  },
  {
   "cell_type": "code",
   "execution_count": 109,
   "metadata": {},
   "outputs": [],
   "source": [
    "# Implementing the Word2Vec model's training.\n",
    "word2vecModel = Word2Vec(sentences=[t.split() for t in df['Review']], vector_size=100, window=5, min_count=1, workers=4)"
   ]
  },
  {
   "cell_type": "code",
   "execution_count": 110,
   "metadata": {},
   "outputs": [],
   "source": [
    "#Textual data may be transformed into numerical properties using Word2Vec.\n",
    "X_train_word2vec = np.array([np.mean([word2vecModel.wv[w] for w in text.split() if w in word2vecModel.wv] or [np.zeros(100)], axis=0) for t in X_train])\n",
    "X_valid_word2vec = np.array([np.mean([word2vecModel.wv[w] for w in text.split() if w in word2vecModel.wv] or [np.zeros(100)], axis=0) for t in X_valid])\n"
   ]
  },
  {
   "cell_type": "code",
   "execution_count": 111,
   "metadata": {},
   "outputs": [
    {
     "data": {
      "text/html": [
       "<style>#sk-container-id-5 {color: black;}#sk-container-id-5 pre{padding: 0;}#sk-container-id-5 div.sk-toggleable {background-color: white;}#sk-container-id-5 label.sk-toggleable__label {cursor: pointer;display: block;width: 100%;margin-bottom: 0;padding: 0.3em;box-sizing: border-box;text-align: center;}#sk-container-id-5 label.sk-toggleable__label-arrow:before {content: \"▸\";float: left;margin-right: 0.25em;color: #696969;}#sk-container-id-5 label.sk-toggleable__label-arrow:hover:before {color: black;}#sk-container-id-5 div.sk-estimator:hover label.sk-toggleable__label-arrow:before {color: black;}#sk-container-id-5 div.sk-toggleable__content {max-height: 0;max-width: 0;overflow: hidden;text-align: left;background-color: #f0f8ff;}#sk-container-id-5 div.sk-toggleable__content pre {margin: 0.2em;color: black;border-radius: 0.25em;background-color: #f0f8ff;}#sk-container-id-5 input.sk-toggleable__control:checked~div.sk-toggleable__content {max-height: 200px;max-width: 100%;overflow: auto;}#sk-container-id-5 input.sk-toggleable__control:checked~label.sk-toggleable__label-arrow:before {content: \"▾\";}#sk-container-id-5 div.sk-estimator input.sk-toggleable__control:checked~label.sk-toggleable__label {background-color: #d4ebff;}#sk-container-id-5 div.sk-label input.sk-toggleable__control:checked~label.sk-toggleable__label {background-color: #d4ebff;}#sk-container-id-5 input.sk-hidden--visually {border: 0;clip: rect(1px 1px 1px 1px);clip: rect(1px, 1px, 1px, 1px);height: 1px;margin: -1px;overflow: hidden;padding: 0;position: absolute;width: 1px;}#sk-container-id-5 div.sk-estimator {font-family: monospace;background-color: #f0f8ff;border: 1px dotted black;border-radius: 0.25em;box-sizing: border-box;margin-bottom: 0.5em;}#sk-container-id-5 div.sk-estimator:hover {background-color: #d4ebff;}#sk-container-id-5 div.sk-parallel-item::after {content: \"\";width: 100%;border-bottom: 1px solid gray;flex-grow: 1;}#sk-container-id-5 div.sk-label:hover label.sk-toggleable__label {background-color: #d4ebff;}#sk-container-id-5 div.sk-serial::before {content: \"\";position: absolute;border-left: 1px solid gray;box-sizing: border-box;top: 0;bottom: 0;left: 50%;z-index: 0;}#sk-container-id-5 div.sk-serial {display: flex;flex-direction: column;align-items: center;background-color: white;padding-right: 0.2em;padding-left: 0.2em;position: relative;}#sk-container-id-5 div.sk-item {position: relative;z-index: 1;}#sk-container-id-5 div.sk-parallel {display: flex;align-items: stretch;justify-content: center;background-color: white;position: relative;}#sk-container-id-5 div.sk-item::before, #sk-container-id-5 div.sk-parallel-item::before {content: \"\";position: absolute;border-left: 1px solid gray;box-sizing: border-box;top: 0;bottom: 0;left: 50%;z-index: -1;}#sk-container-id-5 div.sk-parallel-item {display: flex;flex-direction: column;z-index: 1;position: relative;background-color: white;}#sk-container-id-5 div.sk-parallel-item:first-child::after {align-self: flex-end;width: 50%;}#sk-container-id-5 div.sk-parallel-item:last-child::after {align-self: flex-start;width: 50%;}#sk-container-id-5 div.sk-parallel-item:only-child::after {width: 0;}#sk-container-id-5 div.sk-dashed-wrapped {border: 1px dashed gray;margin: 0 0.4em 0.5em 0.4em;box-sizing: border-box;padding-bottom: 0.4em;background-color: white;}#sk-container-id-5 div.sk-label label {font-family: monospace;font-weight: bold;display: inline-block;line-height: 1.2em;}#sk-container-id-5 div.sk-label-container {text-align: center;}#sk-container-id-5 div.sk-container {/* jupyter's `normalize.less` sets `[hidden] { display: none; }` but bootstrap.min.css set `[hidden] { display: none !important; }` so we also need the `!important` here to be able to override the default hidden behavior on the sphinx rendered scikit-learn.org. See: https://github.com/scikit-learn/scikit-learn/issues/21755 */display: inline-block !important;position: relative;}#sk-container-id-5 div.sk-text-repr-fallback {display: none;}</style><div id=\"sk-container-id-5\" class=\"sk-top-container\"><div class=\"sk-text-repr-fallback\"><pre>MLPClassifier(max_iter=300, random_state=42)</pre><b>In a Jupyter environment, please rerun this cell to show the HTML representation or trust the notebook. <br />On GitHub, the HTML representation is unable to render, please try loading this page with nbviewer.org.</b></div><div class=\"sk-container\" hidden><div class=\"sk-item\"><div class=\"sk-estimator sk-toggleable\"><input class=\"sk-toggleable__control sk-hidden--visually\" id=\"sk-estimator-id-5\" type=\"checkbox\" checked><label for=\"sk-estimator-id-5\" class=\"sk-toggleable__label sk-toggleable__label-arrow\">MLPClassifier</label><div class=\"sk-toggleable__content\"><pre>MLPClassifier(max_iter=300, random_state=42)</pre></div></div></div></div></div>"
      ],
      "text/plain": [
       "MLPClassifier(max_iter=300, random_state=42)"
      ]
     },
     "execution_count": 111,
     "metadata": {},
     "output_type": "execute_result"
    }
   ],
   "source": [
    "#initialised simple neural network classifier \n",
    "nn_classifier = MLPClassifier(hidden_layer_sizes=(100,), max_iter=300, random_state=42)\n",
    "nn_classifier.fit(X_train_word2vec, y_train)\n"
   ]
  },
  {
   "cell_type": "code",
   "execution_count": 112,
   "metadata": {},
   "outputs": [],
   "source": [
    "# validation data evaluation\n",
    "y_pred_nn = nn_classifier.predict(X_valid_word2vec)"
   ]
  },
  {
   "cell_type": "code",
   "execution_count": 113,
   "metadata": {},
   "outputs": [
    {
     "name": "stdout",
     "output_type": "stream",
     "text": [
      "Word2Vec Neural Network Evaluation Metrics:\n",
      "Accuracy: 0.516988902871525\n",
      "Precision: 0.516988902871525\n",
      "Recall: 1.0\n",
      "F1 Score: 0.6815987933634992\n"
     ]
    }
   ],
   "source": [
    "accuracy_neural_network = accuracy_score(y_val, y_pred_nn)\n",
    "precision_neural_network = precision_score(y_val, y_pred_nn)\n",
    "recall_neural_network = recall_score(y_val,y_pred_nn)\n",
    "f1_neural_network = f1_score(y_val, y_pred_nn)\n",
    "\n",
    "print(f\"Word2Vec Neural Network Evaluation Metrics:\")\n",
    "print(f\"Accuracy: {accuracy_neural_network}\")\n",
    "print(f\"Precision: {precision_neural_network}\")\n",
    "print(f\"Recall: {recall_neural_network}\")\n",
    "print(f\"F1 Score: {f1_neural_network}\")\n"
   ]
  },
  {
   "cell_type": "markdown",
   "metadata": {},
   "source": [
    "## Test Data"
   ]
  },
  {
   "cell_type": "code",
   "execution_count": 114,
   "metadata": {},
   "outputs": [
    {
     "data": {
      "text/html": [
       "<div>\n",
       "<style scoped>\n",
       "    .dataframe tbody tr th:only-of-type {\n",
       "        vertical-align: middle;\n",
       "    }\n",
       "\n",
       "    .dataframe tbody tr th {\n",
       "        vertical-align: top;\n",
       "    }\n",
       "\n",
       "    .dataframe thead th {\n",
       "        text-align: right;\n",
       "    }\n",
       "</style>\n",
       "<table border=\"1\" class=\"dataframe\">\n",
       "  <thead>\n",
       "    <tr style=\"text-align: right;\">\n",
       "      <th></th>\n",
       "      <th>Category</th>\n",
       "      <th>Reviews</th>\n",
       "    </tr>\n",
       "  </thead>\n",
       "  <tbody>\n",
       "    <tr>\n",
       "      <th>0</th>\n",
       "      <td>1</td>\n",
       "      <td>stir funni final transport reimagin beauti bea...</td>\n",
       "    </tr>\n",
       "    <tr>\n",
       "      <th>1</th>\n",
       "      <td>0</td>\n",
       "      <td>appar reassembl cuttingroom floor given daytim...</td>\n",
       "    </tr>\n",
       "  </tbody>\n",
       "</table>\n",
       "</div>"
      ],
      "text/plain": [
       "   Category                                            Reviews\n",
       "0         1  stir funni final transport reimagin beauti bea...\n",
       "1         0  appar reassembl cuttingroom floor given daytim..."
      ]
     },
     "execution_count": 114,
     "metadata": {},
     "output_type": "execute_result"
    }
   ],
   "source": [
    "reviewtest_df.head(2)"
   ]
  },
  {
   "cell_type": "code",
   "execution_count": 115,
   "metadata": {},
   "outputs": [
    {
     "data": {
      "text/plain": [
       "8741"
      ]
     },
     "execution_count": 115,
     "metadata": {},
     "output_type": "execute_result"
    }
   ],
   "source": [
    "len(reviewtest_df)"
   ]
  },
  {
   "cell_type": "code",
   "execution_count": 117,
   "metadata": {},
   "outputs": [],
   "source": [
    "word2vec_model_1 = Word2Vec(sentences=[t.split() for t in df['Review']], vector_size=100, window=5, min_count=1, workers=4)"
   ]
  },
  {
   "cell_type": "code",
   "execution_count": 118,
   "metadata": {},
   "outputs": [],
   "source": [
    "#conversion into numerical \n",
    "X_train_word2vec = np.array([np.mean([word2vec_model.wv[w] for w in text.split() if w in word2vec_model.wv] or [np.zeros(100)], axis=0) for t in X_train])\n",
    "X_test_word2vec = np.array([np.mean([word2vec_model.wv[w] for w in text.split() if w in word2vec_model.wv] or [np.zeros(100)], axis=0) for t in X_valid])"
   ]
  },
  {
   "cell_type": "code",
   "execution_count": 119,
   "metadata": {},
   "outputs": [
    {
     "data": {
      "text/html": [
       "<style>#sk-container-id-6 {color: black;}#sk-container-id-6 pre{padding: 0;}#sk-container-id-6 div.sk-toggleable {background-color: white;}#sk-container-id-6 label.sk-toggleable__label {cursor: pointer;display: block;width: 100%;margin-bottom: 0;padding: 0.3em;box-sizing: border-box;text-align: center;}#sk-container-id-6 label.sk-toggleable__label-arrow:before {content: \"▸\";float: left;margin-right: 0.25em;color: #696969;}#sk-container-id-6 label.sk-toggleable__label-arrow:hover:before {color: black;}#sk-container-id-6 div.sk-estimator:hover label.sk-toggleable__label-arrow:before {color: black;}#sk-container-id-6 div.sk-toggleable__content {max-height: 0;max-width: 0;overflow: hidden;text-align: left;background-color: #f0f8ff;}#sk-container-id-6 div.sk-toggleable__content pre {margin: 0.2em;color: black;border-radius: 0.25em;background-color: #f0f8ff;}#sk-container-id-6 input.sk-toggleable__control:checked~div.sk-toggleable__content {max-height: 200px;max-width: 100%;overflow: auto;}#sk-container-id-6 input.sk-toggleable__control:checked~label.sk-toggleable__label-arrow:before {content: \"▾\";}#sk-container-id-6 div.sk-estimator input.sk-toggleable__control:checked~label.sk-toggleable__label {background-color: #d4ebff;}#sk-container-id-6 div.sk-label input.sk-toggleable__control:checked~label.sk-toggleable__label {background-color: #d4ebff;}#sk-container-id-6 input.sk-hidden--visually {border: 0;clip: rect(1px 1px 1px 1px);clip: rect(1px, 1px, 1px, 1px);height: 1px;margin: -1px;overflow: hidden;padding: 0;position: absolute;width: 1px;}#sk-container-id-6 div.sk-estimator {font-family: monospace;background-color: #f0f8ff;border: 1px dotted black;border-radius: 0.25em;box-sizing: border-box;margin-bottom: 0.5em;}#sk-container-id-6 div.sk-estimator:hover {background-color: #d4ebff;}#sk-container-id-6 div.sk-parallel-item::after {content: \"\";width: 100%;border-bottom: 1px solid gray;flex-grow: 1;}#sk-container-id-6 div.sk-label:hover label.sk-toggleable__label {background-color: #d4ebff;}#sk-container-id-6 div.sk-serial::before {content: \"\";position: absolute;border-left: 1px solid gray;box-sizing: border-box;top: 0;bottom: 0;left: 50%;z-index: 0;}#sk-container-id-6 div.sk-serial {display: flex;flex-direction: column;align-items: center;background-color: white;padding-right: 0.2em;padding-left: 0.2em;position: relative;}#sk-container-id-6 div.sk-item {position: relative;z-index: 1;}#sk-container-id-6 div.sk-parallel {display: flex;align-items: stretch;justify-content: center;background-color: white;position: relative;}#sk-container-id-6 div.sk-item::before, #sk-container-id-6 div.sk-parallel-item::before {content: \"\";position: absolute;border-left: 1px solid gray;box-sizing: border-box;top: 0;bottom: 0;left: 50%;z-index: -1;}#sk-container-id-6 div.sk-parallel-item {display: flex;flex-direction: column;z-index: 1;position: relative;background-color: white;}#sk-container-id-6 div.sk-parallel-item:first-child::after {align-self: flex-end;width: 50%;}#sk-container-id-6 div.sk-parallel-item:last-child::after {align-self: flex-start;width: 50%;}#sk-container-id-6 div.sk-parallel-item:only-child::after {width: 0;}#sk-container-id-6 div.sk-dashed-wrapped {border: 1px dashed gray;margin: 0 0.4em 0.5em 0.4em;box-sizing: border-box;padding-bottom: 0.4em;background-color: white;}#sk-container-id-6 div.sk-label label {font-family: monospace;font-weight: bold;display: inline-block;line-height: 1.2em;}#sk-container-id-6 div.sk-label-container {text-align: center;}#sk-container-id-6 div.sk-container {/* jupyter's `normalize.less` sets `[hidden] { display: none; }` but bootstrap.min.css set `[hidden] { display: none !important; }` so we also need the `!important` here to be able to override the default hidden behavior on the sphinx rendered scikit-learn.org. See: https://github.com/scikit-learn/scikit-learn/issues/21755 */display: inline-block !important;position: relative;}#sk-container-id-6 div.sk-text-repr-fallback {display: none;}</style><div id=\"sk-container-id-6\" class=\"sk-top-container\"><div class=\"sk-text-repr-fallback\"><pre>MLPClassifier(max_iter=300, random_state=42)</pre><b>In a Jupyter environment, please rerun this cell to show the HTML representation or trust the notebook. <br />On GitHub, the HTML representation is unable to render, please try loading this page with nbviewer.org.</b></div><div class=\"sk-container\" hidden><div class=\"sk-item\"><div class=\"sk-estimator sk-toggleable\"><input class=\"sk-toggleable__control sk-hidden--visually\" id=\"sk-estimator-id-6\" type=\"checkbox\" checked><label for=\"sk-estimator-id-6\" class=\"sk-toggleable__label sk-toggleable__label-arrow\">MLPClassifier</label><div class=\"sk-toggleable__content\"><pre>MLPClassifier(max_iter=300, random_state=42)</pre></div></div></div></div></div>"
      ],
      "text/plain": [
       "MLPClassifier(max_iter=300, random_state=42)"
      ]
     },
     "execution_count": 119,
     "metadata": {},
     "output_type": "execute_result"
    }
   ],
   "source": [
    "#initializing a simple neural network \n",
    "nn_classifier = MLPClassifier(hidden_layer_sizes=(100,), max_iter=300, random_state=42)\n",
    "nn_classifier.fit(X_train_word2vec, y_train)\n"
   ]
  },
  {
   "cell_type": "code",
   "execution_count": 120,
   "metadata": {},
   "outputs": [],
   "source": [
    "# validation data evaluation\n",
    "y_pred_nn= neural_network_classifier.predict(X_test_word2vec)"
   ]
  },
  {
   "cell_type": "code",
   "execution_count": 122,
   "metadata": {},
   "outputs": [
    {
     "name": "stdout",
     "output_type": "stream",
     "text": [
      "Accuracy: 0.516988902871525\n",
      "Precision: 0.516988902871525\n",
      "Recall: 1.0\n",
      "F1 Score: 0.6815987933634992\n"
     ]
    }
   ],
   "source": [
    "# Target  column\n",
    "y_val = reviewtest_df['Category']\n",
    "# Printing the  evaluation metrics\n",
    "accuracy_nn = accuracy_score(y_val, y_pred_nn)\n",
    "precision_nn = precision_score(y_val, y_pred_nn)\n",
    "recall_nn = recall_score(y_val, y_pred_nn)\n",
    "f1_nn = f1_score(y_val, y_pred_nn)\n",
    "\n",
    "\n",
    "print(f\"Accuracy: {accuracy_nn}\")\n",
    "print(f\"Precision: {precision_nn}\")\n",
    "print(f\"Recall: {recall_nn}\")\n",
    "print(f\"F1 Score: {f1_nn}\")\n"
   ]
  },
  {
   "cell_type": "markdown",
   "metadata": {},
   "source": [
    "## BERT Model"
   ]
  },
  {
   "cell_type": "code",
   "execution_count": 18,
   "metadata": {},
   "outputs": [],
   "source": [
    "import pandas as pd\n",
    "from transformers import BertTokenizer, BertModel\n",
    "import torch\n"
   ]
  },
  {
   "cell_type": "code",
   "execution_count": 28,
   "metadata": {},
   "outputs": [
    {
     "name": "stderr",
     "output_type": "stream",
     "text": [
      "Some weights of BertForSequenceClassification were not initialized from the model checkpoint at bert-base-uncased and are newly initialized: ['classifier.bias', 'classifier.weight']\n",
      "You should probably TRAIN this model on a down-stream task to be able to use it for predictions and inference.\n",
      "/Users/mounicatamalampudi/anaconda3/envs/tf/lib/python3.11/site-packages/transformers/optimization.py:411: FutureWarning: This implementation of AdamW is deprecated and will be removed in a future version. Use the PyTorch implementation torch.optim.AdamW instead, or set `no_deprecation_warning=True` to disable this warning\n",
      "  warnings.warn(\n",
      "We strongly recommend passing in an `attention_mask` since your input_ids may be padded. See https://huggingface.co/docs/transformers/troubleshooting#incorrect-output-when-padding-tokens-arent-masked.\n"
     ]
    },
    {
     "name": "stdout",
     "output_type": "stream",
     "text": [
      "Epoch 1/3, Average Loss: 0.7011369400707184\n",
      "Epoch 2/3, Average Loss: 0.7026241328094077\n",
      "Epoch 3/3, Average Loss: 0.7054131092981157\n"
     ]
    },
    {
     "data": {
      "text/plain": [
       "('fine_tuned_bert_model/tokenizer_config.json',\n",
       " 'fine_tuned_bert_model/special_tokens_map.json',\n",
       " 'fine_tuned_bert_model/vocab.txt',\n",
       " 'fine_tuned_bert_model/added_tokens.json')"
      ]
     },
     "execution_count": 28,
     "metadata": {},
     "output_type": "execute_result"
    }
   ],
   "source": [
    "# Fine-tuning a BERT-based sequence classification model\n",
    "\n",
    "# Set the maximum sequence length\n",
    "max_seq_length = 128  \n",
    "\n",
    "# Load the pre-trained BERT model and tokenizer\n",
    "fine_tuned_model = BertForSequenceClassification.from_pretrained('bert-base-uncased', num_labels=2)\n",
    "fine_tuned_tokenizer = BertTokenizer.from_pretrained('bert-base-uncased')\n",
    "\n",
    "# Tokenize and encode the text data for training the BERT model\n",
    "X_train_tokens = train_df['Reviews'].apply(lambda x: fine_tuned_tokenizer.encode(x, add_special_tokens=True))\n",
    "X_train_tokens = pad_sequences(X_train_tokens, maxlen=max_seq_length, dtype=\"long\", value=0, truncating=\"post\", padding=\"post\")\n",
    "X_train_tokens = torch.tensor(X_train_tokens)\n",
    "y_train_labels = torch.tensor(train_df['Category'].values)\n",
    "\n",
    "# Create a DataLoader for training the BERT model\n",
    "train_data = TensorDataset(X_train_tokens, y_train_labels)\n",
    "train_loader = DataLoader(train_data, batch_size=16, shuffle=True)\n",
    "\n",
    "# Set up optimizer and loss function\n",
    "optimizer = AdamW(fine_tuned_model.parameters(), lr=5e-5)\n",
    "criterion = torch.nn.CrossEntropyLoss()\n",
    "\n",
    "# Train the model\n",
    "num_epochs = 3  \n",
    "device = torch.device('cuda' if torch.cuda.is_available() else 'cpu')\n",
    "fine_tuned_model.to(device)\n",
    "\n",
    "for epoch in range(num_epochs):\n",
    "    fine_tuned_model.train()\n",
    "    total_loss = 0.0\n",
    "\n",
    "    for inputs, labels in train_loader:\n",
    "        inputs, labels = inputs.to(device), labels.to(device)\n",
    "\n",
    "        optimizer.zero_grad()\n",
    "\n",
    "        outputs = fine_tuned_model(inputs, labels=labels)\n",
    "        loss = criterion(outputs.logits, labels)\n",
    "        \n",
    "        loss.backward()\n",
    "        optimizer.step()\n",
    "\n",
    "        total_loss += loss.item()\n",
    "\n",
    "    avg_loss = total_loss / len(train_loader)\n",
    "    print(f\"Epoch {epoch + 1}/{num_epochs}, Average Loss: {avg_loss}\")\n",
    "\n",
    "# Save the fine-tuned model\n",
    "fine_tuned_model.save_pretrained('fine_tuned_bert_model')\n",
    "fine_tuned_tokenizer.save_pretrained('fine_tuned_bert_model')\n"
   ]
  },
  {
   "cell_type": "code",
   "execution_count": 124,
   "metadata": {},
   "outputs": [
    {
     "name": "stdout",
     "output_type": "stream",
     "text": [
      "Bert Evaluation Metrics:\n",
      "Accuracy of the Bert: 0.5325\n",
      "Precision of the Bert: 0.5325\n",
      "Recall of the Bert: 1.0\n",
      "F1 Score of the Bert: 0.6949429037520392\n"
     ]
    }
   ],
   "source": [
    "model.eval()\n",
    "\n",
    "with torch.no_grad():\n",
    "    outputs = model(X_valid_tokens)\n",
    "    predictions = torch.argmax(outputs.logits, dim=1)\n",
    "\n",
    "    accuracy = accuracy_score(y_valid.cpu().numpy(), predictions.cpu().numpy())\n",
    "precision = precision_score(y_valid.cpu().numpy(), predictions.cpu().numpy())\n",
    "recall = recall_score(y_valid.cpu().numpy(), predictions.cpu().numpy())\n",
    "f1 = f1_score(y_valid.cpu().numpy(), predictions.cpu().numpy())\n",
    "\n",
    "print(f\"Bert Evaluation Metrics:\")\n",
    "print(f\"Accuracy of the Bert: {accuracy:.4f}\")\n",
    "print(f\"Precision of the Bert: {precision:.4f}\")\n",
    "print(f\"Recall of the Bert: {recall:.4f}\")\n",
    "print(f\"F1 Score of the Bert: {f1:.4f}\")"
   ]
  },
  {
   "cell_type": "code",
   "execution_count": null,
   "metadata": {},
   "outputs": [],
   "source": []
  },
  {
   "cell_type": "markdown",
   "metadata": {},
   "source": [
    "(20 points) The purpose of the question is to practice different machine learning algorithms for text clustering\n",
    "Please downlad the dataset by using the following link.  https://www.kaggle.com/PromptCloudHQ/amazon-reviews-unlocked-mobile-phones\n",
    "(You can also use different text data which you want)\n",
    "\n",
    "Apply the listed clustering methods to the dataset:\n",
    "\n",
    "K-means\n",
    "\n",
    "DBSCAN\n",
    "\n",
    "Hierarchical clustering\n",
    "\n",
    "Word2Vec\n",
    "\n",
    "BERT\n",
    "\n",
    "You can refer to of the codes from  the follwing link below. \n",
    "https://www.kaggle.com/karthik3890/text-clustering "
   ]
  },
  {
   "cell_type": "code",
   "execution_count": 62,
   "metadata": {},
   "outputs": [
    {
     "data": {
      "text/html": [
       "<div>\n",
       "<style scoped>\n",
       "    .dataframe tbody tr th:only-of-type {\n",
       "        vertical-align: middle;\n",
       "    }\n",
       "\n",
       "    .dataframe tbody tr th {\n",
       "        vertical-align: top;\n",
       "    }\n",
       "\n",
       "    .dataframe thead th {\n",
       "        text-align: right;\n",
       "    }\n",
       "</style>\n",
       "<table border=\"1\" class=\"dataframe\">\n",
       "  <thead>\n",
       "    <tr style=\"text-align: right;\">\n",
       "      <th></th>\n",
       "      <th>Movie Reviews</th>\n",
       "    </tr>\n",
       "  </thead>\n",
       "  <tbody>\n",
       "    <tr>\n",
       "      <th>0</th>\n",
       "      <td>One of the most anticipated films of the year ...</td>\n",
       "    </tr>\n",
       "    <tr>\n",
       "      <th>1</th>\n",
       "      <td>You'll have to have your wits about you and yo...</td>\n",
       "    </tr>\n",
       "    <tr>\n",
       "      <th>2</th>\n",
       "      <td>I'm a big fan of Nolan's work so was really lo...</td>\n",
       "    </tr>\n",
       "    <tr>\n",
       "      <th>3</th>\n",
       "      <td>\"Oppenheimer\" is a biographical thriller film ...</td>\n",
       "    </tr>\n",
       "    <tr>\n",
       "      <th>4</th>\n",
       "      <td>This movie is just... wow! I don't think I hav...</td>\n",
       "    </tr>\n",
       "  </tbody>\n",
       "</table>\n",
       "</div>"
      ],
      "text/plain": [
       "                                       Movie Reviews\n",
       "0  One of the most anticipated films of the year ...\n",
       "1  You'll have to have your wits about you and yo...\n",
       "2  I'm a big fan of Nolan's work so was really lo...\n",
       "3  \"Oppenheimer\" is a biographical thriller film ...\n",
       "4  This movie is just... wow! I don't think I hav..."
      ]
     },
     "execution_count": 62,
     "metadata": {},
     "output_type": "execute_result"
    }
   ],
   "source": [
    "df= pd.read_csv(\"mve_review.csv\")\n",
    "df.head()"
   ]
  },
  {
   "cell_type": "code",
   "execution_count": 63,
   "metadata": {},
   "outputs": [],
   "source": [
    "# Creating a function to handle the preprocessing and cleaning of a review.\n",
    "def text_cleaning_and_preprocessing(text):\n",
    "    # Remove punctuation marks and special characters.\n",
    "    text = ''.join([char for char in text if char not in string.punctuation])\n",
    "    \n",
    "    # Exclude numerical characters.\n",
    "    text = ''.join([char for char in text if not char.isdigit()])\n",
    "    \n",
    "    # Tokenize the text into individual words.\n",
    "    words = nltk.word_tokenize(text)\n",
    "    \n",
    "    # Remove stop words.\n",
    "    words = [w for w in words if w.lower() not in stopwords.words('english')]\n",
    "    \n",
    "    # Convert all words to lowercase.\n",
    "    words = [w.lower() for w in words]\n",
    "    \n",
    "    # Stemming words to their root form.\n",
    "    stemmer = PorterStemmer()\n",
    "    words = [stemmer.stem(w) for w in words]\n",
    "    \n",
    "    # Lemmatization to reduce words to their base form.\n",
    "    lemmatizer = WordNetLemmatizer()\n",
    "    words = [lemmatizer.lemmatize(w) for w in words]\n",
    "    \n",
    "    # Join the cleaned words to form a refined sentence.\n",
    "    cleaned_text = ' '.join(words)\n",
    "    \n",
    "    return cleaned_text\n",
    "\n",
    "df['Movie Reviews'] = df['Movie Reviews'].apply(text_cleaning_and_preprocessing)\n"
   ]
  },
  {
   "cell_type": "markdown",
   "metadata": {},
   "source": [
    "### Importing necessary libraries"
   ]
  },
  {
   "cell_type": "code",
   "execution_count": 65,
   "metadata": {},
   "outputs": [],
   "source": [
    "import seaborn as sns\n",
    "import matplotlib.pyplot as plt\n",
    "from sklearn.feature_extraction.text import TfidfVectorizer\n",
    "from sklearn.preprocessing import StandardScaler\n",
    "from sklearn.cluster import KMeans, DBSCAN, AgglomerativeClustering"
   ]
  },
  {
   "cell_type": "markdown",
   "metadata": {},
   "source": [
    "### Initializing the TF-IDF vectorizer"
   ]
  },
  {
   "cell_type": "code",
   "execution_count": 67,
   "metadata": {},
   "outputs": [],
   "source": [
    "vectorizer = TfidfVectorizer(stop_words='english', max_features=5000)\n"
   ]
  },
  {
   "cell_type": "code",
   "execution_count": 68,
   "metadata": {},
   "outputs": [],
   "source": [
    "reviews_vectorized = vectorizer.fit_transform(df['Movie Reviews'])"
   ]
  },
  {
   "cell_type": "markdown",
   "metadata": {},
   "source": [
    "###  Standardize the vectorized features"
   ]
  },
  {
   "cell_type": "code",
   "execution_count": 69,
   "metadata": {},
   "outputs": [],
   "source": [
    "scaler = StandardScaler()\n",
    "scaled_reviews = scaler.fit_transform(reviews_vectorized.toarray())"
   ]
  },
  {
   "cell_type": "markdown",
   "metadata": {},
   "source": [
    "### Apply K-means clustering"
   ]
  },
  {
   "cell_type": "code",
   "execution_count": 70,
   "metadata": {},
   "outputs": [
    {
     "name": "stderr",
     "output_type": "stream",
     "text": [
      "/Users/mounicatamalampudi/anaconda3/lib/python3.11/site-packages/sklearn/cluster/_kmeans.py:1412: FutureWarning: The default value of `n_init` will change from 10 to 'auto' in 1.4. Set the value of `n_init` explicitly to suppress the warning\n",
      "  super()._check_params_vs_input(X, default_n_init=10)\n"
     ]
    }
   ],
   "source": [
    "kmeans = KMeans(n_clusters=3, random_state=42)\n",
    "df['KMeans_Cluster'] = kmeans.fit_predict(scaled_reviews)\n"
   ]
  },
  {
   "cell_type": "markdown",
   "metadata": {},
   "source": [
    "### Apply DBSCAN clustering"
   ]
  },
  {
   "cell_type": "code",
   "execution_count": 71,
   "metadata": {},
   "outputs": [],
   "source": [
    "dbscan = DBSCAN(eps=0.5, min_samples=5)\n",
    "df['DBSCAN_Cluster'] = dbscan.fit_predict(scaled_reviews)"
   ]
  },
  {
   "cell_type": "markdown",
   "metadata": {},
   "source": [
    "### Apply Hierarchical clustering"
   ]
  },
  {
   "cell_type": "code",
   "execution_count": 72,
   "metadata": {},
   "outputs": [],
   "source": [
    "hierarchical = AgglomerativeClustering(n_clusters=3)\n",
    "df['Hierarchical_Cluster'] = hierarchical.fit_predict(scaled_reviews)"
   ]
  },
  {
   "cell_type": "markdown",
   "metadata": {},
   "source": [
    "### Visualize the clusters"
   ]
  },
  {
   "cell_type": "code",
   "execution_count": 73,
   "metadata": {},
   "outputs": [
    {
     "name": "stderr",
     "output_type": "stream",
     "text": [
      "/Users/mounicatamalampudi/anaconda3/lib/python3.11/site-packages/seaborn/axisgrid.py:118: UserWarning: The figure layout has changed to tight\n",
      "  self._figure.tight_layout(*args, **kwargs)\n"
     ]
    },
    {
     "data": {
      "image/png": "[encoded data removed]",
      "text/plain": [
       "<Figure size 621.486x500 with 6 Axes>"
      ]
     },
     "metadata": {},
     "output_type": "display_data"
    },
    {
     "name": "stderr",
     "output_type": "stream",
     "text": [
      "/Users/mounicatamalampudi/anaconda3/lib/python3.11/site-packages/seaborn/axisgrid.py:118: UserWarning: The figure layout has changed to tight\n",
      "  self._figure.tight_layout(*args, **kwargs)\n"
     ]
    },
    {
     "data": {
      "image/png": "[encoded data removed]",
      "text/plain": [
       "<Figure size 625.861x500 with 6 Axes>"
      ]
     },
     "metadata": {},
     "output_type": "display_data"
    },
    {
     "name": "stderr",
     "output_type": "stream",
     "text": [
      "/Users/mounicatamalampudi/anaconda3/lib/python3.11/site-packages/seaborn/axisgrid.py:118: UserWarning: The figure layout has changed to tight\n",
      "  self._figure.tight_layout(*args, **kwargs)\n"
     ]
    },
    {
     "data": {
      "image/png": "[encoded data removed]",
      "text/plain": [
       "<Figure size 650.361x500 with 6 Axes>"
      ]
     },
     "metadata": {},
     "output_type": "display_data"
    }
   ],
   "source": [
    "sns.pairplot(df, hue='KMeans_Cluster', palette='viridis', diag_kind='kde')\n",
    "plt.title('K-Means Clustering')\n",
    "plt.show()\n",
    "\n",
    "sns.pairplot(df, hue='DBSCAN_Cluster', palette='viridis', diag_kind='kde')\n",
    "plt.title('DBSCAN Clustering')\n",
    "plt.show()\n",
    "\n",
    "sns.pairplot(df, hue='Hierarchical_Cluster', palette='viridis', diag_kind='kde')\n",
    "plt.title('Hierarchical Clustering')\n",
    "plt.show()"
   ]
  },
  {
   "cell_type": "code",
   "execution_count": 157,
   "metadata": {},
   "outputs": [
    {
     "name": "stdout",
     "output_type": "stream",
     "text": [
      "Silhouette Score for K-means Clustering: 0.17504657801613116\n",
      "Silhouette Score for DBSCAN Clustering: 0.9999999556515496\n",
      "Silhouette Score for Hierarchical Clustering: 0.42821463148597705\n"
     ]
    }
   ],
   "source": [
    "from sklearn.metrics import silhouette_score\n",
    "\n",
    "# Evaluate Silhouette Score for K-means clustering\n",
    "silhouette_kmeans = silhouette_score(scaled_reviews, df['KMeans_Cluster'])\n",
    "print(f\"Silhouette Score for K-means Clustering: {silhouette_kmeans}\")\n",
    "\n",
    "# Evaluate Silhouette Score for DBSCAN clustering\n",
    "silhouette_dbscan = silhouette_score(scaled_reviews, df['DBSCAN_Cluster'])\n",
    "print(f\"Silhouette Score for DBSCAN Clustering: {silhouette_dbscan}\")\n",
    "\n",
    "# Evaluate Silhouette Score for Hierarchical clustering\n",
    "silhouette_hierarchical = silhouette_score(scaled_reviews, df['Hierarchical_Cluster'])\n",
    "print(f\"Silhouette Score for Hierarchical Clustering: {silhouette_hierarchical}\")\n"
   ]
  },
  {
   "cell_type": "markdown",
   "metadata": {},
   "source": [
    "### Word2vec"
   ]
  },
  {
   "cell_type": "code",
   "execution_count": 79,
   "metadata": {},
   "outputs": [
    {
     "name": "stderr",
     "output_type": "stream",
     "text": [
      "/Users/mounicatamalampudi/anaconda3/lib/python3.11/site-packages/sklearn/cluster/_kmeans.py:1412: FutureWarning: The default value of `n_init` will change from 10 to 'auto' in 1.4. Set the value of `n_init` explicitly to suppress the warning\n",
      "  super()._check_params_vs_input(X, default_n_init=10)\n"
     ]
    },
    {
     "data": {
      "image/png": "[encoded data removed]",
      "text/plain": [
       "<Figure size 640x480 with 1 Axes>"
      ]
     },
     "metadata": {},
     "output_type": "display_data"
    }
   ],
   "source": [
    "# Splitting the preprocessed movie reviews into individual words\n",
    "tokenized_text = df['Movie Reviews'].apply(lambda x: x.split())\n",
    "\n",
    "# Train the Word Embedding model\n",
    "embedding_model = Word2Vec(sentences=tokenized_text, vector_size=100, window=5, min_count=1, workers=4)\n",
    "\n",
    "# Obtain word vectors from the Word Embedding model\n",
    "word_vectors = embedding_model.wv\n",
    "\n",
    "# Apply KMeans clustering to group word vectors\n",
    "kmeans = KMeans(n_clusters=5, random_state=42)\n",
    "clusters = kmeans.fit_predict(word_vectors.vectors)\n",
    "\n",
    "# Reduce dimensionality using PCA for visualization\n",
    "pca = PCA(n_components=2)\n",
    "pca_result = pca.fit_transform(word_vectors.vectors)\n",
    "\n",
    "# Visualize clustered word vectors\n",
    "plt.scatter(pca_result[:, 0], pca_result[:, 1], c=clusters, cmap='plasma')\n",
    "plt.title('Word Embedding Clustering')\n",
    "plt.show()\n"
   ]
  },
  {
   "cell_type": "code",
   "execution_count": 87,
   "metadata": {},
   "outputs": [
    {
     "name": "stdout",
     "output_type": "stream",
     "text": [
      "Silhouette Score: 0.009088762104511261\n"
     ]
    }
   ],
   "source": [
    "from sklearn.metrics import silhouette_score\n",
    "\n",
    "# Calculate the Silhouette Score for the given cluster labels\n",
    "silhouette_avg_score = silhouette_score(word_vectors.vectors, clusters)\n",
    "print(f\"Silhouette Score: {silhouette_avg_score}\")\n"
   ]
  },
  {
   "cell_type": "markdown",
   "metadata": {},
   "source": [
    "### BERT Clustering"
   ]
  },
  {
   "cell_type": "code",
   "execution_count": 84,
   "metadata": {},
   "outputs": [],
   "source": [
    "import numpy as np\n",
    "from transformers import BertTokenizer, BertModel\n",
    "import torch\n"
   ]
  },
  {
   "cell_type": "code",
   "execution_count": 85,
   "metadata": {},
   "outputs": [
    {
     "name": "stderr",
     "output_type": "stream",
     "text": [
      "/Users/mounicatamalampudi/anaconda3/lib/python3.11/site-packages/sklearn/cluster/_kmeans.py:1412: FutureWarning: The default value of `n_init` will change from 10 to 'auto' in 1.4. Set the value of `n_init` explicitly to suppress the warning\n",
      "  super()._check_params_vs_input(X, default_n_init=10)\n"
     ]
    },
    {
     "data": {
      "image/png": "[encoded data removed]",
      "text/plain": [
       "<Figure size 640x480 with 1 Axes>"
      ]
     },
     "metadata": {},
     "output_type": "display_data"
    }
   ],
   "source": [
    "# BERT-based Clustering\n",
    "tokenizer_bert = BertTokenizer.from_pretrained('bert-base-uncased')\n",
    "model_bert = BertModel.from_pretrained('bert-base-uncased')\n",
    "\n",
    "tokenized_data_bert = df['Movie Reviews'].apply(lambda text: tokenizer_bert(text, return_tensors='pt', truncation=True, padding=True))\n",
    "bert_embeddings_data = tokenized_data_bert.apply(lambda tokenized_text: model_bert(**tokenized_text).last_hidden_state.mean(dim=1).detach().numpy())\n",
    "\n",
    "# Convert BERT embeddings to a matrix\n",
    "bert_matrix_data = np.array(bert_embeddings_data.tolist())\n",
    "\n",
    "# Reshape the matrix by flattening the sequence dimension\n",
    "num_sequences_bert, sequence_length_bert, embedding_size_bert = bert_matrix_data.shape\n",
    "reshaped_bert_matrix_data = bert_matrix_data.reshape(num_sequences_bert, sequence_length_bert * embedding_size_bert)\n",
    "\n",
    "# KMeans clustering for BERT embeddings\n",
    "kmeans_bert_embeddings = KMeans(n_clusters=5, random_state=42)\n",
    "clusters_bert_embeddings = kmeans_bert_embeddings.fit_predict(reshaped_bert_matrix_data)\n",
    "\n",
    "# PCA for BERT embeddings\n",
    "pca_bert_embeddings = PCA(n_components=2)\n",
    "pca_result_bert_embeddings = pca_bert_embeddings.fit_transform(reshaped_bert_matrix_data)\n",
    "\n",
    "# Visualize BERT clusters\n",
    "plt.scatter(pca_result_bert_embeddings[:, 0], pca_result_bert_embeddings[:, 1], c=clusters_bert_embeddings, cmap='viridis')\n",
    "plt.title('BERT-based Clustering')\n",
    "plt.show()\n"
   ]
  },
  {
   "cell_type": "code",
   "execution_count": 86,
   "metadata": {},
   "outputs": [
    {
     "name": "stdout",
     "output_type": "stream",
     "text": [
      "Silhouette Score for Clustering with BERT Embeddings: 0.2937\n"
     ]
    }
   ],
   "source": [
    "from sklearn.metrics import silhouette_score\n",
    "\n",
    "# Compute the silhouette score for clusters obtained using BERT embeddings\n",
    "average_silhouette_bert = silhouette_score(reshaped_bert_matrix_data, clusters_bert_embeddings )\n",
    "\n",
    "print(f\"Silhouette Score for Clustering with BERT Embeddings: {average_silhouette_bert:.4f}\")\n"
   ]
  },
  {
   "cell_type": "code",
   "execution_count": null,
   "metadata": {},
   "outputs": [],
   "source": []
  },
  {
   "cell_type": "markdown",
   "metadata": {},
   "source": [
    "In one paragraph, please compare the results of K-means, DBSCAN, Hierarchical clustering, Word2Vec, and BERT."
   ]
  },
  {
   "cell_type": "code",
   "execution_count": 89,
   "metadata": {},
   "outputs": [],
   "source": [
    "#You can write you answer here. (No code needed)"
   ]
  },
  {
   "cell_type": "markdown",
   "metadata": {},
   "source": [
    "Within each clustering approach, the silhouette scores offer insights on the cohesiveness and separation of the clusters that have been created. A higher silhouette score suggests that the clusters are more well formed and more clearly separated. When compared to other methods, DBSCAN has an extraordinarily high silhouette score, coming in at about 1, which indicates the presence of identifiable and dense clusters. Additionally, hierarchical clustering works quite well, earning a score of 0.4282, which indicates that there is reasonable distinction. K-means displays a value of 0.1750, which is considered to be moderate and indicates that there is some degree of cluster cohesiveness. Word2Vec and BERT embeddings, on the other hand, provide scores that are lower (0.0091 and 0.2937, respectively), indicating that there are fewer unique clusters. These alterations highlight the efficacy of various clustering methods, with DBSCAN and Hierarchical clustering proving to be superior to K-means, Word2Vec, and BERT embeddings in the context of this particular case. If you want the best possible results, you should select a method of clustering that takes into account the particular features and distribution of the data.\n",
    "\n"
   ]
  },
  {
   "cell_type": "code",
   "execution_count": null,
   "metadata": {},
   "outputs": [],
   "source": []
  }
 ],
 "metadata": {
  "kernelspec": {
   "display_name": "Python 3 (ipykernel)",
   "language": "python",
   "name": "python3"
  },
  "language_info": {
   "codemirror_mode": {
    "name": "ipython",
    "version": 3
   },
   "file_extension": ".py",
   "mimetype": "text/x-python",
   "name": "python",
   "nbconvert_exporter": "python",
   "pygments_lexer": "ipython3",
   "version": "3.11.5"
  }
 },
 "nbformat": 4,
 "nbformat_minor": 2
}
