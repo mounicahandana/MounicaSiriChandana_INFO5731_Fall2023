{
 "cells": [
  {
   "cell_type": "markdown",
   "metadata": {
    "id": "VdRwkJBn70nX"
   },
   "source": [
    "## The third In-class-exercise (due on 11:59 PM 10/08/2023, 40 points in total)"
   ]
  },
  {
   "cell_type": "markdown",
   "metadata": {
    "id": "S2htC-oV70ne"
   },
   "source": [
    "The purpose of this exercise is to understand text representation."
   ]
  },
  {
   "cell_type": "markdown",
   "metadata": {
    "id": "ARqm7u6B70ne"
   },
   "source": [
    "Question 1 (10 points): Describe an interesting text classification or text mining task and explain what kind of features might be useful for you to build the machine learning model. List your features and explain why these features might be helpful. You need to list at least five different types of features."
   ]
  },
  {
   "cell_type": "markdown",
   "metadata": {
    "id": "VAZj4PHB70nf"
   },
   "source": [
    "# Your answer here (no code for this question, write down your answer as detail as possible for the above questions):\n",
    "\n",
    "Text classification and text mining are crucial for converting unstructured text data into structured information that can be analyzed for decision-making. An intriguing task in this field is known as \"Intent Detection,\" which revolves around automatically discerning the fundamental objectives or intentions behind a given text. This capability holds immense value in diverse applications like customer support, marketing, and chatbots. In this assignment, I will explore the features that prove beneficial when constructing a machine learning model for intent detection.\n",
    "\n",
    "\n",
    "\n",
    "**Word2Vec Features:**\n",
    "\n",
    "Word embeddings like Word2Vec capture semantic connections among words by representing them in a continuous vector space. These features aid the model in comprehending word context and meaning within text, facilitating the recognition of similarities and associations between different phrases or keywords, which in turn helps classify text into specific intents for intent detection.\n",
    "\n",
    "**Linguistic Feature Extraction:**\n",
    "\n",
    "Linguistic features encompass various elements of language, including parts of speech, syntactic structures, and grammatical patterns. These features offer valuable insights into the syntactical and grammatical characteristics of the text. For instance, the identification of verbs, nouns, or specific grammatical structures can play a role in determining the intention conveyed by a sentence.\n",
    "\n",
    "**Dependency Parse:**\n",
    "\n",
    "Dependency parsing involves the analysis of a sentence's grammatical structure by identifying word relationships, such as subject-verb-object dependencies. The inclusion of dependency parse features assists the model in grasping the underlying structure and semantics of a sentence, facilitating intent classification. For example, the model can deduce an intent related to purchasing when it recognizes the relationship between \"buy\" and \"product\" in a sentence.\n",
    "\n",
    "**TF-IDF (Term Frequency-Inverse Document Frequency):**\n",
    "\n",
    "TF-IDF is a numerical measure that reflects a word's significance within a document compared to a corpus of documents. It proves beneficial in pinpointing keywords or phrases that strongly indicate specific intents. Words with high TF-IDF scores are likely to be pivotal in determining a text's intent. For instance, within a customer support context, the presence of words like \"refund\" or \"complaint\" with high TF-IDF scores may strongly suggest an intent related to issue resolution.\n",
    "\n",
    "**Entity Features:**\n",
    "\n",
    "Entities refer to specific named objects or concepts, such as product names, locations, or dates. The recognition and extraction of entities from text play a critical role in intent detection. For instance, when a text mentions \"booking a flight to New York on December 1st,\" the identification of entities like \"New York\" and \"December 1st\" is instrumental in classifying the intent as travel planning.\n",
    "\n",
    "In summary, constructing a machine learning model for intent detection requires a combination of diverse features to effectively capture the intricacies of human language and context. Word2Vec features provide semantic understanding, linguistic features offer insights into grammar, dependency parse reveals sentence structure, TF-IDF identifies key terms, and entity recognition pinpoints specific objects or concepts. By integrating these features, the model can reliably categorize text into meaningful intents, thereby enabling businesses to streamline processes and enhance customer service efficiency."
   ]
  },
  {
   "cell_type": "markdown",
   "metadata": {
    "id": "dEUjBE6C70nf"
   },
   "source": [
    "Question 2 (10 points): Write python code to extract these features you discussed above. You can collect a few sample text data for the feature extraction."
   ]
  },
  {
   "cell_type": "code",
   "execution_count": 3,
   "metadata": {},
   "outputs": [
    {
     "name": "stdout",
     "output_type": "stream",
     "text": [
      "Collecting nltk\n",
      "  Downloading nltk-3.8.1-py3-none-any.whl (1.5 MB)\n",
      "\u001b[K     |████████████████████████████████| 1.5 MB 5.3 MB/s eta 0:00:01\n",
      "\u001b[?25hRequirement already satisfied: tqdm in /Users/mounicatamalampudi/anaconda3/envs/tf/lib/python3.9/site-packages (from nltk) (4.65.0)\n",
      "Requirement already satisfied: joblib in /Users/mounicatamalampudi/anaconda3/envs/tf/lib/python3.9/site-packages (from nltk) (1.2.0)\n",
      "Collecting regex>=2021.8.3\n",
      "  Downloading regex-2023.10.3-cp39-cp39-macosx_10_9_x86_64.whl (296 kB)\n",
      "\u001b[K     |████████████████████████████████| 296 kB 63.1 MB/s eta 0:00:01\n",
      "\u001b[?25hRequirement already satisfied: click in /Users/mounicatamalampudi/anaconda3/envs/tf/lib/python3.9/site-packages (from nltk) (8.1.3)\n",
      "Installing collected packages: regex, nltk\n",
      "Successfully installed nltk-3.8.1 regex-2023.10.3\n"
     ]
    }
   ],
   "source": [
    "!pip install nltk"
   ]
  },
  {
   "cell_type": "code",
   "execution_count": 7,
   "metadata": {},
   "outputs": [
    {
     "name": "stdout",
     "output_type": "stream",
     "text": [
      "Collecting WordCloud\n",
      "  Downloading wordcloud-1.9.2-cp39-cp39-macosx_10_9_x86_64.whl (161 kB)\n",
      "\u001b[K     |████████████████████████████████| 161 kB 7.0 MB/s eta 0:00:01\n",
      "\u001b[?25hRequirement already satisfied: pillow in /Users/mounicatamalampudi/anaconda3/envs/tf/lib/python3.9/site-packages (from WordCloud) (9.5.0)\n",
      "Requirement already satisfied: numpy>=1.6.1 in /Users/mounicatamalampudi/anaconda3/envs/tf/lib/python3.9/site-packages (from WordCloud) (1.22.2)\n",
      "Requirement already satisfied: matplotlib in /Users/mounicatamalampudi/anaconda3/envs/tf/lib/python3.9/site-packages (from WordCloud) (3.7.1)\n",
      "Requirement already satisfied: contourpy>=1.0.1 in /Users/mounicatamalampudi/anaconda3/envs/tf/lib/python3.9/site-packages (from matplotlib->WordCloud) (1.0.7)\n",
      "Requirement already satisfied: python-dateutil>=2.7 in /Users/mounicatamalampudi/anaconda3/envs/tf/lib/python3.9/site-packages (from matplotlib->WordCloud) (2.8.2)\n",
      "Requirement already satisfied: packaging>=20.0 in /Users/mounicatamalampudi/anaconda3/envs/tf/lib/python3.9/site-packages (from matplotlib->WordCloud) (21.3)\n",
      "Requirement already satisfied: pyparsing>=2.3.1 in /Users/mounicatamalampudi/anaconda3/envs/tf/lib/python3.9/site-packages (from matplotlib->WordCloud) (3.0.4)\n",
      "Requirement already satisfied: cycler>=0.10 in /Users/mounicatamalampudi/anaconda3/envs/tf/lib/python3.9/site-packages (from matplotlib->WordCloud) (0.11.0)\n",
      "Requirement already satisfied: importlib-resources>=3.2.0 in /Users/mounicatamalampudi/anaconda3/envs/tf/lib/python3.9/site-packages (from matplotlib->WordCloud) (5.12.0)\n",
      "Requirement already satisfied: fonttools>=4.22.0 in /Users/mounicatamalampudi/anaconda3/envs/tf/lib/python3.9/site-packages (from matplotlib->WordCloud) (4.39.3)\n",
      "Requirement already satisfied: kiwisolver>=1.0.1 in /Users/mounicatamalampudi/anaconda3/envs/tf/lib/python3.9/site-packages (from matplotlib->WordCloud) (1.4.4)\n",
      "Requirement already satisfied: zipp>=3.1.0 in /Users/mounicatamalampudi/anaconda3/envs/tf/lib/python3.9/site-packages (from importlib-resources>=3.2.0->matplotlib->WordCloud) (3.15.0)\n",
      "Requirement already satisfied: six>=1.5 in /Users/mounicatamalampudi/anaconda3/envs/tf/lib/python3.9/site-packages (from python-dateutil>=2.7->matplotlib->WordCloud) (1.16.0)\n",
      "Installing collected packages: WordCloud\n",
      "Successfully installed WordCloud-1.9.2\n"
     ]
    }
   ],
   "source": [
    "!pip install WordCloud"
   ]
  },
  {
   "cell_type": "code",
   "execution_count": 8,
   "metadata": {
    "id": "EoQX5s4O70nf"
   },
   "outputs": [
    {
     "data": {
      "text/html": [
       "<div>\n",
       "<style scoped>\n",
       "    .dataframe tbody tr th:only-of-type {\n",
       "        vertical-align: middle;\n",
       "    }\n",
       "\n",
       "    .dataframe tbody tr th {\n",
       "        vertical-align: top;\n",
       "    }\n",
       "\n",
       "    .dataframe thead th {\n",
       "        text-align: right;\n",
       "    }\n",
       "</style>\n",
       "<table border=\"1\" class=\"dataframe\">\n",
       "  <thead>\n",
       "    <tr style=\"text-align: right;\">\n",
       "      <th></th>\n",
       "      <th>Review</th>\n",
       "      <th>word_Count</th>\n",
       "    </tr>\n",
       "  </thead>\n",
       "  <tbody>\n",
       "    <tr>\n",
       "      <th>0</th>\n",
       "      <td>A simple love story told in an engaging way.Th...</td>\n",
       "      <td>94</td>\n",
       "    </tr>\n",
       "    <tr>\n",
       "      <th>1</th>\n",
       "      <td>Being a huge Sethupathi-Trisha fan, undoubtedl...</td>\n",
       "      <td>109</td>\n",
       "    </tr>\n",
       "    <tr>\n",
       "      <th>2</th>\n",
       "      <td>96 is one of the rare movies where after enter...</td>\n",
       "      <td>56</td>\n",
       "    </tr>\n",
       "    <tr>\n",
       "      <th>3</th>\n",
       "      <td>96 is a elegant movie that is delicately craft...</td>\n",
       "      <td>59</td>\n",
       "    </tr>\n",
       "    <tr>\n",
       "      <th>4</th>\n",
       "      <td>'96 Digged out my heart and put into a past wo...</td>\n",
       "      <td>27</td>\n",
       "    </tr>\n",
       "  </tbody>\n",
       "</table>\n",
       "</div>"
      ],
      "text/plain": [
       "                                              Review  word_Count\n",
       "0  A simple love story told in an engaging way.Th...          94\n",
       "1  Being a huge Sethupathi-Trisha fan, undoubtedl...         109\n",
       "2  96 is one of the rare movies where after enter...          56\n",
       "3  96 is a elegant movie that is delicately craft...          59\n",
       "4  '96 Digged out my heart and put into a past wo...          27"
      ]
     },
     "execution_count": 8,
     "metadata": {},
     "output_type": "execute_result"
    }
   ],
   "source": [
    "import nltk\n",
    "from bs4 import BeautifulSoup as bs\n",
    "import pandas as pd\n",
    "import requests as rq\n",
    "from wordcloud import WordCloud\n",
    "from nltk.corpus import stopwords\n",
    "\n",
    "# Define the URL to collect sample text data from IMDb movie reviews\n",
    "url = 'https://www.imdb.com/title/tt7019842/reviews'\n",
    "\n",
    "# Create a DataFrame with a column to store review text\n",
    "df = pd.DataFrame(columns=['Review'])\n",
    "\n",
    "# Send an HTTP request to the URL and parse the HTML content\n",
    "req = rq.get(url).text\n",
    "soup = bs(req, 'html.parser')\n",
    "\n",
    "# Collect review text\n",
    "review_text = soup.find_all('div', attrs={'class' : 'text show-more__control'})\n",
    "\n",
    "# Create an empty list to store reviews\n",
    "review_list = []\n",
    "\n",
    "# Loop through the review_text and extract the text\n",
    "for i in range(len(review_text)):\n",
    "    review_list.append(review_text[i].get_text())\n",
    "\n",
    "# Assign the list of reviews to the DataFrame\n",
    "df['Review'] = review_list\n",
    "\n",
    "# Calculate the word count for each review\n",
    "df['word_Count'] = df['Review'].apply(lambda x: len(str(x).split(\" \")))\n",
    "\n",
    "# Display the DataFrame with review text and word count\n",
    "df[['Review', 'word_Count']].head()\n"
   ]
  },
  {
   "cell_type": "code",
   "execution_count": 9,
   "metadata": {},
   "outputs": [
    {
     "data": {
      "text/html": [
       "<div>\n",
       "<style scoped>\n",
       "    .dataframe tbody tr th:only-of-type {\n",
       "        vertical-align: middle;\n",
       "    }\n",
       "\n",
       "    .dataframe tbody tr th {\n",
       "        vertical-align: top;\n",
       "    }\n",
       "\n",
       "    .dataframe thead th {\n",
       "        text-align: right;\n",
       "    }\n",
       "</style>\n",
       "<table border=\"1\" class=\"dataframe\">\n",
       "  <thead>\n",
       "    <tr style=\"text-align: right;\">\n",
       "      <th></th>\n",
       "      <th>Review</th>\n",
       "      <th>char_Count</th>\n",
       "    </tr>\n",
       "  </thead>\n",
       "  <tbody>\n",
       "    <tr>\n",
       "      <th>0</th>\n",
       "      <td>A simple love story told in an engaging way.Th...</td>\n",
       "      <td>511</td>\n",
       "    </tr>\n",
       "    <tr>\n",
       "      <th>1</th>\n",
       "      <td>Being a huge Sethupathi-Trisha fan, undoubtedl...</td>\n",
       "      <td>661</td>\n",
       "    </tr>\n",
       "    <tr>\n",
       "      <th>2</th>\n",
       "      <td>96 is one of the rare movies where after enter...</td>\n",
       "      <td>330</td>\n",
       "    </tr>\n",
       "    <tr>\n",
       "      <th>3</th>\n",
       "      <td>96 is a elegant movie that is delicately craft...</td>\n",
       "      <td>325</td>\n",
       "    </tr>\n",
       "    <tr>\n",
       "      <th>4</th>\n",
       "      <td>'96 Digged out my heart and put into a past wo...</td>\n",
       "      <td>143</td>\n",
       "    </tr>\n",
       "  </tbody>\n",
       "</table>\n",
       "</div>"
      ],
      "text/plain": [
       "                                              Review  char_Count\n",
       "0  A simple love story told in an engaging way.Th...         511\n",
       "1  Being a huge Sethupathi-Trisha fan, undoubtedl...         661\n",
       "2  96 is one of the rare movies where after enter...         330\n",
       "3  96 is a elegant movie that is delicately craft...         325\n",
       "4  '96 Digged out my heart and put into a past wo...         143"
      ]
     },
     "execution_count": 9,
     "metadata": {},
     "output_type": "execute_result"
    }
   ],
   "source": [
    "df['char_Count'] = df['Review'].str.len() ## this also includes spaces\n",
    "df[['Review','char_Count']].head()"
   ]
  },
  {
   "cell_type": "code",
   "execution_count": 10,
   "metadata": {},
   "outputs": [
    {
     "name": "stderr",
     "output_type": "stream",
     "text": [
      "[nltk_data] Downloading package stopwords to\n",
      "[nltk_data]     /Users/mounicatamalampudi/nltk_data...\n",
      "[nltk_data]   Package stopwords is already up-to-date!\n"
     ]
    },
    {
     "data": {
      "text/html": [
       "<div>\n",
       "<style scoped>\n",
       "    .dataframe tbody tr th:only-of-type {\n",
       "        vertical-align: middle;\n",
       "    }\n",
       "\n",
       "    .dataframe tbody tr th {\n",
       "        vertical-align: top;\n",
       "    }\n",
       "\n",
       "    .dataframe thead th {\n",
       "        text-align: right;\n",
       "    }\n",
       "</style>\n",
       "<table border=\"1\" class=\"dataframe\">\n",
       "  <thead>\n",
       "    <tr style=\"text-align: right;\">\n",
       "      <th></th>\n",
       "      <th>Review</th>\n",
       "      <th>stopwords</th>\n",
       "    </tr>\n",
       "  </thead>\n",
       "  <tbody>\n",
       "    <tr>\n",
       "      <th>0</th>\n",
       "      <td>A simple love story told in an engaging way.Th...</td>\n",
       "      <td>39</td>\n",
       "    </tr>\n",
       "    <tr>\n",
       "      <th>1</th>\n",
       "      <td>Being a huge Sethupathi-Trisha fan, undoubtedl...</td>\n",
       "      <td>45</td>\n",
       "    </tr>\n",
       "    <tr>\n",
       "      <th>2</th>\n",
       "      <td>96 is one of the rare movies where after enter...</td>\n",
       "      <td>28</td>\n",
       "    </tr>\n",
       "    <tr>\n",
       "      <th>3</th>\n",
       "      <td>96 is a elegant movie that is delicately craft...</td>\n",
       "      <td>26</td>\n",
       "    </tr>\n",
       "    <tr>\n",
       "      <th>4</th>\n",
       "      <td>'96 Digged out my heart and put into a past wo...</td>\n",
       "      <td>12</td>\n",
       "    </tr>\n",
       "  </tbody>\n",
       "</table>\n",
       "</div>"
      ],
      "text/plain": [
       "                                              Review  stopwords\n",
       "0  A simple love story told in an engaging way.Th...         39\n",
       "1  Being a huge Sethupathi-Trisha fan, undoubtedl...         45\n",
       "2  96 is one of the rare movies where after enter...         28\n",
       "3  96 is a elegant movie that is delicately craft...         26\n",
       "4  '96 Digged out my heart and put into a past wo...         12"
      ]
     },
     "execution_count": 10,
     "metadata": {},
     "output_type": "execute_result"
    }
   ],
   "source": [
    "from nltk.corpus import stopwords\n",
    "\n",
    "import nltk\n",
    "nltk.download('stopwords')\n",
    "stop = stopwords.words('english')\n",
    "\n",
    "df['stopwords'] = df['Review'].apply(lambda x: len([x for x in x.split() if x in stop]))\n",
    "df[['Review','stopwords']].head()"
   ]
  },
  {
   "cell_type": "code",
   "execution_count": 11,
   "metadata": {},
   "outputs": [
    {
     "data": {
      "text/html": [
       "<div>\n",
       "<style scoped>\n",
       "    .dataframe tbody tr th:only-of-type {\n",
       "        vertical-align: middle;\n",
       "    }\n",
       "\n",
       "    .dataframe tbody tr th {\n",
       "        vertical-align: top;\n",
       "    }\n",
       "\n",
       "    .dataframe thead th {\n",
       "        text-align: right;\n",
       "    }\n",
       "</style>\n",
       "<table border=\"1\" class=\"dataframe\">\n",
       "  <thead>\n",
       "    <tr style=\"text-align: right;\">\n",
       "      <th></th>\n",
       "      <th>Review</th>\n",
       "      <th>Hastags</th>\n",
       "    </tr>\n",
       "  </thead>\n",
       "  <tbody>\n",
       "    <tr>\n",
       "      <th>0</th>\n",
       "      <td>A simple love story told in an engaging way.Th...</td>\n",
       "      <td>0</td>\n",
       "    </tr>\n",
       "    <tr>\n",
       "      <th>1</th>\n",
       "      <td>Being a huge Sethupathi-Trisha fan, undoubtedl...</td>\n",
       "      <td>0</td>\n",
       "    </tr>\n",
       "    <tr>\n",
       "      <th>2</th>\n",
       "      <td>96 is one of the rare movies where after enter...</td>\n",
       "      <td>0</td>\n",
       "    </tr>\n",
       "    <tr>\n",
       "      <th>3</th>\n",
       "      <td>96 is a elegant movie that is delicately craft...</td>\n",
       "      <td>0</td>\n",
       "    </tr>\n",
       "    <tr>\n",
       "      <th>4</th>\n",
       "      <td>'96 Digged out my heart and put into a past wo...</td>\n",
       "      <td>0</td>\n",
       "    </tr>\n",
       "  </tbody>\n",
       "</table>\n",
       "</div>"
      ],
      "text/plain": [
       "                                              Review  Hastags\n",
       "0  A simple love story told in an engaging way.Th...        0\n",
       "1  Being a huge Sethupathi-Trisha fan, undoubtedl...        0\n",
       "2  96 is one of the rare movies where after enter...        0\n",
       "3  96 is a elegant movie that is delicately craft...        0\n",
       "4  '96 Digged out my heart and put into a past wo...        0"
      ]
     },
     "execution_count": 11,
     "metadata": {},
     "output_type": "execute_result"
    }
   ],
   "source": [
    "df['Hastags'] = df['Review'].apply(lambda x: len([x for x in x.split() if x.startswith('#')]))\n",
    "df[['Review','Hastags']].head()"
   ]
  },
  {
   "cell_type": "code",
   "execution_count": 12,
   "metadata": {},
   "outputs": [
    {
     "data": {
      "text/html": [
       "<div>\n",
       "<style scoped>\n",
       "    .dataframe tbody tr th:only-of-type {\n",
       "        vertical-align: middle;\n",
       "    }\n",
       "\n",
       "    .dataframe tbody tr th {\n",
       "        vertical-align: top;\n",
       "    }\n",
       "\n",
       "    .dataframe thead th {\n",
       "        text-align: right;\n",
       "    }\n",
       "</style>\n",
       "<table border=\"1\" class=\"dataframe\">\n",
       "  <thead>\n",
       "    <tr style=\"text-align: right;\">\n",
       "      <th></th>\n",
       "      <th>Review</th>\n",
       "      <th>Numerics</th>\n",
       "    </tr>\n",
       "  </thead>\n",
       "  <tbody>\n",
       "    <tr>\n",
       "      <th>0</th>\n",
       "      <td>A simple love story told in an engaging way.Th...</td>\n",
       "      <td>0</td>\n",
       "    </tr>\n",
       "    <tr>\n",
       "      <th>1</th>\n",
       "      <td>Being a huge Sethupathi-Trisha fan, undoubtedl...</td>\n",
       "      <td>1</td>\n",
       "    </tr>\n",
       "    <tr>\n",
       "      <th>2</th>\n",
       "      <td>96 is one of the rare movies where after enter...</td>\n",
       "      <td>1</td>\n",
       "    </tr>\n",
       "    <tr>\n",
       "      <th>3</th>\n",
       "      <td>96 is a elegant movie that is delicately craft...</td>\n",
       "      <td>1</td>\n",
       "    </tr>\n",
       "    <tr>\n",
       "      <th>4</th>\n",
       "      <td>'96 Digged out my heart and put into a past wo...</td>\n",
       "      <td>0</td>\n",
       "    </tr>\n",
       "  </tbody>\n",
       "</table>\n",
       "</div>"
      ],
      "text/plain": [
       "                                              Review  Numerics\n",
       "0  A simple love story told in an engaging way.Th...         0\n",
       "1  Being a huge Sethupathi-Trisha fan, undoubtedl...         1\n",
       "2  96 is one of the rare movies where after enter...         1\n",
       "3  96 is a elegant movie that is delicately craft...         1\n",
       "4  '96 Digged out my heart and put into a past wo...         0"
      ]
     },
     "execution_count": 12,
     "metadata": {},
     "output_type": "execute_result"
    }
   ],
   "source": [
    "df['Numerics'] = df['Review'].apply(lambda x: len([x for x in x.split() if x.isdigit()]))\n",
    "df[['Review','Numerics']].head()"
   ]
  },
  {
   "cell_type": "code",
   "execution_count": 13,
   "metadata": {},
   "outputs": [
    {
     "data": {
      "text/html": [
       "<div>\n",
       "<style scoped>\n",
       "    .dataframe tbody tr th:only-of-type {\n",
       "        vertical-align: middle;\n",
       "    }\n",
       "\n",
       "    .dataframe tbody tr th {\n",
       "        vertical-align: top;\n",
       "    }\n",
       "\n",
       "    .dataframe thead th {\n",
       "        text-align: right;\n",
       "    }\n",
       "</style>\n",
       "<table border=\"1\" class=\"dataframe\">\n",
       "  <thead>\n",
       "    <tr style=\"text-align: right;\">\n",
       "      <th></th>\n",
       "      <th>Review</th>\n",
       "      <th>Upper</th>\n",
       "    </tr>\n",
       "  </thead>\n",
       "  <tbody>\n",
       "    <tr>\n",
       "      <th>0</th>\n",
       "      <td>A simple love story told in an engaging way.Th...</td>\n",
       "      <td>2</td>\n",
       "    </tr>\n",
       "    <tr>\n",
       "      <th>1</th>\n",
       "      <td>Being a huge Sethupathi-Trisha fan, undoubtedl...</td>\n",
       "      <td>2</td>\n",
       "    </tr>\n",
       "    <tr>\n",
       "      <th>2</th>\n",
       "      <td>96 is one of the rare movies where after enter...</td>\n",
       "      <td>0</td>\n",
       "    </tr>\n",
       "    <tr>\n",
       "      <th>3</th>\n",
       "      <td>96 is a elegant movie that is delicately craft...</td>\n",
       "      <td>0</td>\n",
       "    </tr>\n",
       "    <tr>\n",
       "      <th>4</th>\n",
       "      <td>'96 Digged out my heart and put into a past wo...</td>\n",
       "      <td>0</td>\n",
       "    </tr>\n",
       "  </tbody>\n",
       "</table>\n",
       "</div>"
      ],
      "text/plain": [
       "                                              Review  Upper\n",
       "0  A simple love story told in an engaging way.Th...      2\n",
       "1  Being a huge Sethupathi-Trisha fan, undoubtedl...      2\n",
       "2  96 is one of the rare movies where after enter...      0\n",
       "3  96 is a elegant movie that is delicately craft...      0\n",
       "4  '96 Digged out my heart and put into a past wo...      0"
      ]
     },
     "execution_count": 13,
     "metadata": {},
     "output_type": "execute_result"
    }
   ],
   "source": [
    "df['Upper'] = df['Review'].apply(lambda x: len([x for x in x.split() if x.isupper()]))\n",
    "df[['Review','Upper']].head()"
   ]
  },
  {
   "cell_type": "markdown",
   "metadata": {
    "id": "7oSK4soH70nf"
   },
   "source": [
    "Question 3 (10 points): Use any of the feature selection methods mentioned in this paper \"Deng, X., Li, Y., Weng, J., & Zhang, J. (2019). Feature selection for text classification: A review. Multimedia Tools & Applications, 78(3).\"\n",
    "\n",
    "Select the most important features you extracted above, rank the features based on their importance in the descending order."
   ]
  },
  {
   "cell_type": "code",
   "execution_count": 14,
   "metadata": {
    "id": "2CRuXfV570ng"
   },
   "outputs": [
    {
     "data": {
      "text/html": [
       "<div>\n",
       "<style scoped>\n",
       "    .dataframe tbody tr th:only-of-type {\n",
       "        vertical-align: middle;\n",
       "    }\n",
       "\n",
       "    .dataframe tbody tr th {\n",
       "        vertical-align: top;\n",
       "    }\n",
       "\n",
       "    .dataframe thead th {\n",
       "        text-align: right;\n",
       "    }\n",
       "</style>\n",
       "<table border=\"1\" class=\"dataframe\">\n",
       "  <thead>\n",
       "    <tr style=\"text-align: right;\">\n",
       "      <th></th>\n",
       "      <th>words</th>\n",
       "      <th>tf</th>\n",
       "    </tr>\n",
       "  </thead>\n",
       "  <tbody>\n",
       "    <tr>\n",
       "      <th>0</th>\n",
       "      <td>a</td>\n",
       "      <td>7</td>\n",
       "    </tr>\n",
       "    <tr>\n",
       "      <th>1</th>\n",
       "      <td>the</td>\n",
       "      <td>6</td>\n",
       "    </tr>\n",
       "    <tr>\n",
       "      <th>2</th>\n",
       "      <td>for</td>\n",
       "      <td>3</td>\n",
       "    </tr>\n",
       "    <tr>\n",
       "      <th>3</th>\n",
       "      <td>that</td>\n",
       "      <td>3</td>\n",
       "    </tr>\n",
       "    <tr>\n",
       "      <th>4</th>\n",
       "      <td>in</td>\n",
       "      <td>2</td>\n",
       "    </tr>\n",
       "    <tr>\n",
       "      <th>...</th>\n",
       "      <td>...</td>\n",
       "      <td>...</td>\n",
       "    </tr>\n",
       "    <tr>\n",
       "      <th>81</th>\n",
       "      <td>come</td>\n",
       "      <td>1</td>\n",
       "    </tr>\n",
       "    <tr>\n",
       "      <th>82</th>\n",
       "      <td>nostalgia</td>\n",
       "      <td>1</td>\n",
       "    </tr>\n",
       "    <tr>\n",
       "      <th>83</th>\n",
       "      <td>laughter,</td>\n",
       "      <td>1</td>\n",
       "    </tr>\n",
       "    <tr>\n",
       "      <th>84</th>\n",
       "      <td>moments</td>\n",
       "      <td>1</td>\n",
       "    </tr>\n",
       "    <tr>\n",
       "      <th>85</th>\n",
       "      <td>anyone!</td>\n",
       "      <td>1</td>\n",
       "    </tr>\n",
       "  </tbody>\n",
       "</table>\n",
       "<p>86 rows × 2 columns</p>\n",
       "</div>"
      ],
      "text/plain": [
       "        words  tf\n",
       "0           a   7\n",
       "1         the   6\n",
       "2         for   3\n",
       "3        that   3\n",
       "4          in   2\n",
       "..        ...  ..\n",
       "81       come   1\n",
       "82  nostalgia   1\n",
       "83  laughter,   1\n",
       "84    moments   1\n",
       "85    anyone!   1\n",
       "\n",
       "[86 rows x 2 columns]"
      ]
     },
     "execution_count": 14,
     "metadata": {},
     "output_type": "execute_result"
    }
   ],
   "source": [
    "# You code here (Please add comments in the code):\n",
    "text_classify = (df['Review'][1:2]).apply(lambda x: pd.value_counts(x.split(\" \"))).sum(axis = 0).reset_index()\n",
    "text_classify.columns =['words', 'tf']\n",
    "text_classify\n",
    "\n",
    "\n",
    "\n"
   ]
  },
  {
   "cell_type": "code",
   "execution_count": 15,
   "metadata": {},
   "outputs": [],
   "source": [
    "import numpy as np \n",
    "\n",
    "for i,word in enumerate(text_classify['words']):\n",
    "    text_classify.loc[i, 'idf'] = np.log(df.shape[0]/(len(df[df['Review'].str.contains(word)])))\n"
   ]
  },
  {
   "cell_type": "code",
   "execution_count": 16,
   "metadata": {},
   "outputs": [
    {
     "data": {
      "text/html": [
       "<div>\n",
       "<style scoped>\n",
       "    .dataframe tbody tr th:only-of-type {\n",
       "        vertical-align: middle;\n",
       "    }\n",
       "\n",
       "    .dataframe tbody tr th {\n",
       "        vertical-align: top;\n",
       "    }\n",
       "\n",
       "    .dataframe thead th {\n",
       "        text-align: right;\n",
       "    }\n",
       "</style>\n",
       "<table border=\"1\" class=\"dataframe\">\n",
       "  <thead>\n",
       "    <tr style=\"text-align: right;\">\n",
       "      <th></th>\n",
       "      <th>words</th>\n",
       "      <th>tf</th>\n",
       "      <th>idf</th>\n",
       "      <th>tfidf</th>\n",
       "    </tr>\n",
       "  </thead>\n",
       "  <tbody>\n",
       "    <tr>\n",
       "      <th>0</th>\n",
       "      <td>a</td>\n",
       "      <td>7</td>\n",
       "      <td>0.000000</td>\n",
       "      <td>7.000000</td>\n",
       "    </tr>\n",
       "    <tr>\n",
       "      <th>1</th>\n",
       "      <td>the</td>\n",
       "      <td>6</td>\n",
       "      <td>0.223144</td>\n",
       "      <td>6.223144</td>\n",
       "    </tr>\n",
       "    <tr>\n",
       "      <th>2</th>\n",
       "      <td>for</td>\n",
       "      <td>3</td>\n",
       "      <td>0.385662</td>\n",
       "      <td>3.385662</td>\n",
       "    </tr>\n",
       "    <tr>\n",
       "      <th>3</th>\n",
       "      <td>that</td>\n",
       "      <td>3</td>\n",
       "      <td>0.916291</td>\n",
       "      <td>3.916291</td>\n",
       "    </tr>\n",
       "    <tr>\n",
       "      <th>4</th>\n",
       "      <td>in</td>\n",
       "      <td>2</td>\n",
       "      <td>0.000000</td>\n",
       "      <td>2.000000</td>\n",
       "    </tr>\n",
       "    <tr>\n",
       "      <th>...</th>\n",
       "      <td>...</td>\n",
       "      <td>...</td>\n",
       "      <td>...</td>\n",
       "      <td>...</td>\n",
       "    </tr>\n",
       "    <tr>\n",
       "      <th>81</th>\n",
       "      <td>come</td>\n",
       "      <td>1</td>\n",
       "      <td>1.832581</td>\n",
       "      <td>2.832581</td>\n",
       "    </tr>\n",
       "    <tr>\n",
       "      <th>82</th>\n",
       "      <td>nostalgia</td>\n",
       "      <td>1</td>\n",
       "      <td>3.218876</td>\n",
       "      <td>4.218876</td>\n",
       "    </tr>\n",
       "    <tr>\n",
       "      <th>83</th>\n",
       "      <td>laughter,</td>\n",
       "      <td>1</td>\n",
       "      <td>3.218876</td>\n",
       "      <td>4.218876</td>\n",
       "    </tr>\n",
       "    <tr>\n",
       "      <th>84</th>\n",
       "      <td>moments</td>\n",
       "      <td>1</td>\n",
       "      <td>2.120264</td>\n",
       "      <td>3.120264</td>\n",
       "    </tr>\n",
       "    <tr>\n",
       "      <th>85</th>\n",
       "      <td>anyone!</td>\n",
       "      <td>1</td>\n",
       "      <td>3.218876</td>\n",
       "      <td>4.218876</td>\n",
       "    </tr>\n",
       "  </tbody>\n",
       "</table>\n",
       "<p>86 rows × 4 columns</p>\n",
       "</div>"
      ],
      "text/plain": [
       "        words  tf       idf     tfidf\n",
       "0           a   7  0.000000  7.000000\n",
       "1         the   6  0.223144  6.223144\n",
       "2         for   3  0.385662  3.385662\n",
       "3        that   3  0.916291  3.916291\n",
       "4          in   2  0.000000  2.000000\n",
       "..        ...  ..       ...       ...\n",
       "81       come   1  1.832581  2.832581\n",
       "82  nostalgia   1  3.218876  4.218876\n",
       "83  laughter,   1  3.218876  4.218876\n",
       "84    moments   1  2.120264  3.120264\n",
       "85    anyone!   1  3.218876  4.218876\n",
       "\n",
       "[86 rows x 4 columns]"
      ]
     },
     "execution_count": 16,
     "metadata": {},
     "output_type": "execute_result"
    }
   ],
   "source": [
    "text_classify['tfidf'] = text_classify['tf'] + text_classify['idf']\n",
    "text_classify"
   ]
  },
  {
   "cell_type": "markdown",
   "metadata": {
    "id": "7nZGAOwl70ng"
   },
   "source": [
    "Question 4 (10 points): Write python code to rank the text based on text similarity. Based on the text data you used for question 2, design a query to match the most relevant docments. Please use the BERT model to represent both your query and the text data, then calculate the cosine similarity between the query and each text in your data. Rank the similary with descending order."
   ]
  },
  {
   "cell_type": "code",
   "execution_count": 19,
   "metadata": {},
   "outputs": [
    {
     "name": "stdout",
     "output_type": "stream",
     "text": [
      "Collecting transformers\n",
      "  Downloading transformers-4.34.0-py3-none-any.whl (7.7 MB)\n",
      "\u001b[K     |████████████████████████████████| 7.7 MB 6.1 MB/s eta 0:00:01\n",
      "\u001b[?25hCollecting huggingface-hub<1.0,>=0.16.4\n",
      "  Downloading huggingface_hub-0.17.3-py3-none-any.whl (295 kB)\n",
      "\u001b[K     |████████████████████████████████| 295 kB 25.6 MB/s eta 0:00:01\n",
      "\u001b[?25hRequirement already satisfied: filelock in /Users/mounicatamalampudi/anaconda3/envs/tf/lib/python3.9/site-packages (from transformers) (3.12.0)\n",
      "Requirement already satisfied: regex!=2019.12.17 in /Users/mounicatamalampudi/anaconda3/envs/tf/lib/python3.9/site-packages (from transformers) (2023.10.3)\n",
      "Requirement already satisfied: numpy>=1.17 in /Users/mounicatamalampudi/anaconda3/envs/tf/lib/python3.9/site-packages (from transformers) (1.22.2)\n",
      "Collecting tokenizers<0.15,>=0.14\n",
      "  Downloading tokenizers-0.14.1-cp39-cp39-macosx_10_7_x86_64.whl (2.5 MB)\n",
      "\u001b[K     |████████████████████████████████| 2.5 MB 19.6 MB/s eta 0:00:01\n",
      "\u001b[?25hCollecting safetensors>=0.3.1\n",
      "  Downloading safetensors-0.4.0-cp39-cp39-macosx_10_7_x86_64.whl (439 kB)\n",
      "\u001b[K     |████████████████████████████████| 439 kB 9.5 MB/s eta 0:00:01\n",
      "\u001b[?25hRequirement already satisfied: packaging>=20.0 in /Users/mounicatamalampudi/anaconda3/envs/tf/lib/python3.9/site-packages (from transformers) (21.3)\n",
      "Requirement already satisfied: requests in /Users/mounicatamalampudi/anaconda3/envs/tf/lib/python3.9/site-packages (from transformers) (2.28.2)\n",
      "Requirement already satisfied: tqdm>=4.27 in /Users/mounicatamalampudi/anaconda3/envs/tf/lib/python3.9/site-packages (from transformers) (4.65.0)\n",
      "Requirement already satisfied: pyyaml>=5.1 in /Users/mounicatamalampudi/anaconda3/envs/tf/lib/python3.9/site-packages (from transformers) (6.0)\n",
      "Collecting fsspec\n",
      "  Downloading fsspec-2023.9.2-py3-none-any.whl (173 kB)\n",
      "\u001b[K     |████████████████████████████████| 173 kB 25.4 MB/s eta 0:00:01\n",
      "\u001b[?25hRequirement already satisfied: typing-extensions>=3.7.4.3 in /Users/mounicatamalampudi/anaconda3/envs/tf/lib/python3.9/site-packages (from huggingface-hub<1.0,>=0.16.4->transformers) (4.1.1)\n",
      "Requirement already satisfied: pyparsing!=3.0.5,>=2.0.2 in /Users/mounicatamalampudi/anaconda3/envs/tf/lib/python3.9/site-packages (from packaging>=20.0->transformers) (3.0.4)\n",
      "Requirement already satisfied: urllib3<1.27,>=1.21.1 in /Users/mounicatamalampudi/anaconda3/envs/tf/lib/python3.9/site-packages (from requests->transformers) (1.26.15)\n",
      "Requirement already satisfied: idna<4,>=2.5 in /Users/mounicatamalampudi/anaconda3/envs/tf/lib/python3.9/site-packages (from requests->transformers) (3.4)\n",
      "Requirement already satisfied: charset-normalizer<4,>=2 in /Users/mounicatamalampudi/anaconda3/envs/tf/lib/python3.9/site-packages (from requests->transformers) (2.1.1)\n",
      "Requirement already satisfied: certifi>=2017.4.17 in /Users/mounicatamalampudi/anaconda3/envs/tf/lib/python3.9/site-packages (from requests->transformers) (2022.12.7)\n",
      "Installing collected packages: fsspec, huggingface-hub, tokenizers, safetensors, transformers\n",
      "Successfully installed fsspec-2023.9.2 huggingface-hub-0.17.3 safetensors-0.4.0 tokenizers-0.14.1 transformers-4.34.0\n"
     ]
    }
   ],
   "source": [
    "!pip install transformers\n"
   ]
  },
  {
   "cell_type": "code",
   "execution_count": 20,
   "metadata": {
    "id": "b4HoWK-i70ng"
   },
   "outputs": [
    {
     "data": {
      "application/vnd.jupyter.widget-view+json": {
       "model_id": "5a0a238d859849338b35bb9514dae067",
       "version_major": 2,
       "version_minor": 0
      },
      "text/plain": [
       "Downloading (…)okenizer_config.json:   0%|          | 0.00/28.0 [00:00<?, ?B/s]"
      ]
     },
     "metadata": {},
     "output_type": "display_data"
    },
    {
     "data": {
      "application/vnd.jupyter.widget-view+json": {
       "model_id": "2423bd632d8b43809c027be2f5152c44",
       "version_major": 2,
       "version_minor": 0
      },
      "text/plain": [
       "Downloading (…)solve/main/vocab.txt:   0%|          | 0.00/232k [00:00<?, ?B/s]"
      ]
     },
     "metadata": {},
     "output_type": "display_data"
    },
    {
     "data": {
      "application/vnd.jupyter.widget-view+json": {
       "model_id": "38b3658ee9434a5eb2228d35e91272f4",
       "version_major": 2,
       "version_minor": 0
      },
      "text/plain": [
       "Downloading (…)/main/tokenizer.json:   0%|          | 0.00/466k [00:00<?, ?B/s]"
      ]
     },
     "metadata": {},
     "output_type": "display_data"
    },
    {
     "data": {
      "application/vnd.jupyter.widget-view+json": {
       "model_id": "2de51cb7d1854fad9379201ab0bf0f7a",
       "version_major": 2,
       "version_minor": 0
      },
      "text/plain": [
       "Downloading (…)lve/main/config.json:   0%|          | 0.00/570 [00:00<?, ?B/s]"
      ]
     },
     "metadata": {},
     "output_type": "display_data"
    },
    {
     "data": {
      "application/vnd.jupyter.widget-view+json": {
       "model_id": "cd4f7ce6e0e443b58f45d51ddf0c7557",
       "version_major": 2,
       "version_minor": 0
      },
      "text/plain": [
       "Downloading model.safetensors:   0%|          | 0.00/440M [00:00<?, ?B/s]"
      ]
     },
     "metadata": {},
     "output_type": "display_data"
    },
    {
     "name": "stdout",
     "output_type": "stream",
     "text": [
      "Query: The cinematography in '96' beautifully captures the essence of nostalgia...\n",
      "Rank 1: #96 squeezed my heart out.. heavy heart beats , cheek muscles were twitching coz I was trying to control myself from tearing up and somehow managed to not let them fall😅 It's a heart touching experience. Lots of 80s 90s memories refreshed. The screenplay is slow which I didn't find as a negative because that's how the director let's then situations and characters breathe in and make us feel how real this is. It's the beautiful memories and conversations between 2 ppl over a night. It takes guts to make a movie like this without comprising the original script by adding any unwanted commercial elements. I am in awe of Director Prem and his beautiful script. Loved his creation.Kaadhaley kaadhaley bgm with 96 title card brought goosebumps. Sounds of birds chirping , water flowing- Moments were lifted to another level by Govind Vasantha s music and Chinmayi s voice. If possible watch it without any disturbances without people around you joking or making comments. Memories of school days , love , lost love , past love and what not will pass through your mind. I loved it even more after second watch and still feel like watching it again that's the beauty of this film which is like poetry. Trisha and Vijay Sethupathi were fantastic. Trisha killed with her subtle and beautiful expressions , Vijay killed it with portraying an awkward shy guy. Excellent performances. They shared wonderful chemistry. Aadithya and Gowri as their childhood selves were fantastic woah! They build the foundation for the story. Again it takes guts and conviction to stay true to script and make a movie like this with just 2 main characters and their memories and conversations. I believe it's just Director Prem's reverence of love itself.\n",
      "Director Prem has created a classic. (Similarity: 0.7319)\n",
      "Rank 2: '96 isn't just a film. It isn't a mere love story, larger or smaller than life, it looked like pages of my diary - those pages that I'd find hard to turn to and look at, page filled with words that would break my soul, melted into a soothing tonic to slip a little easier down my throat that'd choke if I ever read them..There have been sagas of love, required and not, of love that has won and failed, films on live and even the questionable 'happily ever after' that follows, even ones that follow a failed love, to help one find meaning in life after it, but this one is medicine for the wounded heart, a means of ripping the bandage open, of letting the wound breathe, of letting the outside air kiss it to a gentle, nourishing recovery.. It is a journey to the past, and a journey within oneself, and will certainly overwhelm the gentle heart..I felt, and I'm sure countless others would've felt too, that elements of this journey were taken from a very personal portion of my life. The footsteps in this film echoed sounds I thought only my shoes made..Please watch it with an open mind, hold the film's hand as it walks you towards the sweet pain of the past, and you will see that sometimes, reliving something from a more wholesome perspective is all that is needed to soothe an aching heart.. (Similarity: 0.7308)\n",
      "Rank 3: I usually never rate 10/10, but this made me rate 10/10.When we talk about beautiful love stories, the movies like Autograph, VTV, Raja Rani and Meesaiya Murukku come into our mind. Now, 96 entered into this list which beautifully portrayed the reality.The direction by Prem Kumar is simply awesome, which will surely make the sensitive people cry( I'm one among them).The screenplay in this movie might be slow, yet it makes you travel through your childhood memories and guarantee an excellent journey.The story of this movie might be common, but the story itself portrays reality. Hence, it would be a great watch.The songs and BGM in this movie are purely awesome, which makes you travel deeper into the film.Cinematography plays a vital role in the beginning. It was purely great.The acting part is the best one in this movie. Vijay Sethupathi's natural acting, and Trisha's different acting than ever, made us travel through the film. (Similarity: 0.7299)\n",
      "Rank 4: I heard a lot about this film but I was waiting for its hindi dubbed version. I saw it yesterday. I was analysing the direction, cinematography, acting, lighting and other aspects as per my little understanding of film. I found this film very beautiful. I discussed some things of this film with some friends and brother. Then I slept with conclusion that - this is JUST a good film.When I wake up this morning, my mind was thinking about Jaanu. After some time, I saw into myself and found a 'little bit' (very very mild and on micro level) sadness that Jaanu left Ram and went back... Jaanu must be here - with Ram, with Me! I found myself (not exactly and so deeply, but somewhere) at the same place where Ram was in the end of film.\n",
      "Why should I bother about Ram and Jaanu ? That was just a film? There is no Jaanu in real! Yes, I know that!\n",
      "Yeah, that film has been entered in me subconsciously...\n",
      "That's the true MASTERPIECE.\n",
      "That's the power of a Film.\n",
      "Congratulations to all the cast and crew. (Similarity: 0.7122)\n",
      "Rank 5: 96 is one of the rare movies where after entering out of the theatre and seeing the ticket, it counter beckons you to enter for the next show.......It Was Nostalgic, Poetic, Romantic all in one......Hats Off to the crew for making this film the love of our life..........Vijay Setupati and Thrisha and their chemistry were magical (Similarity: 0.6950)\n",
      "Rank 6: Being a huge Sethupathi-Trisha fan, undoubtedly this was a hugely anticipated movie for me. But taking that bias away, the performers delivered makes you feel the pain, those moments of laughter, nostalgia come pouring out.As audience you can live through the characters' emotions.... Hats off to the director to have handled the subject in a mature way. With just one show a day here in Australia,vI watched a show that ended at 11:40 PM....It is now 6 AM and I couldn't shut my eyes for a second as the emotions keep flooding back.Astounding penances of a relatively simple concept that is delicately handled and masterfully delivered!A non-misser for anyone! (Similarity: 0.6925)\n",
      "Rank 7: Even I don't know a single word of Tamil language but after reading the reviews I decided to watch the movie with subtitles..but for the movie like this u don't need to communicate through the language...\n",
      "One of the best love story I have seen till date....the best part is that u can relate urself with the movie... It's doesn't seems like u r watching the movie...it's feels like u are living the story..... beautifully portrayed ....well acted ....and awesome music... (Similarity: 0.6736)\n",
      "Rank 8: Just watched 96.\n",
      "I waited so long for this movie to watch. I tried so hard to get this and finally downloaded today. A bit late.\n",
      "I'm literally in tears after this movie. What a great masterpiece written by C Premkumar and portrayed more beautifully by V. Sethupathi and T. Krishnan. It took me back to my school days and made me relive those beautiful moments when I first fallen in love.\n",
      "I don't have words to describe what I'm feeling write now, hand are shivering dunno what's the effect of the movie, this is gonna be the all time favorite movie of my life.\n",
      "Do watch it guys if you haven't watched it yet, you'll love it too. (Similarity: 0.6700)\n",
      "Rank 9: A simple love story told in an engaging way.This movie will break you, in a real sense. Time heals everything? Watch this one and you will understand they just fade so that you can find them again.Acting and music bring the movie from reel to\n",
      "real.It's unapologetic. Its sad. It will make you happy yet a drop of tear will come from your eyes.Love hurts? It doesn't. In the end all you can do is feel for the characters. But why? Because you see yourself.A movie never to be missed. A reunion with old memories. (Similarity: 0.6648)\n",
      "Rank 10: They never make such movies.Once in a while comes a movie that pulls your heart strings and brings a pain that lingers on. This pain is sweet. This pain is beautiful.Childhood love.... School love is pure... And this movie achieves 2 things - brings back the good old school days and brings back the innocent love...Thanks Vijay and Trisha to bringing back the good old romance in its purest form! (Similarity: 0.6571)\n",
      "Rank 11: A feel good movie which brought back many many school memories, I had a very pleasant nostalgic experience. It felt just wonderful by watching the movie, as the first half revolves mostly around puppy/budding love in school days which everyone would've crossed in their lives and second half around how they missed each other for more than 2 decades. The BGM was fantastic and bringing back the 90s experience with the same set of objects was just neat & clean, it triggerred and gave life to our earlier memory senses. It is a must watch movie for 90s kids. (Similarity: 0.6525)\n",
      "Rank 12: 96 is a elegant movie that is delicately crafted to bring out powerful emotions in you. Many moments scripted in the movie are minutes that are common to most 90's kids. These moments are heavy and heart breaking but also revitaliing. The movie brings the protagonists so close to each other and yet so far from one an other. (Similarity: 0.6448)\n",
      "Rank 13: I never want to wet my feet, though I was on the shores. Intentionally ignored such genre movies for a long time. Finally 96.,\n",
      "This wave just dragged me deep and swallowed me into it.No kisses,No lusty scenes,No double meanings,No punch dialogues,No fight sequence,No drama,No alcohol, Only love!💓 #96Movie demolishes all the superstitious scenes in Tamil cinema! Like a time machine, it makes everyone to go back to his/her first love! (Similarity: 0.6363)\n",
      "Rank 14: What a beautiful movie, so simple and so elegantly told. Ram and Janu will be forever etched in our hearts. In today's date when everything including love is instant, 96 is like slow brewing filter coffee which will blow you away with its aroma. In one word, Brilliant. (Similarity: 0.6116)\n",
      "Rank 15: One the best movie to bring back school life...\n",
      "All actor and actress performed well... (Similarity: 0.6050)\n",
      "Rank 16: There are movies you cannot genuinely review.Everything is good, nothing is bad. For me it was an emotional involvement for 153 hours. Despite being long, one wouldn't complain had it been even longer. 'Materpiece' is one of some words people connote such movies with. (Similarity: 0.6003)\n",
      "Rank 17: After a long time I watched a soulful love story.No words can describe the feel that gets from this movie .Superb performance from Vijay sethupathi and Trisha and great chemistry .Better try to watch in theaters. (Similarity: 0.5860)\n",
      "Rank 18: Oh Damn, I just watched this movie, The story reflects....Sorry, It was like my life Flashing before my eyes. Anyone, i mean anyone will Feel So Sorrowful That they cant even move a finger,Guys please Watch It. My words cannot do a justice for the Film, Its an\n",
      "Immersive Experience (Similarity: 0.5858)\n",
      "Rank 19: A feel good movie. Vijay Sethupathi & Trisha Krishnan have done a great job portraying Ram and Janu. You will be able to connect with the movie a lot because you will be seeing your reflections in them.96 - Not to be missed. (Similarity: 0.5833)\n",
      "Rank 20: My favorite movie so far.. it is full of emotions and feeling's it reminds our school life and first love of our life i loved it.. (Similarity: 0.5754)\n",
      "Rank 21: Seen movie ,but it's taken almost 4 hours to complete it , but it breaks my heart when both people separating once again , they knew that might this is their last time to see eachother , it breaks my heart I don't know how ? Nind aayengi ya nhi yeh b pata nahi yar but excellent acting, by Vijay Sethu pathi and Trisha Krishnan , love u guy's (Similarity: 0.5680)\n",
      "Rank 22: '96 Digged out my heart and put into a past world which was missed at the time. Great feeling, thanks for the wonderful movie done by Premkumar (Similarity: 0.5623)\n",
      "Rank 23: Watched the movie what a wonderful movie the movie starts with the love of 90's time where ram and jaanu fell in love later on they meet up after 22 years in reunion of '96s Batch and the story begins with lots of plot and soulful music (Similarity: 0.5591)\n",
      "Rank 24: I think South Indian movies should be also released in hindi it will be massive hit in hindi audience. Because hindi audience is hungry to watch this kind of content movies. ❤🇮🇳\n",
      "Love from Maharashtra. ⭐⭐⭐⭐⭐ (Similarity: 0.5251)\n",
      "Rank 25: This one has it all , everything true love , emotion . a must watch movie ! (Similarity: 0.5031)\n"
     ]
    }
   ],
   "source": [
    "# You code here (Please add comments in the code):\n",
    "\n",
    "\n",
    "import torch\n",
    "from transformers import BertTokenizer, BertModel\n",
    "from sklearn.metrics.pairwise import cosine_similarity\n",
    "import numpy as np\n",
    "\n",
    "# Load the pre-trained BERT model and tokenizer\n",
    "tokenizer = BertTokenizer.from_pretrained(\"bert-base-uncased\")\n",
    "model = BertModel.from_pretrained(\"bert-base-uncased\")\n",
    "\n",
    "# Sample text data \n",
    "texts = df['Review'].tolist()\n",
    "\n",
    "\n",
    "query = \"The cinematography in '96' beautifully captures the essence of nostalgia...\"\n",
    "\n",
    "\n",
    "\n",
    "# Tokenize and encode the query and texts\n",
    "query_tokens = tokenizer(query, padding=True, truncation=True, return_tensors=\"pt\")\n",
    "text_tokens = tokenizer(texts, padding=True, truncation=True, return_tensors=\"pt\")\n",
    "\n",
    "# Encode the query and texts using BERT\n",
    "with torch.no_grad():\n",
    "    query_embeddings = model(**query_tokens).last_hidden_state.mean(dim=1)\n",
    "    text_embeddings = model(**text_tokens).last_hidden_state.mean(dim=1)\n",
    "\n",
    "# Calculate cosine similarity\n",
    "cosine_similarities = cosine_similarity(query_embeddings, text_embeddings)\n",
    "\n",
    "# Rank documents by similarity in descending order\n",
    "ranking = np.argsort(cosine_similarities[0])[::-1]\n",
    "\n",
    "# Print the ranked documents\n",
    "print(\"Query:\", query)\n",
    "for i, idx in enumerate(ranking):\n",
    "    print(f\"Rank {i + 1}: {texts[idx]} (Similarity: {cosine_similarities[0][idx]:.4f})\")\n",
    "\n",
    "\n"
   ]
  },
  {
   "cell_type": "code",
   "execution_count": null,
   "metadata": {},
   "outputs": [],
   "source": []
  }
 ],
 "metadata": {
  "colab": {
   "provenance": []
  },
  "kernelspec": {
   "display_name": "Python 3 (ipykernel)",
   "language": "python",
   "name": "python3"
  },
  "language_info": {
   "codemirror_mode": {
    "name": "ipython",
    "version": 3
   },
   "file_extension": ".py",
   "mimetype": "text/x-python",
   "name": "python",
   "nbconvert_exporter": "python",
   "pygments_lexer": "ipython3",
   "version": "3.9.12"
  }
 },
 "nbformat": 4,
 "nbformat_minor": 1
}
