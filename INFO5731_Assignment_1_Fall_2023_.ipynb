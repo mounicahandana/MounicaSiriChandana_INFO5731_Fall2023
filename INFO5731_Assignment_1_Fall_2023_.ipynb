{
  "cells": [
    {
      "cell_type": "markdown",
      "metadata": {
        "id": "view-in-github",
        "colab_type": "text"
      },
      "source": [
        "<a href=\"https://colab.research.google.com/github/mounicahandana/MounicaSiriChandana_INFO5731_Fall2023/blob/main/INFO5731_Assignment_1_Fall_2023_.ipynb\" target=\"_parent\"><img src=\"https://colab.research.google.com/assets/colab-badge.svg\" alt=\"Open In Colab\"/></a>"
      ]
    },
    {
      "cell_type": "markdown",
      "metadata": {
        "id": "Ryk8D1Q4Wsrp"
      },
      "source": [
        "# **INFO5731 Assignment One**"
      ]
    },
    {
      "cell_type": "markdown",
      "metadata": {
        "id": "90_NR8c5XGWc"
      },
      "source": [
        "# Question 1\n",
        "\n",
        "(20 points). Write a Python program to generate 12 random numbers between 1 and 100. Sort the list of numbers in ascending order and print it out. Sort the list of numbers in descending order and print it out. Calculate the average for the group and print it out."
      ]
    },
    {
      "cell_type": "code",
      "execution_count": null,
      "metadata": {
        "id": "5QX6bJjGWXY9",
        "outputId": "304865fb-8c5a-43a7-dc65-b42c68e95c56"
      },
      "outputs": [
        {
          "name": "stdout",
          "output_type": "stream",
          "text": [
            "Random Numbers: [31, 76, 94, 88, 87, 40, 56, 38, 48, 36, 46, 23]\n",
            "Ascending Sorted: [23, 31, 36, 38, 40, 46, 48, 56, 76, 87, 88, 94]\n",
            "Descending Sorted: [94, 88, 87, 76, 56, 48, 46, 40, 38, 36, 31, 23]\n",
            "Average: 55.25\n"
          ]
        }
      ],
      "source": [
        "# Your code here\n",
        "import random\n",
        "\n",
        "# The generation of twelve random numbers between one and one hundred\n",
        "rand_numbers = [random.randint(1, 100) for i in range(12)]\n",
        "print(\"Random Numbers:\", rand_numbers)\n",
        "\n",
        "\n",
        "# Putting the list in order from top to bottom\n",
        "ascending_sort = sorted(rand_numbers)\n",
        "print(\"Ascending Sorted:\", ascending_sort)\n",
        "\n",
        "\n",
        "# Sorting the list from highest to lowest\n",
        "descending_sort = sorted(rand_numbers, reverse=True)\n",
        "print(\"Descending Sorted:\", descending_sort)\n",
        "\n",
        "# Getting the average\n",
        "total = sum(rand_numbers)\n",
        "avg = total / len(rand_numbers)\n",
        "\n",
        "# Printing the average\n",
        "print(\"Average:\", avg)\n",
        "\n"
      ]
    },
    {
      "cell_type": "markdown",
      "metadata": {
        "id": "1F_PZdH9Sh49"
      },
      "source": [
        "# Question 2\n",
        "(25 points).\n",
        "\n",
        "Write a program that will do the following string formatting tasks:\n",
        "\n",
        "(1) Ask the user to enter two sentences.\n",
        "\n",
        "(2) Make each sentence into a list. Each element in the list should correspond to a word in the sentence. For example, if the sentence is \"Alas! Am I alive? This is my first python program\", the program should print out ['Alas, '!', 'Am', 'I', 'alive, '?', 'This', 'is', 'my', 'first', 'python', 'program'].\n",
        "\n",
        "(3) Compare the two sentences. Print out a list of words that occur in both sentences.\n",
        "\n",
        "(4) Remove any punctuation from the sentence and print it back out. It should remove at least the following characters, but it can remove more: period(“.”), comma (“,”), semicolon (“;”), and colon (“:”)\n",
        "\n",
        "(5) Count the number of vowels in the sentences. Print out each vowel and the number of times it appears in the sentences, such as: a:2, e:1, i:0, etc"
      ]
    },
    {
      "cell_type": "code",
      "execution_count": null,
      "metadata": {
        "id": "LDS-Z-ykh-lQ",
        "outputId": "07652a8c-182f-4734-f51b-0be1adcaab47"
      },
      "outputs": [
        {
          "name": "stdout",
          "output_type": "stream",
          "text": [
            "Enter the first sentence: hi am i Alive ?\n",
            "Enter the second sentence: hi am i Alive ? yes !\n",
            "Word List 1: ['hi', 'am', 'i', 'alive', '?']\n",
            "Word List 2: ['hi', 'am', 'i', 'alive', '?', 'yes', '!']\n",
            "Common Words: ['?', 'am', 'i', 'alive', 'hi']\n",
            "Sentence 1 without punctuation: hi am i alive \n",
            "Sentence 2 without punctuation: hi am i alive  yes \n",
            "Vowel Counts in Sentence 1: {'a': 2, 'e': 1, 'i': 3, 'o': 0, 'u': 0}\n",
            "Vowel Counts in Sentence 2: {'a': 2, 'e': 2, 'i': 3, 'o': 0, 'u': 0}\n",
            "Vowel Counts in Common Words:\n",
            "?: {'a': 0, 'e': 0, 'i': 0, 'o': 0, 'u': 0}\n",
            "am: {'a': 1, 'e': 0, 'i': 0, 'o': 0, 'u': 0}\n",
            "i: {'a': 0, 'e': 0, 'i': 1, 'o': 0, 'u': 0}\n",
            "alive: {'a': 1, 'e': 1, 'i': 1, 'o': 0, 'u': 0}\n",
            "hi: {'a': 0, 'e': 0, 'i': 1, 'o': 0, 'u': 0}\n"
          ]
        }
      ],
      "source": [
        "import string\n",
        "\n",
        "# Prompt the user for input sentences\n",
        "input_sentence1 = input(\"Enter the first sentence: \")\n",
        "input_sentence2 = input(\"Enter the second sentence: \")\n",
        "\n",
        "# Split each sentence into a list of words, including punctuation\n",
        "def sentence_to_word_list(sentence):\n",
        "    words = []\n",
        "    word = ''\n",
        "    for char in sentence:\n",
        "        if char.isalnum() or char in string.punctuation:\n",
        "            word += char\n",
        "        else:\n",
        "            if word:\n",
        "                words.append(word.lower())  # Convert to lowercase\n",
        "            word = ''\n",
        "    if word:\n",
        "        words.append(word.lower())  # Convert to lowercase\n",
        "    return words\n",
        "\n",
        "word_list1 = sentence_to_word_list(input_sentence1)\n",
        "word_list2 = sentence_to_word_list(input_sentence2)\n",
        "\n",
        "# Find common words between the two sentences\n",
        "common_words = set(word_list1) & set(word_list2)\n",
        "\n",
        "# Remove punctuation from the sentences\n",
        "def remove_punctuation(sentence):\n",
        "    for char in string.punctuation:\n",
        "        sentence = sentence.replace(char, '')\n",
        "    return sentence\n",
        "\n",
        "sentence1_no_punct = remove_punctuation(input_sentence1)\n",
        "sentence2_no_punct = remove_punctuation(input_sentence2)\n",
        "\n",
        "# Count the number of vowels in the sentences after converting to lowercase\n",
        "vowels = \"aeiou\"\n",
        "sentence1_no_punct = sentence1_no_punct.lower()\n",
        "sentence2_no_punct = sentence2_no_punct.lower()\n",
        "\n",
        "vowel_counts_sentence1 = {vowel: sentence1_no_punct.count(vowel) for vowel in vowels}\n",
        "vowel_counts_sentence2 = {vowel: sentence2_no_punct.count(vowel) for vowel in vowels}\n",
        "\n",
        "# Print the results\n",
        "print(\"Word List 1:\", word_list1)\n",
        "print(\"Word List 2:\", word_list2)\n",
        "print(\"Common Words:\", list(common_words))\n",
        "print(\"Sentence 1 without punctuation:\", sentence1_no_punct)\n",
        "print(\"Sentence 2 without punctuation:\", sentence2_no_punct)\n",
        "print(\"Vowel Counts in Sentence 1:\", vowel_counts_sentence1)\n",
        "print(\"Vowel Counts in Sentence 2:\", vowel_counts_sentence2)\n",
        "\n",
        "# Count the number of vowels in common words between sentences\n",
        "common_words_vowel_counts = {}\n",
        "\n",
        "for word in common_words:\n",
        "    vowel_counts = {vowel: word.count(vowel) for vowel in vowels}\n",
        "    common_words_vowel_counts[word] = vowel_counts\n",
        "\n",
        "# Print the vowel counts for common words\n",
        "print(\"Vowel Counts in Common Words:\")\n",
        "for word, vowel_counts in common_words_vowel_counts.items():\n",
        "    print(f\"{word}: {vowel_counts}\")\n"
      ]
    },
    {
      "cell_type": "markdown",
      "metadata": {
        "id": "CmFoI4jDS9nx"
      },
      "source": [
        "# Question 3\n",
        "\n",
        "(15 points). The formula that describes the volume V of a sphere with radius r is the following:\n",
        "\n",
        "$ V=\\frac{4}{3}\\ast\\ \\pi\\ast\\ r^3 $\n",
        "\n",
        "Write a program to calculate the value of V when r is in the range of 1–10. Output the result in the following format:\n",
        "\n",
        "\tr\tV\n",
        "\t1\t…\n",
        "\t2\t…\n",
        "\t3\t…\n"
      ]
    },
    {
      "cell_type": "code",
      "execution_count": null,
      "metadata": {
        "id": "pEyqeioAT95b",
        "outputId": "3a109558-19b8-4db2-9f14-cc71eff11a3f"
      },
      "outputs": [
        {
          "name": "stdout",
          "output_type": "stream",
          "text": [
            "r    V\n",
            "1    4.19\n",
            "2    33.51\n",
            "3    113.10\n",
            "4    268.08\n",
            "5    523.60\n",
            "6    904.78\n",
            "7    1436.76\n",
            "8    2144.66\n",
            "9    3053.63\n",
            "10    4188.79\n"
          ]
        }
      ],
      "source": [
        "# Your code here\n",
        "import math\n",
        "\n",
        "# Make the heading\n",
        "print(\"r    V\")\n",
        "\n",
        "# Iterate over the range of radius from 1 to 10\n",
        "for i in range(1, 11):\n",
        "    # Calculate the volume using the formula\n",
        "    V = (4/3) * math.pi * (i ** 3)\n",
        "\n",
        "    # Print the radius r and the calculated volume V\n",
        "    print(f\"{i}    {V:.2f}\")\n",
        "\n"
      ]
    },
    {
      "cell_type": "markdown",
      "metadata": {
        "id": "z3tBE7E-Xn5X"
      },
      "source": [
        "# Question 4\n",
        "\n",
        "(40 points). In the field of Data Science, data is often formatted as a comma-delimited (CSV) file, where each line in a file corresponds to a field's value. Refer to Chapter 9 (p. 106) for more information on comma-delimited files. To answer this question, you will need to download the file [Assignment1_denton_housing.csv](https://raw.githubusercontent.com/unt-iialab/info5731-spring2022/main/assignments/Assignment1_denton_housing.csv) included with this assignment. The file [Assignment1_denton_housing.csv](https://raw.githubusercontent.com/unt-iialab/info5731-spring2022/main/assignments/Assignment1_denton_housing.csv) contains statistics about housing in the city of Denton from 2008 to 2014. Write a program to implement the following questions.\n",
        "\n",
        "(1) (10 pts) Calculate the difference in the number of Occupied Housing Units from year to year and print it. The difference must be calculated for the consecutive years such as 2008-2009, 2009-2010 etc. Finally, print the values in the ascending order.\n",
        "\n",
        "(2) (10 pts) For all the years, calculate the percentage of housing units which are vacant an occupied. Print the results in the following format:\n",
        "\n",
        "Year Vacant Housing Units Occupied Housing Units\n",
        "\n",
        "    2008  30%   70%                          \n",
        "\t2009 ----- -----\n",
        "\t2010 ----- -----\n",
        "    2011 ----- -----\n",
        "\t2012 ----- -----\n",
        "    2013 ----- -----\n",
        "\t2014 ----- -----\n",
        "  \n",
        "  \n",
        "\n",
        "(3) (10 pts) Calculate and print the valued and years in which the highest number of housing units were vacant and occupied. Print the results in the following format:  \n",
        "\n",
        "                              Year\tValue\n",
        "\tVacant Housing Units\t  -----   -----\n",
        "\tOccupied Housing Units\t-----   -----\n",
        "\n",
        "(4) (10 pts) Calculate the harmonic mean of the total housing units and print it out. You can find the information about harmonic mean here: https://ncalculators.com/statistics/harmonic-mean-calculator.htm"
      ]
    },
    {
      "cell_type": "code",
      "execution_count": null,
      "metadata": {
        "id": "lqGYuHBhcsRH",
        "outputId": "15e96f8e-cf10-4c2c-d7ef-b3c5ffcf1c2f"
      },
      "outputs": [
        {
          "data": {
            "text/html": [
              "<div>\n",
              "<style scoped>\n",
              "    .dataframe tbody tr th:only-of-type {\n",
              "        vertical-align: middle;\n",
              "    }\n",
              "\n",
              "    .dataframe tbody tr th {\n",
              "        vertical-align: top;\n",
              "    }\n",
              "\n",
              "    .dataframe thead th {\n",
              "        text-align: right;\n",
              "    }\n",
              "</style>\n",
              "<table border=\"1\" class=\"dataframe\">\n",
              "  <thead>\n",
              "    <tr style=\"text-align: right;\">\n",
              "      <th></th>\n",
              "      <th>year</th>\n",
              "      <th>title_field</th>\n",
              "      <th>value</th>\n",
              "    </tr>\n",
              "  </thead>\n",
              "  <tbody>\n",
              "    <tr>\n",
              "      <th>0</th>\n",
              "      <td>2014</td>\n",
              "      <td>Total Housing Units</td>\n",
              "      <td>49109</td>\n",
              "    </tr>\n",
              "    <tr>\n",
              "      <th>1</th>\n",
              "      <td>2014</td>\n",
              "      <td>Vacant Housing Units</td>\n",
              "      <td>2814</td>\n",
              "    </tr>\n",
              "    <tr>\n",
              "      <th>2</th>\n",
              "      <td>2014</td>\n",
              "      <td>Occupied Housing Units</td>\n",
              "      <td>46295</td>\n",
              "    </tr>\n",
              "    <tr>\n",
              "      <th>3</th>\n",
              "      <td>2013</td>\n",
              "      <td>Total Housing Units</td>\n",
              "      <td>47888</td>\n",
              "    </tr>\n",
              "    <tr>\n",
              "      <th>4</th>\n",
              "      <td>2013</td>\n",
              "      <td>Vacant Housing Units</td>\n",
              "      <td>4215</td>\n",
              "    </tr>\n",
              "  </tbody>\n",
              "</table>\n",
              "</div>"
            ],
            "text/plain": [
              "   year             title_field  value\n",
              "0  2014     Total Housing Units  49109\n",
              "1  2014    Vacant Housing Units   2814\n",
              "2  2014  Occupied Housing Units  46295\n",
              "3  2013     Total Housing Units  47888\n",
              "4  2013    Vacant Housing Units   4215"
            ]
          },
          "execution_count": 8,
          "metadata": {},
          "output_type": "execute_result"
        }
      ],
      "source": [
        "# Your code here\n",
        "import pandas as pd\n",
        "\n",
        "df = pd.read_csv(\"Assignment1_denton_housing.csv\")\n",
        "df.head()\n"
      ]
    },
    {
      "cell_type": "code",
      "execution_count": null,
      "metadata": {
        "id": "Ke7-pULBh-lS",
        "outputId": "e9fc5595-a567-410c-b64e-9eb1e82f4d44"
      },
      "outputs": [
        {
          "data": {
            "text/plain": [
              "(42, 3)"
            ]
          },
          "execution_count": 9,
          "metadata": {},
          "output_type": "execute_result"
        }
      ],
      "source": [
        "df.shape"
      ]
    },
    {
      "cell_type": "code",
      "execution_count": null,
      "metadata": {
        "id": "iZ6xG4pth-lS",
        "outputId": "cb978cea-776b-4292-a8e7-e8fd0ccc4096"
      },
      "outputs": [
        {
          "data": {
            "text/plain": [
              "year           0\n",
              "title_field    0\n",
              "value          0\n",
              "dtype: int64"
            ]
          },
          "execution_count": 10,
          "metadata": {},
          "output_type": "execute_result"
        }
      ],
      "source": [
        "df.isnull().sum()"
      ]
    },
    {
      "cell_type": "markdown",
      "metadata": {
        "id": "IyAcfyD_h-lS"
      },
      "source": [
        "### 1"
      ]
    },
    {
      "cell_type": "code",
      "execution_count": null,
      "metadata": {
        "id": "N_GSjogJh-lS",
        "outputId": "7078e4c1-6a82-4c49-9834-1b86f85ca998"
      },
      "outputs": [
        {
          "name": "stdout",
          "output_type": "stream",
          "text": [
            "2009-2010: -795\n",
            "2011-2012: -303\n",
            "2012-2013: 1404\n",
            "2013-2014: 1565\n",
            "2014-2015: 2622\n",
            "2010-2011: 5091\n"
          ]
        }
      ],
      "source": [
        "# Sort the DataFrame by the 'year' column in ascending order\n",
        "sorted_df = df.sort_values(by='year')\n",
        "\n",
        "# Create a new DataFrame containing data for 'Occupied Housing Units'\n",
        "occupied_housing_units = sorted_df[sorted_df['title_field'] == 'Occupied Housing Units'].copy()\n",
        "\n",
        "# Calculate the difference in occupied housing units from the previous year\n",
        "occupied_housing_units['Occupied Housing Units Difference'] = occupied_housing_units['value'].diff()\n",
        "\n",
        "# Create a DataFrame to store the year and the corresponding difference\n",
        "differences_df = occupied_housing_units[['year', 'Occupied Housing Units Difference']].dropna().astype({'year': int})\n",
        "\n",
        "# Sort the DataFrame by the difference in ascending order\n",
        "differences_df.sort_values(by='Occupied Housing Units Difference', ascending=True, inplace=True)\n",
        "\n",
        "# Iterate through the DataFrame and print the year ranges and differences\n",
        "for index, row in differences_df.iterrows():\n",
        "    start_year = row['year']\n",
        "    end_year = int(start_year) + 1\n",
        "    difference = int(row['Occupied Housing Units Difference'])\n",
        "    print(f\"{int(start_year)}-{end_year}: {difference}\")\n"
      ]
    },
    {
      "cell_type": "markdown",
      "metadata": {
        "id": "b2ncQM3Ch-lT"
      },
      "source": [
        "### 2"
      ]
    },
    {
      "cell_type": "code",
      "execution_count": null,
      "metadata": {
        "id": "sGXUpJ77h-lT",
        "outputId": "866ceba9-ca56-418b-b1fb-3be2c26a7939"
      },
      "outputs": [
        {
          "name": "stdout",
          "output_type": "stream",
          "text": [
            " Year  Vacant Housing Units  Occupied Housing Units\n",
            " 2008                   11%                     89%\n",
            " 2009                    9%                     91%\n",
            " 2010                    8%                     92%\n",
            " 2011                    9%                     91%\n",
            " 2012                    7%                     93%\n",
            " 2013                    9%                     91%\n",
            " 2014                    6%                     94%\n"
          ]
        }
      ],
      "source": [
        "# Filter the DataFrame to select only the relevant housing unit types: 'Total Housing Units', 'Vacant Housing Units', and 'Occupied Housing Units'\n",
        "filtered_housing_df = df[df['title_field'].isin(['Total Housing Units', 'Vacant Housing Units', 'Occupied Housing Units'])]\n",
        "\n",
        "# Pivot the DataFrame to transform 'year' into columns and 'title_field' as the values\n",
        "pivoted_housing_df = filtered_housing_df.pivot(index='year', columns='title_field', values='value')\n",
        "\n",
        "# Calculate the total housing units for each year by adding vacant and occupied units\n",
        "pivoted_housing_df['Total Housing Units'] = pivoted_housing_df['Vacant Housing Units'] + pivoted_housing_df['Occupied Housing Units']\n",
        "\n",
        "# Calculate the percentage of vacant and occupied housing units for each year\n",
        "pivoted_housing_df['Vacant Housing Units Percentage'] = (pivoted_housing_df['Vacant Housing Units'] / pivoted_housing_df['Total Housing Units']) * 100\n",
        "pivoted_housing_df['Occupied Housing Units Percentage'] = (pivoted_housing_df['Occupied Housing Units'] / pivoted_housing_df['Total Housing Units']) * 100\n",
        "\n",
        "# Create a resulting DataFrame for presentation\n",
        "resulting_df = pivoted_housing_df[['Vacant Housing Units Percentage', 'Occupied Housing Units Percentage']].reset_index()\n",
        "resulting_df.columns = ['Year', 'Vacant Housing Units', 'Occupied Housing Units']\n",
        "\n",
        "# Print the results with proper formatting\n",
        "print(resulting_df.to_string(index=False, na_rep='-----', float_format='%.0f%%'))\n"
      ]
    },
    {
      "cell_type": "markdown",
      "metadata": {
        "id": "L8MfiiPwh-lT"
      },
      "source": [
        "### 3"
      ]
    },
    {
      "cell_type": "code",
      "execution_count": null,
      "metadata": {
        "id": "U7x_wEnih-lT",
        "outputId": "cc99339f-c2df-4c28-f677-1c87661a2d2c"
      },
      "outputs": [
        {
          "name": "stdout",
          "output_type": "stream",
          "text": [
            "                        Year  Value\n",
            "Vacant Housing Units    2008   4483\n",
            "Occupied Housing Units  2014  46295\n"
          ]
        }
      ],
      "source": [
        "# Pivot the DataFrame to restructure it with years as columns and 'Vacant Housing Units' and 'Occupied Housing Units' as values\n",
        "housing_units_pivot = df.pivot(index='year', columns='title_field', values='value')\n",
        "\n",
        "# Find the year with the highest number of vacant housing units\n",
        "year_with_highest_vacancy = housing_units_pivot['Vacant Housing Units'].idxmax()\n",
        "highest_vacant_units_value = housing_units_pivot['Vacant Housing Units'].max()\n",
        "\n",
        "# Find the year with the highest number of occupied housing units\n",
        "year_with_highest_occupation = housing_units_pivot['Occupied Housing Units'].idxmax()\n",
        "highest_occupied_units_value = housing_units_pivot['Occupied Housing Units'].max()\n",
        "\n",
        "# Create a DataFrame to store and present the results\n",
        "results_df = pd.DataFrame({\n",
        "    'Year': [year_with_highest_vacancy, year_with_highest_occupation],\n",
        "    'Value': [highest_vacant_units_value, highest_occupied_units_value]\n",
        "})\n",
        "\n",
        "# Rename the index values for better readability\n",
        "results_df.index = ['Vacant Housing Units ', 'Occupied Housing Units']\n",
        "\n",
        "# Print the results\n",
        "print(results_df.to_string(index=True, header=True))\n"
      ]
    },
    {
      "cell_type": "markdown",
      "metadata": {
        "id": "Am7NeD91h-lT"
      },
      "source": [
        "### 4"
      ]
    },
    {
      "cell_type": "code",
      "execution_count": null,
      "metadata": {
        "id": "w0wy8QT0h-lT",
        "outputId": "a4be065c-04fe-4653-c3bc-5f6aa38c00a5"
      },
      "outputs": [
        {
          "name": "stdout",
          "output_type": "stream",
          "text": [
            "Harmonic Mean of Total Housing Units: 44398.28543969185\n"
          ]
        }
      ],
      "source": [
        "import statistics\n",
        "\n",
        "# Filter the DataFrame to isolate data for 'Total Housing Units' and convert it to a list\n",
        "housing_units_values = df[df['title_field'] == 'Total Housing Units']['value'].tolist()\n",
        "\n",
        "# Calculate the harmonic mean using the statistics module\n",
        "harmonic_mean_result = statistics.harmonic_mean(housing_units_values)\n",
        "\n",
        "# Print the calculated harmonic mean\n",
        "print(\"Harmonic Mean of Total Housing Units:\", harmonic_mean_result)\n"
      ]
    },
    {
      "cell_type": "markdown",
      "metadata": {
        "id": "1xN3pgb1h-lT"
      },
      "source": [
        "### Thank you!"
      ]
    }
  ],
  "metadata": {
    "colab": {
      "provenance": [],
      "include_colab_link": true
    },
    "kernelspec": {
      "display_name": "Python 3 (ipykernel)",
      "language": "python",
      "name": "python3"
    },
    "language_info": {
      "codemirror_mode": {
        "name": "ipython",
        "version": 3
      },
      "file_extension": ".py",
      "mimetype": "text/x-python",
      "name": "python",
      "nbconvert_exporter": "python",
      "pygments_lexer": "ipython3",
      "version": "3.10.9"
    }
  },
  "nbformat": 4,
  "nbformat_minor": 0
}